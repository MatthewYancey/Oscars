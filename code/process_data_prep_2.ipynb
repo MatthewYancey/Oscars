{
 "cells": [
  {
   "cell_type": "code",
   "execution_count": 37,
   "metadata": {},
   "outputs": [],
   "source": [
    "import pandas as pd\n",
    "import numpy as np\n",
    "import os"
   ]
  },
  {
   "cell_type": "markdown",
   "metadata": {},
   "source": [
    "#### Formats the data set"
   ]
  },
  {
   "cell_type": "code",
   "execution_count": 38,
   "metadata": {},
   "outputs": [],
   "source": [
    "df_reviews = pd.read_csv(os.getcwd() + '/../data_raw/reviews.csv')\n",
    "\n",
    "df_reviews['bo_domestic'] = df_reviews['bo_domestic'].str.replace(',', '')\n",
    "df_reviews['bo_foreign'] = df_reviews['bo_foreign'].str.replace(',', '')\n",
    "df_reviews['bo_domestic'] = df_reviews['bo_domestic'].map(str)\n",
    "df_reviews['bo_foreign'] = df_reviews['bo_foreign'].map(str)\n",
    "\n",
    "# saves off the gross for later\n",
    "df_gross = df_reviews.loc[:, ['movie', 'bo_domestic', 'bo_foreign']]\n",
    "df_reviews = df_reviews.drop(['bo_domestic', 'bo_foreign'], axis=1)\n",
    "\n",
    "for c in ['imdb_18', 'imdb_18_29', 'imdb_30_44', 'imdb_45']:\n",
    "    df_reviews[c] = df_reviews[c] * 10\n",
    "\n",
    "df_reviews = pd.melt(df_reviews, id_vars='movie')\n",
    "max_categories = [['imdb_18', 'imdb_18_29', 'imdb_30_44', 'imdb_45'],\n",
    "                  ['rt_all_critics', 'rt_top_critics', 'rt_audience_score']]    \n",
    "\n",
    "df_reviews['max'] = 0\n",
    "for category in max_categories:\n",
    "    max_name = category[0][:2] + '_max'\n",
    "    for movie in df_reviews['movie'].unique():\n",
    "        max_value = max(df_reviews.loc[(df_reviews['movie'] == movie) & (df_reviews['variable'].isin(category)), 'value'])\n",
    "        df_reviews.loc[(df_reviews['movie'] == movie) &\n",
    "                       (df_reviews['variable'].isin(category)) &\n",
    "                       (df_reviews['value'] == max_value), 'max'] = 1"
   ]
  },
  {
   "cell_type": "markdown",
   "metadata": {},
   "source": [
    "#### This does some trig to get the x and y for the radar char"
   ]
  },
  {
   "cell_type": "code",
   "execution_count": 39,
   "metadata": {},
   "outputs": [],
   "source": [
    "radius = 100\n",
    "n_spokes = 7\n",
    "angle_between_spokes = 360 / n_spokes\n",
    "df_reviews['x_radar'] = 0\n",
    "df_reviews['y_radar'] = 0\n",
    "df_reviews['index_radar'] = 0\n",
    "added_rows = []\n",
    "for i, row in df_reviews.iterrows():\n",
    "    if row['variable'] == 'imdb_18':\n",
    "        spoke = 5\n",
    "    elif row['variable'] == 'imdb_18_29':\n",
    "        spoke = 4\n",
    "    elif row['variable'] == 'imdb_30_44':\n",
    "        spoke = 3\n",
    "    elif row['variable'] == 'imdb_45':\n",
    "        spoke = 2\n",
    "    elif row['variable'] == 'rt_all_critics':\n",
    "        spoke = 6\n",
    "    elif row['variable'] == 'rt_top_critics':\n",
    "        spoke = 0\n",
    "    elif row['variable'] == 'rt_audience_score':\n",
    "        spoke = 1\n",
    "    else:\n",
    "        continue\n",
    "\n",
    "    if spoke - 1 == n_spokes:\n",
    "        spoke_next = 0\n",
    "    else:\n",
    "        spoke_next = spoke + 1\n",
    "        \n",
    "    df_reviews.loc[i, 'index_radar'] = 0\n",
    "\n",
    "    # calculates the angles and x and y values\n",
    "    angle = (spoke * (angle_between_spokes) - (angle_between_spokes / 2)) * np.pi / 180\n",
    "    next_angle = (spoke_next * (angle_between_spokes) - (angle_between_spokes / 2)) * np.pi / 180\n",
    "    \n",
    "    df_reviews.loc[i, 'y_radar'] = np.cos(angle) * row['value']\n",
    "    df_reviews.loc[i, 'x_radar'] = np.sin(angle) * row['value']\n",
    "    y_radar_2 = np.cos(next_angle) * row['value']\n",
    "    x_radar_2 = np.sin(next_angle) * row['value']\n",
    "    \n",
    "    # adds the rows\n",
    "    added_rows.append([row['movie'], row['variable'], row['value'], row['max'], x_radar_2, y_radar_2, 1])\n",
    "    added_rows.append([row['movie'], row['variable'], row['value'], row['max'], 0, 0, 2])\n",
    "\n",
    "df_reviews = df_reviews.append(pd.DataFrame(added_rows, columns=['movie', 'variable', 'value', 'max', 'x_radar', 'y_radar', 'index_radar']))\n",
    "\n",
    "# creates a second index value \n",
    "df_reviews = df_reviews.sort_values(['movie', 'variable', 'index_radar']).reset_index(drop=True)\n",
    "df_reviews['index_radar_2'] = 1\n",
    "df_reviews['index_radar_2'] = df_reviews.groupby(['movie'])['index_radar_2'].cumsum()\n",
    "df_reviews.to_csv(os.getcwd() + '/../data_raw/df_reviews_2.csv', index=False)"
   ]
  },
  {
   "cell_type": "markdown",
   "metadata": {},
   "source": [
    "#### Combines the box office data"
   ]
  },
  {
   "cell_type": "code",
   "execution_count": 40,
   "metadata": {},
   "outputs": [
    {
     "name": "stderr",
     "output_type": "stream",
     "text": [
      "/Users/mattyancey/anaconda3/lib/python3.6/site-packages/pandas/core/frame.py:6211: FutureWarning: Sorting because non-concatenation axis is not aligned. A future version\n",
      "of pandas will change to not sort by default.\n",
      "\n",
      "To accept the future behavior, pass 'sort=False'.\n",
      "\n",
      "To retain the current behavior and silence the warning, pass 'sort=True'.\n",
      "\n",
      "  sort=sort)\n"
     ]
    }
   ],
   "source": [
    "list_file = ['black_panther', 'blackkklansman', 'bohemian_rhapsody', 'the_favourite', \n",
    "             'green_book', 'a_star_is_born', 'vice', 'roma']\n",
    "wanted_columns = ['country', 'total_gross', 'movie']\n",
    "\n",
    "df_box_office = None\n",
    "for file in list_file:\n",
    "    # reads in each file\n",
    "    df_temp = pd.read_csv(os.getcwd() + '/../data_raw/' + file + '.csv',\n",
    "                          names=['country', 'dist', 'release_date', 'opening_weekend', 'percnt_total', 'total_gross', 'as_of'])\n",
    "\n",
    "    # formats the gross as an int\n",
    "    df_temp['total_gross'] = df_temp['total_gross'].str.replace(',', '')\n",
    "    df_temp['total_gross'] = df_temp['total_gross'].str.replace('$', '')\n",
    "    \n",
    "    # gets and appends the domestic gross\n",
    "    domestic_gross = df_gross.loc[df_gross['movie'] == file.replace('_', ' '), 'bo_domestic'].values[0]\n",
    "    df_new_row = pd.DataFrame([['United States', '', '', '', '', '', domestic_gross]], \n",
    "                              columns=['country', 'dist', 'release_date', 'opening_weekend', 'percnt_total', 'as_of', 'total_gross'])    \n",
    "    df_temp = df_temp.append(df_new_row)\n",
    "\n",
    "    # adds the film's name\n",
    "    df_temp['movie'] = file\n",
    "\n",
    "    # appends all results\n",
    "    if df_box_office is None:\n",
    "        df_box_office = df_temp.copy()\n",
    "    else:\n",
    "        df_box_office = df_box_office.append(df_temp)\n",
    "    \n",
    "    df_box_office = df_box_office.loc[~df_box_office['country'].isnull(), :].reset_index(drop=True)\n",
    "    df_box_office['total_gross'] = df_box_office['total_gross'].map(int)\n",
    "\n",
    "df_box_office = df_box_office.loc[:, wanted_columns]\n"
   ]
  },
  {
   "cell_type": "markdown",
   "metadata": {},
   "source": [
    "#### Creates the x and y values for the radar chart"
   ]
  },
  {
   "cell_type": "code",
   "execution_count": 41,
   "metadata": {},
   "outputs": [
    {
     "name": "stderr",
     "output_type": "stream",
     "text": [
      "/Users/mattyancey/anaconda3/lib/python3.6/site-packages/ipykernel_launcher.py:3: RuntimeWarning: divide by zero encountered in log\n",
      "  This is separate from the ipykernel package so we can avoid doing imports until\n"
     ]
    }
   ],
   "source": [
    "countries = ['France', 'South Korea', 'Japan', 'Australia', 'United Kingdom', 'United States', 'China']\n",
    "df_box_office = df_box_office.loc[df_box_office['country'].isin(countries), ['movie', 'country', 'total_gross']].reset_index(drop=True)\n",
    "df_box_office['total_gross_log'] = np.log(df_box_office['total_gross'])\n",
    "\n",
    "# adds any missing countries\n",
    "new_rows = []\n",
    "for country in countries:\n",
    "    for movie in df_box_office['movie'].unique():\n",
    "        if df_box_office.loc[(df_box_office['country'] == country) &\n",
    "                             (df_box_office['movie'] == movie), :].shape[0] == 0:\n",
    "            new_rows.append([movie, country, 0])\n",
    "\n",
    "df_box_office = df_box_office.append(pd.DataFrame(new_rows, columns=['movie', 'country', 'total_gross_log']))\n",
    "df_box_office = df_box_office.sort_values('movie').reset_index(drop=True)\n",
    "\n",
    "n_spokes = 7\n",
    "spoke_next = 0\n",
    "df_box_office['x_radar'] = 0\n",
    "df_box_office['y_radar'] = 0\n",
    "df_box_office['index_radar'] = 0\n",
    "added_rows = []\n",
    "for i, row in df_box_office.iterrows():\n",
    "    if row['country'] == countries[0]:\n",
    "        spoke = 5\n",
    "    elif row['country'] == countries[1]:\n",
    "        spoke = 4\n",
    "    elif row['country'] == countries[2]:\n",
    "        spoke = 3\n",
    "    elif row['country'] == countries[3]:\n",
    "        spoke = 2\n",
    "    elif row['country'] == countries[4]:\n",
    "        spoke = 6\n",
    "    elif row['country'] == countries[5]:\n",
    "        spoke = 0\n",
    "    elif row['country'] == countries[6]:\n",
    "        spoke = 1\n",
    "    else:\n",
    "        continue\n",
    "\n",
    "    if spoke == n_spokes:\n",
    "        spoke_next = 0\n",
    "    else:\n",
    "        spoke_next = spoke + 1\n",
    "        \n",
    "    df_box_office.loc[i, 'index_radar'] = 0\n",
    "    \n",
    "    # calculates the angles and x and y values\n",
    "    angle = (spoke * (angle_between_spokes) - (angle_between_spokes / 2)) * np.pi / 180\n",
    "    next_angle = (spoke_next * (angle_between_spokes) - (angle_between_spokes / 2)) * np.pi / 180\n",
    "\n",
    "    df_box_office.loc[i, 'y_radar'] = np.cos(angle) * row['total_gross_log']\n",
    "    df_box_office.loc[i, 'x_radar'] = np.sin(angle) * row['total_gross_log']\n",
    "    y_radar_2 = np.cos(next_angle) * row['total_gross_log']\n",
    "    x_radar_2 = np.sin(next_angle) * row['total_gross_log']\n",
    "\n",
    "    added_rows.append([row['country'], row['movie'], row['total_gross'], \n",
    "                       row['total_gross_log'], x_radar_2, y_radar_2, 1])\n",
    "    added_rows.append([row['country'], row['movie'], row['total_gross'], \n",
    "                       row['total_gross_log'], 0, 0, 2])\n",
    "\n",
    "df_box_office = df_box_office.append(pd.DataFrame(added_rows,\n",
    "                                                  columns=['country', 'movie', 'total_gross',\n",
    "                                                           'total_gross_log', 'x_radar', 'y_radar',\n",
    "                                                           'index_radar']))\n",
    "\n",
    "# creates a second index value \n",
    "df_box_office = df_box_office.sort_values(['movie', 'country', 'index_radar']).reset_index(drop=True)\n",
    "df_box_office['index_radar_2'] = 1\n",
    "df_box_office['index_radar_2'] = df_box_office.groupby(['movie'])['index_radar_2'].cumsum()\n",
    "\n",
    "df_box_office.to_csv(os.getcwd() + '/../data_raw/df_box_office_2.csv', index=False)"
   ]
  },
  {
   "cell_type": "code",
   "execution_count": null,
   "metadata": {},
   "outputs": [],
   "source": []
  }
 ],
 "metadata": {
  "kernelspec": {
   "display_name": "Python 3",
   "language": "python",
   "name": "python3"
  },
  "language_info": {
   "codemirror_mode": {
    "name": "ipython",
    "version": 3
   },
   "file_extension": ".py",
   "mimetype": "text/x-python",
   "name": "python",
   "nbconvert_exporter": "python",
   "pygments_lexer": "ipython3",
   "version": "3.6.6"
  }
 },
 "nbformat": 4,
 "nbformat_minor": 2
}
