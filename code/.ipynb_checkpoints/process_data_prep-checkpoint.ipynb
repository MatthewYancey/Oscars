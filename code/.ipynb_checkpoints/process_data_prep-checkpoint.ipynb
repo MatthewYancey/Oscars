{
 "cells": [
  {
   "cell_type": "code",
   "execution_count": 1,
   "metadata": {},
   "outputs": [],
   "source": [
    "import pandas as pd\n",
    "import numpy as np\n",
    "import os"
   ]
  },
  {
   "cell_type": "markdown",
   "metadata": {},
   "source": [
    "#### Formats and saves the review data"
   ]
  },
  {
   "cell_type": "code",
   "execution_count": 2,
   "metadata": {},
   "outputs": [
    {
     "data": {
      "text/html": [
       "<div>\n",
       "<style scoped>\n",
       "    .dataframe tbody tr th:only-of-type {\n",
       "        vertical-align: middle;\n",
       "    }\n",
       "\n",
       "    .dataframe tbody tr th {\n",
       "        vertical-align: top;\n",
       "    }\n",
       "\n",
       "    .dataframe thead th {\n",
       "        text-align: right;\n",
       "    }\n",
       "</style>\n",
       "<table border=\"1\" class=\"dataframe\">\n",
       "  <thead>\n",
       "    <tr style=\"text-align: right;\">\n",
       "      <th></th>\n",
       "      <th>movie</th>\n",
       "      <th>variable</th>\n",
       "      <th>value</th>\n",
       "      <th>max</th>\n",
       "    </tr>\n",
       "  </thead>\n",
       "  <tbody>\n",
       "    <tr>\n",
       "      <th>0</th>\n",
       "      <td>black panther</td>\n",
       "      <td>imdb_18</td>\n",
       "      <td>80.0</td>\n",
       "      <td>1</td>\n",
       "    </tr>\n",
       "    <tr>\n",
       "      <th>1</th>\n",
       "      <td>blackkklansman</td>\n",
       "      <td>imdb_18</td>\n",
       "      <td>81.0</td>\n",
       "      <td>1</td>\n",
       "    </tr>\n",
       "    <tr>\n",
       "      <th>2</th>\n",
       "      <td>bohemian rhapsody</td>\n",
       "      <td>imdb_18</td>\n",
       "      <td>84.0</td>\n",
       "      <td>1</td>\n",
       "    </tr>\n",
       "    <tr>\n",
       "      <th>3</th>\n",
       "      <td>the favourite</td>\n",
       "      <td>imdb_18</td>\n",
       "      <td>82.0</td>\n",
       "      <td>1</td>\n",
       "    </tr>\n",
       "    <tr>\n",
       "      <th>4</th>\n",
       "      <td>green book</td>\n",
       "      <td>imdb_18</td>\n",
       "      <td>82.0</td>\n",
       "      <td>0</td>\n",
       "    </tr>\n",
       "  </tbody>\n",
       "</table>\n",
       "</div>"
      ],
      "text/plain": [
       "               movie variable  value  max\n",
       "0      black panther  imdb_18   80.0    1\n",
       "1     blackkklansman  imdb_18   81.0    1\n",
       "2  bohemian rhapsody  imdb_18   84.0    1\n",
       "3      the favourite  imdb_18   82.0    1\n",
       "4         green book  imdb_18   82.0    0"
      ]
     },
     "execution_count": 2,
     "metadata": {},
     "output_type": "execute_result"
    }
   ],
   "source": [
    "df_reviews = pd.read_csv(os.getcwd() + '/../data_raw/reviews.csv')\n",
    "\n",
    "df_reviews['bo_domestic'] = df_reviews['bo_domestic'].str.replace(',', '')\n",
    "df_reviews['bo_foreign'] = df_reviews['bo_foreign'].str.replace(',', '')\n",
    "df_reviews['bo_domestic'] = df_reviews['bo_domestic'].map(str)\n",
    "df_reviews['bo_foreign'] = df_reviews['bo_foreign'].map(str)\n",
    "\n",
    "# saves off the gross for later\n",
    "df_gross = df_reviews.loc[:, ['movie', 'bo_domestic', 'bo_foreign']]\n",
    "df_reviews = df_reviews.drop(['bo_domestic', 'bo_foreign'], axis=1)\n",
    "\n",
    "for c in ['imdb_18', 'imdb_18_29', 'imdb_30_44', 'imdb_45']:\n",
    "    df_reviews[c] = df_reviews[c] * 10\n",
    "\n",
    "df_reviews = pd.melt(df_reviews, id_vars='movie')\n",
    "max_categories = [['imdb_18', 'imdb_18_29', 'imdb_30_44', 'imdb_45'],\n",
    "                  ['rt_all_critics', 'rt_top_critics', 'rt_audience_score']]    \n",
    "\n",
    "df_reviews['max'] = 0\n",
    "for category in max_categories:\n",
    "    max_name = category[0][:2] + '_max'\n",
    "    for movie in df_reviews['movie'].unique():\n",
    "        max_value = max(df_reviews.loc[(df_reviews['movie'] == movie) & (df_reviews['variable'].isin(category)), 'value'])\n",
    "        df_reviews.loc[(df_reviews['movie'] == movie) &\n",
    "                       (df_reviews['variable'].isin(category)) &\n",
    "                       (df_reviews['value'] == max_value), 'max'] = 1\n",
    "\n",
    "df_reviews.to_csv(os.getcwd() + '/../data_raw/df_reviews.csv', index=False)\n",
    "df_reviews.head()"
   ]
  },
  {
   "cell_type": "markdown",
   "metadata": {},
   "source": [
    "#### Combines and saves the box office data"
   ]
  },
  {
   "cell_type": "code",
   "execution_count": 3,
   "metadata": {},
   "outputs": [
    {
     "data": {
      "text/plain": [
       "array(['black panther', 'blackkklansman', 'bohemian rhapsody',\n",
       "       'the favourite', 'green book', 'roma', 'a star is born', 'vice'],\n",
       "      dtype=object)"
      ]
     },
     "execution_count": 3,
     "metadata": {},
     "output_type": "execute_result"
    }
   ],
   "source": [
    "df_reviews['movie'].unique()"
   ]
  },
  {
   "cell_type": "code",
   "execution_count": 14,
   "metadata": {},
   "outputs": [],
   "source": [
    "list_file = ['black_panther', 'blackkklansman', 'bohemian_rhapsody', 'the_favourite', 'green_book', 'a_star_is_born', 'vice']\n",
    "\n",
    "df_box_office = None\n",
    "for file in list_file:\n",
    "    # reads in each file\n",
    "    df_temp = pd.read_csv(os.getcwd() + '/../data_raw/' + file + '.csv',\n",
    "                          names=['country', 'dist', 'release_date', 'opening_weekend', 'percnt_total', 'total_gross', 'as_of'])\n",
    "\n",
    "    # formats the gross as an int\n",
    "    df_temp['total_gross'] = df_temp['total_gross'].str.replace(',', '')\n",
    "    df_temp['total_gross'] = df_temp['total_gross'].str.replace('$', '')\n",
    "    \n",
    "    # gets and appends the domestic gross\n",
    "    domestic_gross = df_gross.loc[df_gross['movie'] == file.replace('_', ' '), 'bo_domestic'].values[0]\n",
    "    df_new_row = pd.DataFrame([['United States', '', '', '', '', '', domestic_gross]], \n",
    "                              columns=['country', 'dist', 'release_date', 'opening_weekend', 'percnt_total', 'as_of', 'total_gross'])    \n",
    "    df_temp = df_temp.append(df_new_row)\n",
    "\n",
    "    # adds the film's name\n",
    "    df_temp['movie'] = file\n",
    "\n",
    "    # appends all results\n",
    "    if df_box_office is None:\n",
    "        df_box_office = df_temp.copy()\n",
    "    else:\n",
    "        df_box_office = df_box_office.append(df_temp)  \n",
    "    \n",
    "    df_box_office = df_box_office.loc[~df_box_office['country'].isnull(), :]\n",
    "    df_box_office['total_gross'] = df_box_office['total_gross'].map(int)\n",
    "    \n",
    "df_box_office.to_csv(os.getcwd() + '/../data_raw/df_box_office.csv', index=False)"
   ]
  }
 ],
 "metadata": {
  "kernelspec": {
   "display_name": "Python 3",
   "language": "python",
   "name": "python3"
  },
  "language_info": {
   "codemirror_mode": {
    "name": "ipython",
    "version": 3
   },
   "file_extension": ".py",
   "mimetype": "text/x-python",
   "name": "python",
   "nbconvert_exporter": "python",
   "pygments_lexer": "ipython3",
   "version": "3.6.6"
  }
 },
 "nbformat": 4,
 "nbformat_minor": 2
}
