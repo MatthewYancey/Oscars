{
 "cells": [
  {
   "cell_type": "code",
   "execution_count": 1,
   "metadata": {},
   "outputs": [],
   "source": [
    "import pandas as pd\n",
    "import numpy as np\n",
    "import os"
   ]
  },
  {
   "cell_type": "markdown",
   "metadata": {},
   "source": [
    "#### Formats the data set"
   ]
  },
  {
   "cell_type": "code",
   "execution_count": 2,
   "metadata": {},
   "outputs": [],
   "source": [
    "df_reviews = pd.read_csv(os.getcwd() + '/../data_raw/reviews.csv')\n",
    "\n",
    "df_reviews['bo_domestic'] = df_reviews['bo_domestic'].str.replace(',', '')\n",
    "df_reviews['bo_foreign'] = df_reviews['bo_foreign'].str.replace(',', '')\n",
    "df_reviews['bo_domestic'] = df_reviews['bo_domestic'].map(str)\n",
    "df_reviews['bo_foreign'] = df_reviews['bo_foreign'].map(str)\n",
    "\n",
    "# saves off the gross for later\n",
    "df_gross = df_reviews.loc[:, ['movie', 'bo_domestic', 'bo_foreign']]\n",
    "df_reviews = df_reviews.drop(['bo_domestic', 'bo_foreign'], axis=1)\n",
    "\n",
    "for c in ['imdb_18', 'imdb_18_29', 'imdb_30_44', 'imdb_45']:\n",
    "    df_reviews[c] = df_reviews[c] * 10\n",
    "\n",
    "df_reviews = pd.melt(df_reviews, id_vars='movie')\n",
    "max_categories = [['imdb_18', 'imdb_18_29', 'imdb_30_44', 'imdb_45'],\n",
    "                  ['rt_all_critics', 'rt_top_critics', 'rt_audience_score']]    \n",
    "\n",
    "df_reviews['max'] = 0\n",
    "for category in max_categories:\n",
    "    max_name = category[0][:2] + '_max'\n",
    "    for movie in df_reviews['movie'].unique():\n",
    "        max_value = max(df_reviews.loc[(df_reviews['movie'] == movie) & (df_reviews['variable'].isin(category)), 'value'])\n",
    "        df_reviews.loc[(df_reviews['movie'] == movie) &\n",
    "                       (df_reviews['variable'].isin(category)) &\n",
    "                       (df_reviews['value'] == max_value), 'max'] = 1"
   ]
  },
  {
   "cell_type": "markdown",
   "metadata": {},
   "source": [
    "#### This does some trig to get the x and y for the radar char"
   ]
  },
  {
   "cell_type": "code",
   "execution_count": 3,
   "metadata": {},
   "outputs": [],
   "source": [
    "radius = 100\n",
    "n_spokes = 7\n",
    "df_reviews['x_radar'] = 0\n",
    "df_reviews['y_radar'] = 0\n",
    "df_reviews['index_radar'] = 0\n",
    "for i, row in df_reviews.iterrows():\n",
    "    if row['variable'] == 'imdb_18':\n",
    "        spoke = 5\n",
    "    elif row['variable'] == 'imdb_18_29':\n",
    "        spoke = 4\n",
    "    elif row['variable'] == 'imdb_30_44':\n",
    "        spoke = 3\n",
    "    elif row['variable'] == 'imdb_45':\n",
    "        spoke = 2\n",
    "    elif row['variable'] == 'rt_all_critics':\n",
    "        spoke = 6\n",
    "    elif row['variable'] == 'rt_top_critics':\n",
    "        spoke = 0\n",
    "    elif row['variable'] == 'rt_audience_score':\n",
    "        spoke = 1\n",
    "    else:\n",
    "        continue\n",
    "\n",
    "    df_reviews.loc[i, 'index_radar'] = spoke\n",
    "    df_reviews.loc[i, 'y_radar'] = np.cos(spoke * (360/n_spokes) * np.pi / 180) * row['value']\n",
    "    df_reviews.loc[i, 'x_radar'] = np.sin(spoke * (360/n_spokes) * np.pi / 180) * row['value']\n",
    "\n",
    "df_reviews.to_csv(os.getcwd() + '/../data_raw/df_reviews.csv', index=False)"
   ]
  },
  {
   "cell_type": "markdown",
   "metadata": {},
   "source": [
    "#### Combines the box office data"
   ]
  },
  {
   "cell_type": "code",
   "execution_count": 4,
   "metadata": {},
   "outputs": [
    {
     "name": "stderr",
     "output_type": "stream",
     "text": [
      "/Users/mattyancey/anaconda3/lib/python3.6/site-packages/pandas/core/frame.py:6211: FutureWarning: Sorting because non-concatenation axis is not aligned. A future version\n",
      "of pandas will change to not sort by default.\n",
      "\n",
      "To accept the future behavior, pass 'sort=False'.\n",
      "\n",
      "To retain the current behavior and silence the warning, pass 'sort=True'.\n",
      "\n",
      "  sort=sort)\n"
     ]
    }
   ],
   "source": [
    "list_file = ['black_panther', 'blackkklansman', 'bohemian_rhapsody', 'the_favourite', \n",
    "             'green_book', 'a_star_is_born', 'vice', 'roma']\n",
    "\n",
    "df_box_office = None\n",
    "for file in list_file:\n",
    "    # reads in each file\n",
    "    df_temp = pd.read_csv(os.getcwd() + '/../data_raw/' + file + '.csv',\n",
    "                          names=['country', 'dist', 'release_date', 'opening_weekend', 'percnt_total', 'total_gross', 'as_of'])\n",
    "\n",
    "    # formats the gross as an int\n",
    "    df_temp['total_gross'] = df_temp['total_gross'].str.replace(',', '')\n",
    "    df_temp['total_gross'] = df_temp['total_gross'].str.replace('$', '')\n",
    "    \n",
    "    # gets and appends the domestic gross\n",
    "    domestic_gross = df_gross.loc[df_gross['movie'] == file.replace('_', ' '), 'bo_domestic'].values[0]\n",
    "    df_new_row = pd.DataFrame([['United States', '', '', '', '', '', domestic_gross]], \n",
    "                              columns=['country', 'dist', 'release_date', 'opening_weekend', 'percnt_total', 'as_of', 'total_gross'])    \n",
    "    df_temp = df_temp.append(df_new_row)\n",
    "\n",
    "    # adds the film's name\n",
    "    df_temp['movie'] = file\n",
    "\n",
    "    # appends all results\n",
    "    if df_box_office is None:\n",
    "        df_box_office = df_temp.copy()\n",
    "    else:\n",
    "        df_box_office = df_box_office.append(df_temp)\n",
    "    \n",
    "    df_box_office = df_box_office.loc[~df_box_office['country'].isnull(), :].reset_index(drop=True)\n",
    "    df_box_office['total_gross'] = df_box_office['total_gross'].map(int)"
   ]
  },
  {
   "cell_type": "markdown",
   "metadata": {},
   "source": [
    "#### Creates the x and y values for the radar chart"
   ]
  },
  {
   "cell_type": "code",
   "execution_count": 5,
   "metadata": {},
   "outputs": [
    {
     "name": "stderr",
     "output_type": "stream",
     "text": [
      "/Users/mattyancey/anaconda3/lib/python3.6/site-packages/ipykernel_launcher.py:3: RuntimeWarning: divide by zero encountered in log\n",
      "  This is separate from the ipykernel package so we can avoid doing imports until\n",
      "/Users/mattyancey/anaconda3/lib/python3.6/site-packages/ipykernel_launcher.py:41: RuntimeWarning: invalid value encountered in double_scalars\n"
     ]
    }
   ],
   "source": [
    "countries = ['France', 'South Korea', 'Japan', 'Australia', 'United Kingdom', 'United States', 'China']\n",
    "df_box_office = df_box_office.loc[df_box_office['country'].isin(countries), ['movie', 'country', 'total_gross']].reset_index(drop=True)\n",
    "df_box_office['total_gross_log'] = np.log(df_box_office['total_gross'])\n",
    "\n",
    "# adds any missing countries\n",
    "new_rows = []\n",
    "for country in countries:\n",
    "    for movie in df_box_office['movie'].unique():\n",
    "        if df_box_office.loc[(df_box_office['country'] == country) &\n",
    "                             (df_box_office['movie'] == movie), :].shape[0] == 0:\n",
    "            new_rows.append([movie, country, 0])\n",
    "\n",
    "df_box_office = df_box_office.append(pd.DataFrame(new_rows, columns=['movie', 'country', 'total_gross_log']))\n",
    "df_box_office = df_box_office.sort_values('movie').reset_index(drop=True)\n",
    "\n",
    "n_spokes = 7\n",
    "df_box_office['x_radar'] = 0\n",
    "df_box_office['y_radar'] = 0\n",
    "df_box_office['index_radar'] = 0\n",
    "for i, row in df_box_office.iterrows():\n",
    "    if row['country'] == countries[0]:\n",
    "        spoke = 5\n",
    "    elif row['country'] == countries[1]:\n",
    "        spoke = 4\n",
    "    elif row['country'] == countries[2]:\n",
    "        spoke = 3\n",
    "    elif row['country'] == countries[3]:\n",
    "        spoke = 2\n",
    "    elif row['country'] == countries[4]:\n",
    "        spoke = 6\n",
    "    elif row['country'] == countries[5]:\n",
    "        spoke = 0\n",
    "    elif row['country'] == countries[6]:\n",
    "        spoke = 1\n",
    "    else:\n",
    "        continue\n",
    "\n",
    "    df_box_office.loc[i, 'index_radar'] = spoke\n",
    "    df_box_office.loc[i, 'y_radar'] = np.cos(spoke * (360/n_spokes) * np.pi / 180) * row['total_gross_log']\n",
    "    df_box_office.loc[i, 'x_radar'] = np.sin(spoke * (360/n_spokes) * np.pi / 180) * row['total_gross_log']\n",
    "\n",
    "df_box_office.to_csv(os.getcwd() + '/../data_raw/df_box_office.csv', index=False)"
   ]
  },
  {
   "cell_type": "code",
   "execution_count": 6,
   "metadata": {},
   "outputs": [],
   "source": [
    "# renames the movies with proper casing"
   ]
  },
  {
   "cell_type": "code",
   "execution_count": 7,
   "metadata": {},
   "outputs": [
    {
     "data": {
      "text/html": [
       "<div>\n",
       "<style scoped>\n",
       "    .dataframe tbody tr th:only-of-type {\n",
       "        vertical-align: middle;\n",
       "    }\n",
       "\n",
       "    .dataframe tbody tr th {\n",
       "        vertical-align: top;\n",
       "    }\n",
       "\n",
       "    .dataframe thead th {\n",
       "        text-align: right;\n",
       "    }\n",
       "</style>\n",
       "<table border=\"1\" class=\"dataframe\">\n",
       "  <thead>\n",
       "    <tr style=\"text-align: right;\">\n",
       "      <th></th>\n",
       "      <th>country</th>\n",
       "      <th>movie</th>\n",
       "      <th>total_gross</th>\n",
       "      <th>total_gross_log</th>\n",
       "      <th>x_radar</th>\n",
       "      <th>y_radar</th>\n",
       "      <th>index_radar</th>\n",
       "    </tr>\n",
       "  </thead>\n",
       "  <tbody>\n",
       "    <tr>\n",
       "      <th>28</th>\n",
       "      <td>China</td>\n",
       "      <td>green_book</td>\n",
       "      <td>NaN</td>\n",
       "      <td>0.000000</td>\n",
       "      <td>0.000000</td>\n",
       "      <td>0.000000</td>\n",
       "      <td>1</td>\n",
       "    </tr>\n",
       "    <tr>\n",
       "      <th>29</th>\n",
       "      <td>United Kingdom</td>\n",
       "      <td>green_book</td>\n",
       "      <td>NaN</td>\n",
       "      <td>0.000000</td>\n",
       "      <td>-0.000000</td>\n",
       "      <td>0.000000</td>\n",
       "      <td>6</td>\n",
       "    </tr>\n",
       "    <tr>\n",
       "      <th>30</th>\n",
       "      <td>United States</td>\n",
       "      <td>green_book</td>\n",
       "      <td>49078216.0</td>\n",
       "      <td>17.708926</td>\n",
       "      <td>0.000000</td>\n",
       "      <td>17.708926</td>\n",
       "      <td>0</td>\n",
       "    </tr>\n",
       "    <tr>\n",
       "      <th>31</th>\n",
       "      <td>Japan</td>\n",
       "      <td>green_book</td>\n",
       "      <td>NaN</td>\n",
       "      <td>0.000000</td>\n",
       "      <td>0.000000</td>\n",
       "      <td>-0.000000</td>\n",
       "      <td>3</td>\n",
       "    </tr>\n",
       "    <tr>\n",
       "      <th>32</th>\n",
       "      <td>South Korea</td>\n",
       "      <td>green_book</td>\n",
       "      <td>1371087.0</td>\n",
       "      <td>14.131114</td>\n",
       "      <td>-6.131261</td>\n",
       "      <td>-12.731694</td>\n",
       "      <td>4</td>\n",
       "    </tr>\n",
       "  </tbody>\n",
       "</table>\n",
       "</div>"
      ],
      "text/plain": [
       "           country       movie  total_gross  total_gross_log   x_radar  \\\n",
       "28           China  green_book          NaN         0.000000  0.000000   \n",
       "29  United Kingdom  green_book          NaN         0.000000 -0.000000   \n",
       "30   United States  green_book   49078216.0        17.708926  0.000000   \n",
       "31           Japan  green_book          NaN         0.000000  0.000000   \n",
       "32     South Korea  green_book    1371087.0        14.131114 -6.131261   \n",
       "\n",
       "      y_radar  index_radar  \n",
       "28   0.000000            1  \n",
       "29   0.000000            6  \n",
       "30  17.708926            0  \n",
       "31  -0.000000            3  \n",
       "32 -12.731694            4  "
      ]
     },
     "execution_count": 7,
     "metadata": {},
     "output_type": "execute_result"
    }
   ],
   "source": [
    "df_box_office.loc[df_box_office['movie'] == 'green_book', :].head()"
   ]
  }
 ],
 "metadata": {
  "kernelspec": {
   "display_name": "Python 3",
   "language": "python",
   "name": "python3"
  },
  "language_info": {
   "codemirror_mode": {
    "name": "ipython",
    "version": 3
   },
   "file_extension": ".py",
   "mimetype": "text/x-python",
   "name": "python",
   "nbconvert_exporter": "python",
   "pygments_lexer": "ipython3",
   "version": "3.6.6"
  }
 },
 "nbformat": 4,
 "nbformat_minor": 2
}
