{
 "cells": [
  {
   "cell_type": "code",
   "execution_count": 1,
   "metadata": {},
   "outputs": [
    {
     "data": {
      "text/html": [
       "\n",
       "    <div class=\"bk-root\">\n",
       "        <a href=\"https://bokeh.pydata.org\" target=\"_blank\" class=\"bk-logo bk-logo-small bk-logo-notebook\"></a>\n",
       "        <span id=\"9a670fd1-bffc-48a0-9d0b-697962668fa0\">Loading BokehJS ...</span>\n",
       "    </div>"
      ]
     },
     "metadata": {},
     "output_type": "display_data"
    },
    {
     "data": {
      "application/javascript": [
       "\n",
       "(function(root) {\n",
       "  function now() {\n",
       "    return new Date();\n",
       "  }\n",
       "\n",
       "  var force = true;\n",
       "\n",
       "  if (typeof (root._bokeh_onload_callbacks) === \"undefined\" || force === true) {\n",
       "    root._bokeh_onload_callbacks = [];\n",
       "    root._bokeh_is_loading = undefined;\n",
       "  }\n",
       "\n",
       "  var JS_MIME_TYPE = 'application/javascript';\n",
       "  var HTML_MIME_TYPE = 'text/html';\n",
       "  var EXEC_MIME_TYPE = 'application/vnd.bokehjs_exec.v0+json';\n",
       "  var CLASS_NAME = 'output_bokeh rendered_html';\n",
       "\n",
       "  /**\n",
       "   * Render data to the DOM node\n",
       "   */\n",
       "  function render(props, node) {\n",
       "    var script = document.createElement(\"script\");\n",
       "    node.appendChild(script);\n",
       "  }\n",
       "\n",
       "  /**\n",
       "   * Handle when an output is cleared or removed\n",
       "   */\n",
       "  function handleClearOutput(event, handle) {\n",
       "    var cell = handle.cell;\n",
       "\n",
       "    var id = cell.output_area._bokeh_element_id;\n",
       "    var server_id = cell.output_area._bokeh_server_id;\n",
       "    // Clean up Bokeh references\n",
       "    if (id != null && id in Bokeh.index) {\n",
       "      Bokeh.index[id].model.document.clear();\n",
       "      delete Bokeh.index[id];\n",
       "    }\n",
       "\n",
       "    if (server_id !== undefined) {\n",
       "      // Clean up Bokeh references\n",
       "      var cmd = \"from bokeh.io.state import curstate; print(curstate().uuid_to_server['\" + server_id + \"'].get_sessions()[0].document.roots[0]._id)\";\n",
       "      cell.notebook.kernel.execute(cmd, {\n",
       "        iopub: {\n",
       "          output: function(msg) {\n",
       "            var id = msg.content.text.trim();\n",
       "            if (id in Bokeh.index) {\n",
       "              Bokeh.index[id].model.document.clear();\n",
       "              delete Bokeh.index[id];\n",
       "            }\n",
       "          }\n",
       "        }\n",
       "      });\n",
       "      // Destroy server and session\n",
       "      var cmd = \"import bokeh.io.notebook as ion; ion.destroy_server('\" + server_id + \"')\";\n",
       "      cell.notebook.kernel.execute(cmd);\n",
       "    }\n",
       "  }\n",
       "\n",
       "  /**\n",
       "   * Handle when a new output is added\n",
       "   */\n",
       "  function handleAddOutput(event, handle) {\n",
       "    var output_area = handle.output_area;\n",
       "    var output = handle.output;\n",
       "\n",
       "    // limit handleAddOutput to display_data with EXEC_MIME_TYPE content only\n",
       "    if ((output.output_type != \"display_data\") || (!output.data.hasOwnProperty(EXEC_MIME_TYPE))) {\n",
       "      return\n",
       "    }\n",
       "\n",
       "    var toinsert = output_area.element.find(\".\" + CLASS_NAME.split(' ')[0]);\n",
       "\n",
       "    if (output.metadata[EXEC_MIME_TYPE][\"id\"] !== undefined) {\n",
       "      toinsert[toinsert.length - 1].firstChild.textContent = output.data[JS_MIME_TYPE];\n",
       "      // store reference to embed id on output_area\n",
       "      output_area._bokeh_element_id = output.metadata[EXEC_MIME_TYPE][\"id\"];\n",
       "    }\n",
       "    if (output.metadata[EXEC_MIME_TYPE][\"server_id\"] !== undefined) {\n",
       "      var bk_div = document.createElement(\"div\");\n",
       "      bk_div.innerHTML = output.data[HTML_MIME_TYPE];\n",
       "      var script_attrs = bk_div.children[0].attributes;\n",
       "      for (var i = 0; i < script_attrs.length; i++) {\n",
       "        toinsert[toinsert.length - 1].firstChild.setAttribute(script_attrs[i].name, script_attrs[i].value);\n",
       "      }\n",
       "      // store reference to server id on output_area\n",
       "      output_area._bokeh_server_id = output.metadata[EXEC_MIME_TYPE][\"server_id\"];\n",
       "    }\n",
       "  }\n",
       "\n",
       "  function register_renderer(events, OutputArea) {\n",
       "\n",
       "    function append_mime(data, metadata, element) {\n",
       "      // create a DOM node to render to\n",
       "      var toinsert = this.create_output_subarea(\n",
       "        metadata,\n",
       "        CLASS_NAME,\n",
       "        EXEC_MIME_TYPE\n",
       "      );\n",
       "      this.keyboard_manager.register_events(toinsert);\n",
       "      // Render to node\n",
       "      var props = {data: data, metadata: metadata[EXEC_MIME_TYPE]};\n",
       "      render(props, toinsert[toinsert.length - 1]);\n",
       "      element.append(toinsert);\n",
       "      return toinsert\n",
       "    }\n",
       "\n",
       "    /* Handle when an output is cleared or removed */\n",
       "    events.on('clear_output.CodeCell', handleClearOutput);\n",
       "    events.on('delete.Cell', handleClearOutput);\n",
       "\n",
       "    /* Handle when a new output is added */\n",
       "    events.on('output_added.OutputArea', handleAddOutput);\n",
       "\n",
       "    /**\n",
       "     * Register the mime type and append_mime function with output_area\n",
       "     */\n",
       "    OutputArea.prototype.register_mime_type(EXEC_MIME_TYPE, append_mime, {\n",
       "      /* Is output safe? */\n",
       "      safe: true,\n",
       "      /* Index of renderer in `output_area.display_order` */\n",
       "      index: 0\n",
       "    });\n",
       "  }\n",
       "\n",
       "  // register the mime type if in Jupyter Notebook environment and previously unregistered\n",
       "  if (root.Jupyter !== undefined) {\n",
       "    var events = require('base/js/events');\n",
       "    var OutputArea = require('notebook/js/outputarea').OutputArea;\n",
       "\n",
       "    if (OutputArea.prototype.mime_types().indexOf(EXEC_MIME_TYPE) == -1) {\n",
       "      register_renderer(events, OutputArea);\n",
       "    }\n",
       "  }\n",
       "\n",
       "  \n",
       "  if (typeof (root._bokeh_timeout) === \"undefined\" || force === true) {\n",
       "    root._bokeh_timeout = Date.now() + 5000;\n",
       "    root._bokeh_failed_load = false;\n",
       "  }\n",
       "\n",
       "  var NB_LOAD_WARNING = {'data': {'text/html':\n",
       "     \"<div style='background-color: #fdd'>\\n\"+\n",
       "     \"<p>\\n\"+\n",
       "     \"BokehJS does not appear to have successfully loaded. If loading BokehJS from CDN, this \\n\"+\n",
       "     \"may be due to a slow or bad network connection. Possible fixes:\\n\"+\n",
       "     \"</p>\\n\"+\n",
       "     \"<ul>\\n\"+\n",
       "     \"<li>re-rerun `output_notebook()` to attempt to load from CDN again, or</li>\\n\"+\n",
       "     \"<li>use INLINE resources instead, as so:</li>\\n\"+\n",
       "     \"</ul>\\n\"+\n",
       "     \"<code>\\n\"+\n",
       "     \"from bokeh.resources import INLINE\\n\"+\n",
       "     \"output_notebook(resources=INLINE)\\n\"+\n",
       "     \"</code>\\n\"+\n",
       "     \"</div>\"}};\n",
       "\n",
       "  function display_loaded() {\n",
       "    var el = document.getElementById(\"9a670fd1-bffc-48a0-9d0b-697962668fa0\");\n",
       "    if (el != null) {\n",
       "      el.textContent = \"BokehJS is loading...\";\n",
       "    }\n",
       "    if (root.Bokeh !== undefined) {\n",
       "      if (el != null) {\n",
       "        el.textContent = \"BokehJS \" + root.Bokeh.version + \" successfully loaded.\";\n",
       "      }\n",
       "    } else if (Date.now() < root._bokeh_timeout) {\n",
       "      setTimeout(display_loaded, 100)\n",
       "    }\n",
       "  }\n",
       "\n",
       "\n",
       "  function run_callbacks() {\n",
       "    try {\n",
       "      root._bokeh_onload_callbacks.forEach(function(callback) { callback() });\n",
       "    }\n",
       "    finally {\n",
       "      delete root._bokeh_onload_callbacks\n",
       "    }\n",
       "    console.info(\"Bokeh: all callbacks have finished\");\n",
       "  }\n",
       "\n",
       "  function load_libs(js_urls, callback) {\n",
       "    root._bokeh_onload_callbacks.push(callback);\n",
       "    if (root._bokeh_is_loading > 0) {\n",
       "      console.log(\"Bokeh: BokehJS is being loaded, scheduling callback at\", now());\n",
       "      return null;\n",
       "    }\n",
       "    if (js_urls == null || js_urls.length === 0) {\n",
       "      run_callbacks();\n",
       "      return null;\n",
       "    }\n",
       "    console.log(\"Bokeh: BokehJS not loaded, scheduling load and callback at\", now());\n",
       "    root._bokeh_is_loading = js_urls.length;\n",
       "    for (var i = 0; i < js_urls.length; i++) {\n",
       "      var url = js_urls[i];\n",
       "      var s = document.createElement('script');\n",
       "      s.src = url;\n",
       "      s.async = false;\n",
       "      s.onreadystatechange = s.onload = function() {\n",
       "        root._bokeh_is_loading--;\n",
       "        if (root._bokeh_is_loading === 0) {\n",
       "          console.log(\"Bokeh: all BokehJS libraries loaded\");\n",
       "          run_callbacks()\n",
       "        }\n",
       "      };\n",
       "      s.onerror = function() {\n",
       "        console.warn(\"failed to load library \" + url);\n",
       "      };\n",
       "      console.log(\"Bokeh: injecting script tag for BokehJS library: \", url);\n",
       "      document.getElementsByTagName(\"head\")[0].appendChild(s);\n",
       "    }\n",
       "  };var element = document.getElementById(\"9a670fd1-bffc-48a0-9d0b-697962668fa0\");\n",
       "  if (element == null) {\n",
       "    console.log(\"Bokeh: ERROR: autoload.js configured with elementid '9a670fd1-bffc-48a0-9d0b-697962668fa0' but no matching script tag was found. \")\n",
       "    return false;\n",
       "  }\n",
       "\n",
       "  var js_urls = [\"https://cdn.pydata.org/bokeh/release/bokeh-0.13.0.min.js\", \"https://cdn.pydata.org/bokeh/release/bokeh-widgets-0.13.0.min.js\", \"https://cdn.pydata.org/bokeh/release/bokeh-tables-0.13.0.min.js\", \"https://cdn.pydata.org/bokeh/release/bokeh-gl-0.13.0.min.js\"];\n",
       "\n",
       "  var inline_js = [\n",
       "    function(Bokeh) {\n",
       "      Bokeh.set_log_level(\"info\");\n",
       "    },\n",
       "    \n",
       "    function(Bokeh) {\n",
       "      \n",
       "    },\n",
       "    function(Bokeh) {\n",
       "      console.log(\"Bokeh: injecting CSS: https://cdn.pydata.org/bokeh/release/bokeh-0.13.0.min.css\");\n",
       "      Bokeh.embed.inject_css(\"https://cdn.pydata.org/bokeh/release/bokeh-0.13.0.min.css\");\n",
       "      console.log(\"Bokeh: injecting CSS: https://cdn.pydata.org/bokeh/release/bokeh-widgets-0.13.0.min.css\");\n",
       "      Bokeh.embed.inject_css(\"https://cdn.pydata.org/bokeh/release/bokeh-widgets-0.13.0.min.css\");\n",
       "      console.log(\"Bokeh: injecting CSS: https://cdn.pydata.org/bokeh/release/bokeh-tables-0.13.0.min.css\");\n",
       "      Bokeh.embed.inject_css(\"https://cdn.pydata.org/bokeh/release/bokeh-tables-0.13.0.min.css\");\n",
       "    }\n",
       "  ];\n",
       "\n",
       "  function run_inline_js() {\n",
       "    \n",
       "    if ((root.Bokeh !== undefined) || (force === true)) {\n",
       "      for (var i = 0; i < inline_js.length; i++) {\n",
       "        inline_js[i].call(root, root.Bokeh);\n",
       "      }if (force === true) {\n",
       "        display_loaded();\n",
       "      }} else if (Date.now() < root._bokeh_timeout) {\n",
       "      setTimeout(run_inline_js, 100);\n",
       "    } else if (!root._bokeh_failed_load) {\n",
       "      console.log(\"Bokeh: BokehJS failed to load within specified timeout.\");\n",
       "      root._bokeh_failed_load = true;\n",
       "    } else if (force !== true) {\n",
       "      var cell = $(document.getElementById(\"9a670fd1-bffc-48a0-9d0b-697962668fa0\")).parents('.cell').data().cell;\n",
       "      cell.output_area.append_execute_result(NB_LOAD_WARNING)\n",
       "    }\n",
       "\n",
       "  }\n",
       "\n",
       "  if (root._bokeh_is_loading === 0) {\n",
       "    console.log(\"Bokeh: BokehJS loaded, going straight to plotting\");\n",
       "    run_inline_js();\n",
       "  } else {\n",
       "    load_libs(js_urls, function() {\n",
       "      console.log(\"Bokeh: BokehJS plotting callback run at\", now());\n",
       "      run_inline_js();\n",
       "    });\n",
       "  }\n",
       "}(window));"
      ],
      "application/vnd.bokehjs_load.v0+json": "\n(function(root) {\n  function now() {\n    return new Date();\n  }\n\n  var force = true;\n\n  if (typeof (root._bokeh_onload_callbacks) === \"undefined\" || force === true) {\n    root._bokeh_onload_callbacks = [];\n    root._bokeh_is_loading = undefined;\n  }\n\n  \n\n  \n  if (typeof (root._bokeh_timeout) === \"undefined\" || force === true) {\n    root._bokeh_timeout = Date.now() + 5000;\n    root._bokeh_failed_load = false;\n  }\n\n  var NB_LOAD_WARNING = {'data': {'text/html':\n     \"<div style='background-color: #fdd'>\\n\"+\n     \"<p>\\n\"+\n     \"BokehJS does not appear to have successfully loaded. If loading BokehJS from CDN, this \\n\"+\n     \"may be due to a slow or bad network connection. Possible fixes:\\n\"+\n     \"</p>\\n\"+\n     \"<ul>\\n\"+\n     \"<li>re-rerun `output_notebook()` to attempt to load from CDN again, or</li>\\n\"+\n     \"<li>use INLINE resources instead, as so:</li>\\n\"+\n     \"</ul>\\n\"+\n     \"<code>\\n\"+\n     \"from bokeh.resources import INLINE\\n\"+\n     \"output_notebook(resources=INLINE)\\n\"+\n     \"</code>\\n\"+\n     \"</div>\"}};\n\n  function display_loaded() {\n    var el = document.getElementById(\"9a670fd1-bffc-48a0-9d0b-697962668fa0\");\n    if (el != null) {\n      el.textContent = \"BokehJS is loading...\";\n    }\n    if (root.Bokeh !== undefined) {\n      if (el != null) {\n        el.textContent = \"BokehJS \" + root.Bokeh.version + \" successfully loaded.\";\n      }\n    } else if (Date.now() < root._bokeh_timeout) {\n      setTimeout(display_loaded, 100)\n    }\n  }\n\n\n  function run_callbacks() {\n    try {\n      root._bokeh_onload_callbacks.forEach(function(callback) { callback() });\n    }\n    finally {\n      delete root._bokeh_onload_callbacks\n    }\n    console.info(\"Bokeh: all callbacks have finished\");\n  }\n\n  function load_libs(js_urls, callback) {\n    root._bokeh_onload_callbacks.push(callback);\n    if (root._bokeh_is_loading > 0) {\n      console.log(\"Bokeh: BokehJS is being loaded, scheduling callback at\", now());\n      return null;\n    }\n    if (js_urls == null || js_urls.length === 0) {\n      run_callbacks();\n      return null;\n    }\n    console.log(\"Bokeh: BokehJS not loaded, scheduling load and callback at\", now());\n    root._bokeh_is_loading = js_urls.length;\n    for (var i = 0; i < js_urls.length; i++) {\n      var url = js_urls[i];\n      var s = document.createElement('script');\n      s.src = url;\n      s.async = false;\n      s.onreadystatechange = s.onload = function() {\n        root._bokeh_is_loading--;\n        if (root._bokeh_is_loading === 0) {\n          console.log(\"Bokeh: all BokehJS libraries loaded\");\n          run_callbacks()\n        }\n      };\n      s.onerror = function() {\n        console.warn(\"failed to load library \" + url);\n      };\n      console.log(\"Bokeh: injecting script tag for BokehJS library: \", url);\n      document.getElementsByTagName(\"head\")[0].appendChild(s);\n    }\n  };var element = document.getElementById(\"9a670fd1-bffc-48a0-9d0b-697962668fa0\");\n  if (element == null) {\n    console.log(\"Bokeh: ERROR: autoload.js configured with elementid '9a670fd1-bffc-48a0-9d0b-697962668fa0' but no matching script tag was found. \")\n    return false;\n  }\n\n  var js_urls = [\"https://cdn.pydata.org/bokeh/release/bokeh-0.13.0.min.js\", \"https://cdn.pydata.org/bokeh/release/bokeh-widgets-0.13.0.min.js\", \"https://cdn.pydata.org/bokeh/release/bokeh-tables-0.13.0.min.js\", \"https://cdn.pydata.org/bokeh/release/bokeh-gl-0.13.0.min.js\"];\n\n  var inline_js = [\n    function(Bokeh) {\n      Bokeh.set_log_level(\"info\");\n    },\n    \n    function(Bokeh) {\n      \n    },\n    function(Bokeh) {\n      console.log(\"Bokeh: injecting CSS: https://cdn.pydata.org/bokeh/release/bokeh-0.13.0.min.css\");\n      Bokeh.embed.inject_css(\"https://cdn.pydata.org/bokeh/release/bokeh-0.13.0.min.css\");\n      console.log(\"Bokeh: injecting CSS: https://cdn.pydata.org/bokeh/release/bokeh-widgets-0.13.0.min.css\");\n      Bokeh.embed.inject_css(\"https://cdn.pydata.org/bokeh/release/bokeh-widgets-0.13.0.min.css\");\n      console.log(\"Bokeh: injecting CSS: https://cdn.pydata.org/bokeh/release/bokeh-tables-0.13.0.min.css\");\n      Bokeh.embed.inject_css(\"https://cdn.pydata.org/bokeh/release/bokeh-tables-0.13.0.min.css\");\n    }\n  ];\n\n  function run_inline_js() {\n    \n    if ((root.Bokeh !== undefined) || (force === true)) {\n      for (var i = 0; i < inline_js.length; i++) {\n        inline_js[i].call(root, root.Bokeh);\n      }if (force === true) {\n        display_loaded();\n      }} else if (Date.now() < root._bokeh_timeout) {\n      setTimeout(run_inline_js, 100);\n    } else if (!root._bokeh_failed_load) {\n      console.log(\"Bokeh: BokehJS failed to load within specified timeout.\");\n      root._bokeh_failed_load = true;\n    } else if (force !== true) {\n      var cell = $(document.getElementById(\"9a670fd1-bffc-48a0-9d0b-697962668fa0\")).parents('.cell').data().cell;\n      cell.output_area.append_execute_result(NB_LOAD_WARNING)\n    }\n\n  }\n\n  if (root._bokeh_is_loading === 0) {\n    console.log(\"Bokeh: BokehJS loaded, going straight to plotting\");\n    run_inline_js();\n  } else {\n    load_libs(js_urls, function() {\n      console.log(\"Bokeh: BokehJS plotting callback run at\", now());\n      run_inline_js();\n    });\n  }\n}(window));"
     },
     "metadata": {},
     "output_type": "display_data"
    }
   ],
   "source": [
    "import pandas as pd\n",
    "import numpy as np\n",
    "import os\n",
    "from bokeh.plotting import figure, output_file, show\n",
    "from bokeh.io import output_notebook\n",
    "from bokeh.models import ColumnDataSource, ranges, LabelSet, Range1d\n",
    "\n",
    "output_notebook()"
   ]
  },
  {
   "cell_type": "markdown",
   "metadata": {},
   "source": [
    "#### Imports the data"
   ]
  },
  {
   "cell_type": "code",
   "execution_count": 2,
   "metadata": {},
   "outputs": [],
   "source": [
    "df_reviews = pd.read_csv(os.getcwd() + '/../data_raw/reviews.csv')"
   ]
  },
  {
   "cell_type": "markdown",
   "metadata": {},
   "source": [
    "#### Formats the values"
   ]
  },
  {
   "cell_type": "code",
   "execution_count": 5,
   "metadata": {},
   "outputs": [
    {
     "ename": "KeyError",
     "evalue": "'bo_domestic'",
     "output_type": "error",
     "traceback": [
      "\u001b[0;31m---------------------------------------------------------------------------\u001b[0m",
      "\u001b[0;31mKeyError\u001b[0m                                  Traceback (most recent call last)",
      "\u001b[0;32m~/anaconda3/lib/python3.6/site-packages/pandas/core/indexes/base.py\u001b[0m in \u001b[0;36mget_loc\u001b[0;34m(self, key, method, tolerance)\u001b[0m\n\u001b[1;32m   3077\u001b[0m             \u001b[0;32mtry\u001b[0m\u001b[0;34m:\u001b[0m\u001b[0;34m\u001b[0m\u001b[0m\n\u001b[0;32m-> 3078\u001b[0;31m                 \u001b[0;32mreturn\u001b[0m \u001b[0mself\u001b[0m\u001b[0;34m.\u001b[0m\u001b[0m_engine\u001b[0m\u001b[0;34m.\u001b[0m\u001b[0mget_loc\u001b[0m\u001b[0;34m(\u001b[0m\u001b[0mkey\u001b[0m\u001b[0;34m)\u001b[0m\u001b[0;34m\u001b[0m\u001b[0m\n\u001b[0m\u001b[1;32m   3079\u001b[0m             \u001b[0;32mexcept\u001b[0m \u001b[0mKeyError\u001b[0m\u001b[0;34m:\u001b[0m\u001b[0;34m\u001b[0m\u001b[0m\n",
      "\u001b[0;32mpandas/_libs/index.pyx\u001b[0m in \u001b[0;36mpandas._libs.index.IndexEngine.get_loc\u001b[0;34m()\u001b[0m\n",
      "\u001b[0;32mpandas/_libs/index.pyx\u001b[0m in \u001b[0;36mpandas._libs.index.IndexEngine.get_loc\u001b[0;34m()\u001b[0m\n",
      "\u001b[0;32mpandas/_libs/hashtable_class_helper.pxi\u001b[0m in \u001b[0;36mpandas._libs.hashtable.PyObjectHashTable.get_item\u001b[0;34m()\u001b[0m\n",
      "\u001b[0;32mpandas/_libs/hashtable_class_helper.pxi\u001b[0m in \u001b[0;36mpandas._libs.hashtable.PyObjectHashTable.get_item\u001b[0;34m()\u001b[0m\n",
      "\u001b[0;31mKeyError\u001b[0m: 'bo_domestic'",
      "\nDuring handling of the above exception, another exception occurred:\n",
      "\u001b[0;31mKeyError\u001b[0m                                  Traceback (most recent call last)",
      "\u001b[0;32m<ipython-input-5-b9262fca5524>\u001b[0m in \u001b[0;36m<module>\u001b[0;34m\u001b[0m\n\u001b[0;32m----> 1\u001b[0;31m \u001b[0mdf_reviews\u001b[0m\u001b[0;34m[\u001b[0m\u001b[0;34m'bo_domestic'\u001b[0m\u001b[0;34m]\u001b[0m \u001b[0;34m=\u001b[0m \u001b[0mdf_reviews\u001b[0m\u001b[0;34m[\u001b[0m\u001b[0;34m'bo_domestic'\u001b[0m\u001b[0;34m]\u001b[0m\u001b[0;34m.\u001b[0m\u001b[0mstr\u001b[0m\u001b[0;34m.\u001b[0m\u001b[0mreplace\u001b[0m\u001b[0;34m(\u001b[0m\u001b[0;34m','\u001b[0m\u001b[0;34m,\u001b[0m \u001b[0;34m''\u001b[0m\u001b[0;34m)\u001b[0m\u001b[0;34m\u001b[0m\u001b[0m\n\u001b[0m\u001b[1;32m      2\u001b[0m \u001b[0mdf_reviews\u001b[0m\u001b[0;34m[\u001b[0m\u001b[0;34m'bo_foreign'\u001b[0m\u001b[0;34m]\u001b[0m \u001b[0;34m=\u001b[0m \u001b[0mdf_reviews\u001b[0m\u001b[0;34m[\u001b[0m\u001b[0;34m'bo_foreign'\u001b[0m\u001b[0;34m]\u001b[0m\u001b[0;34m.\u001b[0m\u001b[0mstr\u001b[0m\u001b[0;34m.\u001b[0m\u001b[0mreplace\u001b[0m\u001b[0;34m(\u001b[0m\u001b[0;34m','\u001b[0m\u001b[0;34m,\u001b[0m \u001b[0;34m''\u001b[0m\u001b[0;34m)\u001b[0m\u001b[0;34m\u001b[0m\u001b[0m\n\u001b[1;32m      3\u001b[0m \u001b[0mdf_reviews\u001b[0m\u001b[0;34m[\u001b[0m\u001b[0;34m'bo_domestic'\u001b[0m\u001b[0;34m]\u001b[0m \u001b[0;34m=\u001b[0m \u001b[0mdf_reviews\u001b[0m\u001b[0;34m[\u001b[0m\u001b[0;34m'bo_domestic'\u001b[0m\u001b[0;34m]\u001b[0m\u001b[0;34m.\u001b[0m\u001b[0mmap\u001b[0m\u001b[0;34m(\u001b[0m\u001b[0mstr\u001b[0m\u001b[0;34m)\u001b[0m\u001b[0;34m\u001b[0m\u001b[0m\n\u001b[1;32m      4\u001b[0m \u001b[0mdf_reviews\u001b[0m\u001b[0;34m[\u001b[0m\u001b[0;34m'bo_foreign'\u001b[0m\u001b[0;34m]\u001b[0m \u001b[0;34m=\u001b[0m \u001b[0mdf_reviews\u001b[0m\u001b[0;34m[\u001b[0m\u001b[0;34m'bo_foreign'\u001b[0m\u001b[0;34m]\u001b[0m\u001b[0;34m.\u001b[0m\u001b[0mmap\u001b[0m\u001b[0;34m(\u001b[0m\u001b[0mstr\u001b[0m\u001b[0;34m)\u001b[0m\u001b[0;34m\u001b[0m\u001b[0m\n\u001b[1;32m      5\u001b[0m \u001b[0;34m\u001b[0m\u001b[0m\n",
      "\u001b[0;32m~/anaconda3/lib/python3.6/site-packages/pandas/core/frame.py\u001b[0m in \u001b[0;36m__getitem__\u001b[0;34m(self, key)\u001b[0m\n\u001b[1;32m   2686\u001b[0m             \u001b[0;32mreturn\u001b[0m \u001b[0mself\u001b[0m\u001b[0;34m.\u001b[0m\u001b[0m_getitem_multilevel\u001b[0m\u001b[0;34m(\u001b[0m\u001b[0mkey\u001b[0m\u001b[0;34m)\u001b[0m\u001b[0;34m\u001b[0m\u001b[0m\n\u001b[1;32m   2687\u001b[0m         \u001b[0;32melse\u001b[0m\u001b[0;34m:\u001b[0m\u001b[0;34m\u001b[0m\u001b[0m\n\u001b[0;32m-> 2688\u001b[0;31m             \u001b[0;32mreturn\u001b[0m \u001b[0mself\u001b[0m\u001b[0;34m.\u001b[0m\u001b[0m_getitem_column\u001b[0m\u001b[0;34m(\u001b[0m\u001b[0mkey\u001b[0m\u001b[0;34m)\u001b[0m\u001b[0;34m\u001b[0m\u001b[0m\n\u001b[0m\u001b[1;32m   2689\u001b[0m \u001b[0;34m\u001b[0m\u001b[0m\n\u001b[1;32m   2690\u001b[0m     \u001b[0;32mdef\u001b[0m \u001b[0m_getitem_column\u001b[0m\u001b[0;34m(\u001b[0m\u001b[0mself\u001b[0m\u001b[0;34m,\u001b[0m \u001b[0mkey\u001b[0m\u001b[0;34m)\u001b[0m\u001b[0;34m:\u001b[0m\u001b[0;34m\u001b[0m\u001b[0m\n",
      "\u001b[0;32m~/anaconda3/lib/python3.6/site-packages/pandas/core/frame.py\u001b[0m in \u001b[0;36m_getitem_column\u001b[0;34m(self, key)\u001b[0m\n\u001b[1;32m   2693\u001b[0m         \u001b[0;31m# get column\u001b[0m\u001b[0;34m\u001b[0m\u001b[0;34m\u001b[0m\u001b[0m\n\u001b[1;32m   2694\u001b[0m         \u001b[0;32mif\u001b[0m \u001b[0mself\u001b[0m\u001b[0;34m.\u001b[0m\u001b[0mcolumns\u001b[0m\u001b[0;34m.\u001b[0m\u001b[0mis_unique\u001b[0m\u001b[0;34m:\u001b[0m\u001b[0;34m\u001b[0m\u001b[0m\n\u001b[0;32m-> 2695\u001b[0;31m             \u001b[0;32mreturn\u001b[0m \u001b[0mself\u001b[0m\u001b[0;34m.\u001b[0m\u001b[0m_get_item_cache\u001b[0m\u001b[0;34m(\u001b[0m\u001b[0mkey\u001b[0m\u001b[0;34m)\u001b[0m\u001b[0;34m\u001b[0m\u001b[0m\n\u001b[0m\u001b[1;32m   2696\u001b[0m \u001b[0;34m\u001b[0m\u001b[0m\n\u001b[1;32m   2697\u001b[0m         \u001b[0;31m# duplicate columns & possible reduce dimensionality\u001b[0m\u001b[0;34m\u001b[0m\u001b[0;34m\u001b[0m\u001b[0m\n",
      "\u001b[0;32m~/anaconda3/lib/python3.6/site-packages/pandas/core/generic.py\u001b[0m in \u001b[0;36m_get_item_cache\u001b[0;34m(self, item)\u001b[0m\n\u001b[1;32m   2487\u001b[0m         \u001b[0mres\u001b[0m \u001b[0;34m=\u001b[0m \u001b[0mcache\u001b[0m\u001b[0;34m.\u001b[0m\u001b[0mget\u001b[0m\u001b[0;34m(\u001b[0m\u001b[0mitem\u001b[0m\u001b[0;34m)\u001b[0m\u001b[0;34m\u001b[0m\u001b[0m\n\u001b[1;32m   2488\u001b[0m         \u001b[0;32mif\u001b[0m \u001b[0mres\u001b[0m \u001b[0;32mis\u001b[0m \u001b[0;32mNone\u001b[0m\u001b[0;34m:\u001b[0m\u001b[0;34m\u001b[0m\u001b[0m\n\u001b[0;32m-> 2489\u001b[0;31m             \u001b[0mvalues\u001b[0m \u001b[0;34m=\u001b[0m \u001b[0mself\u001b[0m\u001b[0;34m.\u001b[0m\u001b[0m_data\u001b[0m\u001b[0;34m.\u001b[0m\u001b[0mget\u001b[0m\u001b[0;34m(\u001b[0m\u001b[0mitem\u001b[0m\u001b[0;34m)\u001b[0m\u001b[0;34m\u001b[0m\u001b[0m\n\u001b[0m\u001b[1;32m   2490\u001b[0m             \u001b[0mres\u001b[0m \u001b[0;34m=\u001b[0m \u001b[0mself\u001b[0m\u001b[0;34m.\u001b[0m\u001b[0m_box_item_values\u001b[0m\u001b[0;34m(\u001b[0m\u001b[0mitem\u001b[0m\u001b[0;34m,\u001b[0m \u001b[0mvalues\u001b[0m\u001b[0;34m)\u001b[0m\u001b[0;34m\u001b[0m\u001b[0m\n\u001b[1;32m   2491\u001b[0m             \u001b[0mcache\u001b[0m\u001b[0;34m[\u001b[0m\u001b[0mitem\u001b[0m\u001b[0;34m]\u001b[0m \u001b[0;34m=\u001b[0m \u001b[0mres\u001b[0m\u001b[0;34m\u001b[0m\u001b[0m\n",
      "\u001b[0;32m~/anaconda3/lib/python3.6/site-packages/pandas/core/internals.py\u001b[0m in \u001b[0;36mget\u001b[0;34m(self, item, fastpath)\u001b[0m\n\u001b[1;32m   4113\u001b[0m \u001b[0;34m\u001b[0m\u001b[0m\n\u001b[1;32m   4114\u001b[0m             \u001b[0;32mif\u001b[0m \u001b[0;32mnot\u001b[0m \u001b[0misna\u001b[0m\u001b[0;34m(\u001b[0m\u001b[0mitem\u001b[0m\u001b[0;34m)\u001b[0m\u001b[0;34m:\u001b[0m\u001b[0;34m\u001b[0m\u001b[0m\n\u001b[0;32m-> 4115\u001b[0;31m                 \u001b[0mloc\u001b[0m \u001b[0;34m=\u001b[0m \u001b[0mself\u001b[0m\u001b[0;34m.\u001b[0m\u001b[0mitems\u001b[0m\u001b[0;34m.\u001b[0m\u001b[0mget_loc\u001b[0m\u001b[0;34m(\u001b[0m\u001b[0mitem\u001b[0m\u001b[0;34m)\u001b[0m\u001b[0;34m\u001b[0m\u001b[0m\n\u001b[0m\u001b[1;32m   4116\u001b[0m             \u001b[0;32melse\u001b[0m\u001b[0;34m:\u001b[0m\u001b[0;34m\u001b[0m\u001b[0m\n\u001b[1;32m   4117\u001b[0m                 \u001b[0mindexer\u001b[0m \u001b[0;34m=\u001b[0m \u001b[0mnp\u001b[0m\u001b[0;34m.\u001b[0m\u001b[0marange\u001b[0m\u001b[0;34m(\u001b[0m\u001b[0mlen\u001b[0m\u001b[0;34m(\u001b[0m\u001b[0mself\u001b[0m\u001b[0;34m.\u001b[0m\u001b[0mitems\u001b[0m\u001b[0;34m)\u001b[0m\u001b[0;34m)\u001b[0m\u001b[0;34m[\u001b[0m\u001b[0misna\u001b[0m\u001b[0;34m(\u001b[0m\u001b[0mself\u001b[0m\u001b[0;34m.\u001b[0m\u001b[0mitems\u001b[0m\u001b[0;34m)\u001b[0m\u001b[0;34m]\u001b[0m\u001b[0;34m\u001b[0m\u001b[0m\n",
      "\u001b[0;32m~/anaconda3/lib/python3.6/site-packages/pandas/core/indexes/base.py\u001b[0m in \u001b[0;36mget_loc\u001b[0;34m(self, key, method, tolerance)\u001b[0m\n\u001b[1;32m   3078\u001b[0m                 \u001b[0;32mreturn\u001b[0m \u001b[0mself\u001b[0m\u001b[0;34m.\u001b[0m\u001b[0m_engine\u001b[0m\u001b[0;34m.\u001b[0m\u001b[0mget_loc\u001b[0m\u001b[0;34m(\u001b[0m\u001b[0mkey\u001b[0m\u001b[0;34m)\u001b[0m\u001b[0;34m\u001b[0m\u001b[0m\n\u001b[1;32m   3079\u001b[0m             \u001b[0;32mexcept\u001b[0m \u001b[0mKeyError\u001b[0m\u001b[0;34m:\u001b[0m\u001b[0;34m\u001b[0m\u001b[0m\n\u001b[0;32m-> 3080\u001b[0;31m                 \u001b[0;32mreturn\u001b[0m \u001b[0mself\u001b[0m\u001b[0;34m.\u001b[0m\u001b[0m_engine\u001b[0m\u001b[0;34m.\u001b[0m\u001b[0mget_loc\u001b[0m\u001b[0;34m(\u001b[0m\u001b[0mself\u001b[0m\u001b[0;34m.\u001b[0m\u001b[0m_maybe_cast_indexer\u001b[0m\u001b[0;34m(\u001b[0m\u001b[0mkey\u001b[0m\u001b[0;34m)\u001b[0m\u001b[0;34m)\u001b[0m\u001b[0;34m\u001b[0m\u001b[0m\n\u001b[0m\u001b[1;32m   3081\u001b[0m \u001b[0;34m\u001b[0m\u001b[0m\n\u001b[1;32m   3082\u001b[0m         \u001b[0mindexer\u001b[0m \u001b[0;34m=\u001b[0m \u001b[0mself\u001b[0m\u001b[0;34m.\u001b[0m\u001b[0mget_indexer\u001b[0m\u001b[0;34m(\u001b[0m\u001b[0;34m[\u001b[0m\u001b[0mkey\u001b[0m\u001b[0;34m]\u001b[0m\u001b[0;34m,\u001b[0m \u001b[0mmethod\u001b[0m\u001b[0;34m=\u001b[0m\u001b[0mmethod\u001b[0m\u001b[0;34m,\u001b[0m \u001b[0mtolerance\u001b[0m\u001b[0;34m=\u001b[0m\u001b[0mtolerance\u001b[0m\u001b[0;34m)\u001b[0m\u001b[0;34m\u001b[0m\u001b[0m\n",
      "\u001b[0;32mpandas/_libs/index.pyx\u001b[0m in \u001b[0;36mpandas._libs.index.IndexEngine.get_loc\u001b[0;34m()\u001b[0m\n",
      "\u001b[0;32mpandas/_libs/index.pyx\u001b[0m in \u001b[0;36mpandas._libs.index.IndexEngine.get_loc\u001b[0;34m()\u001b[0m\n",
      "\u001b[0;32mpandas/_libs/hashtable_class_helper.pxi\u001b[0m in \u001b[0;36mpandas._libs.hashtable.PyObjectHashTable.get_item\u001b[0;34m()\u001b[0m\n",
      "\u001b[0;32mpandas/_libs/hashtable_class_helper.pxi\u001b[0m in \u001b[0;36mpandas._libs.hashtable.PyObjectHashTable.get_item\u001b[0;34m()\u001b[0m\n",
      "\u001b[0;31mKeyError\u001b[0m: 'bo_domestic'"
     ]
    }
   ],
   "source": [
    "df_reviews['bo_domestic'] = df_reviews['bo_domestic'].str.replace(',', '')\n",
    "df_reviews['bo_foreign'] = df_reviews['bo_foreign'].str.replace(',', '')\n",
    "df_reviews['bo_domestic'] = df_reviews['bo_domestic'].map(str)\n",
    "df_reviews['bo_foreign'] = df_reviews['bo_foreign'].map(str)\n",
    "\n",
    "for c in ['imdb_18', 'imdb_18_29', 'imdb_30_44', 'imdb_45']:\n",
    "    df_reviews[c] = df_reviews[c] * 10\n",
    "\n",
    "df_max = df_reviews.groupby('movie')['bo_domestic', 'bo_foreign'].max()\n",
    "df_max.head()\n",
    "\n",
    "df_reviews = pd.melt(df_reviews, id_vars='movie')\n"
   ]
  },
  {
   "cell_type": "markdown",
   "metadata": {},
   "source": [
    "#### Defines the colors"
   ]
  },
  {
   "cell_type": "code",
   "execution_count": 4,
   "metadata": {},
   "outputs": [],
   "source": [
    "colors = ['#B49823', '#3F3F3F', '#A8A8A8']"
   ]
  },
  {
   "cell_type": "markdown",
   "metadata": {},
   "source": [
    "## Graphs"
   ]
  },
  {
   "cell_type": "markdown",
   "metadata": {},
   "source": [
    "Makes the graphs of ratings by age group"
   ]
  },
  {
   "cell_type": "code",
   "execution_count": 15,
   "metadata": {
    "scrolled": false
   },
   "outputs": [
    {
     "name": "stderr",
     "output_type": "stream",
     "text": [
      "/Users/mattyancey/anaconda3/lib/python3.6/site-packages/ipykernel_launcher.py:5: SettingWithCopyWarning: \n",
      "A value is trying to be set on a copy of a slice from a DataFrame.\n",
      "Try using .loc[row_indexer,col_indexer] = value instead\n",
      "\n",
      "See the caveats in the documentation: http://pandas.pydata.org/pandas-docs/stable/indexing.html#indexing-view-versus-copy\n",
      "  \"\"\"\n",
      "/Users/mattyancey/anaconda3/lib/python3.6/site-packages/ipykernel_launcher.py:6: SettingWithCopyWarning: \n",
      "A value is trying to be set on a copy of a slice from a DataFrame\n",
      "\n",
      "See the caveats in the documentation: http://pandas.pydata.org/pandas-docs/stable/indexing.html#indexing-view-versus-copy\n",
      "  \n"
     ]
    },
    {
     "data": {
      "text/html": [
       "\n",
       "\n",
       "\n",
       "\n",
       "\n",
       "\n",
       "  <div class=\"bk-root\" id=\"d83b7fec-0ea3-4dc2-a6a0-5c79fa9e8818\"></div>\n"
      ]
     },
     "metadata": {},
     "output_type": "display_data"
    },
    {
     "data": {
      "application/javascript": [
       "(function(root) {\n",
       "  function embed_document(root) {\n",
       "    \n",
       "  var docs_json = {\"d3319982-942a-4470-83c5-57df22d75ab7\":{\"roots\":{\"references\":[{\"attributes\":{},\"id\":\"184794f8-9f5d-4333-8a9e-60f0cef05e85\",\"type\":\"LinearScale\"},{\"attributes\":{},\"id\":\"14665a3f-684a-4249-8dd4-d7b4bf8b629c\",\"type\":\"UnionRenderers\"},{\"attributes\":{\"formatter\":{\"id\":\"12d5d126-84da-489a-892f-c2564ef0106a\",\"type\":\"BasicTickFormatter\"},\"plot\":{\"id\":\"b47db597-2e3f-45b6-ae91-9c021fe93dce\",\"subtype\":\"Figure\",\"type\":\"Plot\"},\"ticker\":{\"id\":\"368aba3b-ebe0-4c33-8464-c7eb8355695d\",\"type\":\"BasicTicker\"}},\"id\":\"e411cc5c-9df1-4552-b74b-aceaa0c18ada\",\"type\":\"LinearAxis\"},{\"attributes\":{},\"id\":\"368aba3b-ebe0-4c33-8464-c7eb8355695d\",\"type\":\"BasicTicker\"},{\"attributes\":{\"plot\":{\"id\":\"b47db597-2e3f-45b6-ae91-9c021fe93dce\",\"subtype\":\"Figure\",\"type\":\"Plot\"},\"ticker\":{\"id\":\"74202e9c-34d3-46be-93fe-01f43b205c8f\",\"type\":\"CategoricalTicker\"}},\"id\":\"45725b01-a914-4b08-9172-dcb4debc85de\",\"type\":\"Grid\"},{\"attributes\":{\"callback\":null,\"data\":{\"highlight\":[\"#B49823\",\"#3F3F3F\",\"#3F3F3F\",\"#3F3F3F\"],\"index\":[0,8,16,24],\"movie\":[\"black panther\",\"black panther\",\"black panther\",\"black panther\"],\"value\":[80.0,75.0,71.0,71.0],\"variable\":[\"imdb_18\",\"imdb_18_29\",\"imdb_30_44\",\"imdb_45\"]},\"selected\":{\"id\":\"cb0af506-b93c-4a48-915a-f920555b2707\",\"type\":\"Selection\"},\"selection_policy\":{\"id\":\"14665a3f-684a-4249-8dd4-d7b4bf8b629c\",\"type\":\"UnionRenderers\"}},\"id\":\"1bae2a4d-e049-4846-9c2e-afac2f7e7e01\",\"type\":\"ColumnDataSource\"},{\"attributes\":{},\"id\":\"cb0af506-b93c-4a48-915a-f920555b2707\",\"type\":\"Selection\"},{\"attributes\":{\"fill_alpha\":{\"value\":0.1},\"fill_color\":{\"value\":\"#1f77b4\"},\"line_alpha\":{\"value\":0.1},\"line_color\":{\"value\":\"#1f77b4\"},\"top\":{\"field\":\"value\"},\"width\":{\"value\":0.9},\"x\":{\"field\":\"variable\"}},\"id\":\"c8d6c798-29dd-41f5-8df5-5efefc620a43\",\"type\":\"VBar\"},{\"attributes\":{},\"id\":\"74202e9c-34d3-46be-93fe-01f43b205c8f\",\"type\":\"CategoricalTicker\"},{\"attributes\":{\"below\":[{\"id\":\"687b32d6-5d64-4c0c-a24d-be2f55addb95\",\"type\":\"CategoricalAxis\"}],\"left\":[{\"id\":\"e411cc5c-9df1-4552-b74b-aceaa0c18ada\",\"type\":\"LinearAxis\"}],\"renderers\":[{\"id\":\"687b32d6-5d64-4c0c-a24d-be2f55addb95\",\"type\":\"CategoricalAxis\"},{\"id\":\"45725b01-a914-4b08-9172-dcb4debc85de\",\"type\":\"Grid\"},{\"id\":\"e411cc5c-9df1-4552-b74b-aceaa0c18ada\",\"type\":\"LinearAxis\"},{\"id\":\"8028eeb9-2545-4e69-8f81-c6664708b25d\",\"type\":\"Grid\"},{\"id\":\"c90d3faf-da7f-4ad3-9bb1-2e6ae64b9d81\",\"type\":\"GlyphRenderer\"}],\"title\":{\"id\":\"0a188820-4af3-44aa-aa82-80b95420e1b4\",\"type\":\"Title\"},\"toolbar\":{\"id\":\"87448677-d70f-403a-8782-85973984628f\",\"type\":\"Toolbar\"},\"toolbar_location\":null,\"x_range\":{\"id\":\"a8e573ff-6389-4371-a674-18ca8f99e91e\",\"type\":\"FactorRange\"},\"x_scale\":{\"id\":\"bdc1fda5-80df-4e11-ac9f-3567b84e40d8\",\"type\":\"CategoricalScale\"},\"y_range\":{\"id\":\"a7f7b177-276d-40cf-8fb8-f29c797d0678\",\"type\":\"Range1d\"},\"y_scale\":{\"id\":\"184794f8-9f5d-4333-8a9e-60f0cef05e85\",\"type\":\"LinearScale\"}},\"id\":\"b47db597-2e3f-45b6-ae91-9c021fe93dce\",\"subtype\":\"Figure\",\"type\":\"Plot\"},{\"attributes\":{\"formatter\":{\"id\":\"b7d98bd7-00a9-4b0a-a91a-100b03320c43\",\"type\":\"CategoricalTickFormatter\"},\"plot\":{\"id\":\"b47db597-2e3f-45b6-ae91-9c021fe93dce\",\"subtype\":\"Figure\",\"type\":\"Plot\"},\"ticker\":{\"id\":\"74202e9c-34d3-46be-93fe-01f43b205c8f\",\"type\":\"CategoricalTicker\"}},\"id\":\"687b32d6-5d64-4c0c-a24d-be2f55addb95\",\"type\":\"CategoricalAxis\"},{\"attributes\":{\"fill_color\":{\"field\":\"highlight\"},\"line_color\":{\"value\":\"#A8A8A8\"},\"top\":{\"field\":\"value\"},\"width\":{\"value\":0.9},\"x\":{\"field\":\"variable\"}},\"id\":\"5adbaff5-019c-45bb-ba88-6dc08d6d4834\",\"type\":\"VBar\"},{\"attributes\":{\"plot\":null,\"text\":\"black panther\"},\"id\":\"0a188820-4af3-44aa-aa82-80b95420e1b4\",\"type\":\"Title\"},{\"attributes\":{\"dimension\":1,\"plot\":{\"id\":\"b47db597-2e3f-45b6-ae91-9c021fe93dce\",\"subtype\":\"Figure\",\"type\":\"Plot\"},\"ticker\":{\"id\":\"368aba3b-ebe0-4c33-8464-c7eb8355695d\",\"type\":\"BasicTicker\"}},\"id\":\"8028eeb9-2545-4e69-8f81-c6664708b25d\",\"type\":\"Grid\"},{\"attributes\":{\"callback\":null,\"end\":82.0,\"start\":65},\"id\":\"a7f7b177-276d-40cf-8fb8-f29c797d0678\",\"type\":\"Range1d\"},{\"attributes\":{},\"id\":\"b7d98bd7-00a9-4b0a-a91a-100b03320c43\",\"type\":\"CategoricalTickFormatter\"},{\"attributes\":{},\"id\":\"bdc1fda5-80df-4e11-ac9f-3567b84e40d8\",\"type\":\"CategoricalScale\"},{\"attributes\":{\"active_drag\":\"auto\",\"active_inspect\":\"auto\",\"active_multi\":null,\"active_scroll\":\"auto\",\"active_tap\":\"auto\"},\"id\":\"87448677-d70f-403a-8782-85973984628f\",\"type\":\"Toolbar\"},{\"attributes\":{\"source\":{\"id\":\"1bae2a4d-e049-4846-9c2e-afac2f7e7e01\",\"type\":\"ColumnDataSource\"}},\"id\":\"0d17dce5-231f-4b02-a75e-f864f89b0089\",\"type\":\"CDSView\"},{\"attributes\":{\"callback\":null,\"factors\":[\"imdb_18\",\"imdb_18_29\",\"imdb_30_44\",\"imdb_45\"]},\"id\":\"a8e573ff-6389-4371-a674-18ca8f99e91e\",\"type\":\"FactorRange\"},{\"attributes\":{},\"id\":\"12d5d126-84da-489a-892f-c2564ef0106a\",\"type\":\"BasicTickFormatter\"},{\"attributes\":{\"data_source\":{\"id\":\"1bae2a4d-e049-4846-9c2e-afac2f7e7e01\",\"type\":\"ColumnDataSource\"},\"glyph\":{\"id\":\"5adbaff5-019c-45bb-ba88-6dc08d6d4834\",\"type\":\"VBar\"},\"hover_glyph\":null,\"muted_glyph\":null,\"nonselection_glyph\":{\"id\":\"c8d6c798-29dd-41f5-8df5-5efefc620a43\",\"type\":\"VBar\"},\"selection_glyph\":null,\"view\":{\"id\":\"0d17dce5-231f-4b02-a75e-f864f89b0089\",\"type\":\"CDSView\"}},\"id\":\"c90d3faf-da7f-4ad3-9bb1-2e6ae64b9d81\",\"type\":\"GlyphRenderer\"}],\"root_ids\":[\"b47db597-2e3f-45b6-ae91-9c021fe93dce\"]},\"title\":\"Bokeh Application\",\"version\":\"0.13.0\"}};\n",
       "  var render_items = [{\"docid\":\"d3319982-942a-4470-83c5-57df22d75ab7\",\"roots\":{\"b47db597-2e3f-45b6-ae91-9c021fe93dce\":\"d83b7fec-0ea3-4dc2-a6a0-5c79fa9e8818\"}}];\n",
       "  root.Bokeh.embed.embed_items_notebook(docs_json, render_items);\n",
       "\n",
       "  }\n",
       "  if (root.Bokeh !== undefined) {\n",
       "    embed_document(root);\n",
       "  } else {\n",
       "    var attempts = 0;\n",
       "    var timer = setInterval(function(root) {\n",
       "      if (root.Bokeh !== undefined) {\n",
       "        embed_document(root);\n",
       "        clearInterval(timer);\n",
       "      }\n",
       "      attempts++;\n",
       "      if (attempts > 100) {\n",
       "        console.log(\"Bokeh: ERROR: Unable to run BokehJS code because BokehJS library is missing\")\n",
       "        clearInterval(timer);\n",
       "      }\n",
       "    }, 10, root)\n",
       "  }\n",
       "})(window);"
      ],
      "application/vnd.bokehjs_exec.v0+json": ""
     },
     "metadata": {
      "application/vnd.bokehjs_exec.v0+json": {
       "id": "b47db597-2e3f-45b6-ae91-9c021fe93dce"
      }
     },
     "output_type": "display_data"
    },
    {
     "data": {
      "text/html": [
       "\n",
       "\n",
       "\n",
       "\n",
       "\n",
       "\n",
       "  <div class=\"bk-root\" id=\"ccb87b04-039b-4494-ad60-8393aa787265\"></div>\n"
      ]
     },
     "metadata": {},
     "output_type": "display_data"
    },
    {
     "data": {
      "application/javascript": [
       "(function(root) {\n",
       "  function embed_document(root) {\n",
       "    \n",
       "  var docs_json = {\"f5c5df5a-848c-4698-837c-256d6f3898ab\":{\"roots\":{\"references\":[{\"attributes\":{\"fill_alpha\":{\"value\":0.1},\"fill_color\":{\"value\":\"#1f77b4\"},\"line_alpha\":{\"value\":0.1},\"line_color\":{\"value\":\"#1f77b4\"},\"top\":{\"field\":\"value\"},\"width\":{\"value\":0.9},\"x\":{\"field\":\"variable\"}},\"id\":\"3d34f6be-7a3b-43a9-ac21-afe8cb31d792\",\"type\":\"VBar\"},{\"attributes\":{\"source\":{\"id\":\"e4329f03-da08-4c85-b8d2-b787551ac896\",\"type\":\"ColumnDataSource\"}},\"id\":\"7038412d-d9d5-489a-9e9e-37145501825e\",\"type\":\"CDSView\"},{\"attributes\":{\"data_source\":{\"id\":\"e4329f03-da08-4c85-b8d2-b787551ac896\",\"type\":\"ColumnDataSource\"},\"glyph\":{\"id\":\"9e697603-caeb-49aa-bf42-6214bd421b2c\",\"type\":\"VBar\"},\"hover_glyph\":null,\"muted_glyph\":null,\"nonselection_glyph\":{\"id\":\"3d34f6be-7a3b-43a9-ac21-afe8cb31d792\",\"type\":\"VBar\"},\"selection_glyph\":null,\"view\":{\"id\":\"7038412d-d9d5-489a-9e9e-37145501825e\",\"type\":\"CDSView\"}},\"id\":\"18397283-816d-47ca-abc7-fbb42487d8d8\",\"type\":\"GlyphRenderer\"},{\"attributes\":{\"plot\":{\"id\":\"fa656ae7-a59e-45fb-890f-dc0188750b33\",\"subtype\":\"Figure\",\"type\":\"Plot\"},\"ticker\":{\"id\":\"021b4171-4b85-42ce-bf56-2d549d2c3623\",\"type\":\"CategoricalTicker\"}},\"id\":\"50178033-e372-4614-baed-02e289a95c2d\",\"type\":\"Grid\"},{\"attributes\":{\"callback\":null,\"factors\":[\"imdb_18\",\"imdb_18_29\",\"imdb_30_44\",\"imdb_45\"]},\"id\":\"9169d421-c5e1-48e5-b007-1885922580eb\",\"type\":\"FactorRange\"},{\"attributes\":{},\"id\":\"021b4171-4b85-42ce-bf56-2d549d2c3623\",\"type\":\"CategoricalTicker\"},{\"attributes\":{\"formatter\":{\"id\":\"c19d2a87-f026-4e73-abe3-5e84baaa9725\",\"type\":\"BasicTickFormatter\"},\"plot\":{\"id\":\"fa656ae7-a59e-45fb-890f-dc0188750b33\",\"subtype\":\"Figure\",\"type\":\"Plot\"},\"ticker\":{\"id\":\"3691c552-a5ca-4ff2-8388-dbedd1c36f5c\",\"type\":\"BasicTicker\"}},\"id\":\"18f63e7d-f847-40ba-a439-c9bbe7086c87\",\"type\":\"LinearAxis\"},{\"attributes\":{\"dimension\":1,\"plot\":{\"id\":\"fa656ae7-a59e-45fb-890f-dc0188750b33\",\"subtype\":\"Figure\",\"type\":\"Plot\"},\"ticker\":{\"id\":\"3691c552-a5ca-4ff2-8388-dbedd1c36f5c\",\"type\":\"BasicTicker\"}},\"id\":\"52142590-bfe9-47b8-9c3f-fe6859ad4ab6\",\"type\":\"Grid\"},{\"attributes\":{},\"id\":\"17711842-4386-4d00-af73-0cf77e3a6430\",\"type\":\"CategoricalScale\"},{\"attributes\":{\"plot\":null,\"text\":\"blackkklansman\"},\"id\":\"8d6318ec-0f5d-47f8-adff-ee148af4c387\",\"type\":\"Title\"},{\"attributes\":{},\"id\":\"61ed522f-01b7-4ecd-bb48-1e5cfa5979b3\",\"type\":\"CategoricalTickFormatter\"},{\"attributes\":{},\"id\":\"c6c967c9-4806-4c03-ae4a-4273dd46564d\",\"type\":\"Selection\"},{\"attributes\":{\"fill_color\":{\"field\":\"highlight\"},\"line_color\":{\"value\":\"#A8A8A8\"},\"top\":{\"field\":\"value\"},\"width\":{\"value\":0.9},\"x\":{\"field\":\"variable\"}},\"id\":\"9e697603-caeb-49aa-bf42-6214bd421b2c\",\"type\":\"VBar\"},{\"attributes\":{},\"id\":\"0c9a314c-99c3-431e-9432-db1aa2c80834\",\"type\":\"LinearScale\"},{\"attributes\":{},\"id\":\"3691c552-a5ca-4ff2-8388-dbedd1c36f5c\",\"type\":\"BasicTicker\"},{\"attributes\":{\"active_drag\":\"auto\",\"active_inspect\":\"auto\",\"active_multi\":null,\"active_scroll\":\"auto\",\"active_tap\":\"auto\"},\"id\":\"aa2005e1-36c7-4583-8631-2b7483c2e49e\",\"type\":\"Toolbar\"},{\"attributes\":{},\"id\":\"c19d2a87-f026-4e73-abe3-5e84baaa9725\",\"type\":\"BasicTickFormatter\"},{\"attributes\":{},\"id\":\"d4f1b512-7fea-4b9e-845b-835d567e18bd\",\"type\":\"UnionRenderers\"},{\"attributes\":{\"below\":[{\"id\":\"a7547a66-3fa5-4c0a-afc2-af1108f311b4\",\"type\":\"CategoricalAxis\"}],\"left\":[{\"id\":\"18f63e7d-f847-40ba-a439-c9bbe7086c87\",\"type\":\"LinearAxis\"}],\"renderers\":[{\"id\":\"a7547a66-3fa5-4c0a-afc2-af1108f311b4\",\"type\":\"CategoricalAxis\"},{\"id\":\"50178033-e372-4614-baed-02e289a95c2d\",\"type\":\"Grid\"},{\"id\":\"18f63e7d-f847-40ba-a439-c9bbe7086c87\",\"type\":\"LinearAxis\"},{\"id\":\"52142590-bfe9-47b8-9c3f-fe6859ad4ab6\",\"type\":\"Grid\"},{\"id\":\"18397283-816d-47ca-abc7-fbb42487d8d8\",\"type\":\"GlyphRenderer\"}],\"title\":{\"id\":\"8d6318ec-0f5d-47f8-adff-ee148af4c387\",\"type\":\"Title\"},\"toolbar\":{\"id\":\"aa2005e1-36c7-4583-8631-2b7483c2e49e\",\"type\":\"Toolbar\"},\"toolbar_location\":null,\"x_range\":{\"id\":\"9169d421-c5e1-48e5-b007-1885922580eb\",\"type\":\"FactorRange\"},\"x_scale\":{\"id\":\"17711842-4386-4d00-af73-0cf77e3a6430\",\"type\":\"CategoricalScale\"},\"y_range\":{\"id\":\"4fcb4956-d2b8-4801-8b1f-67d826fe78b1\",\"type\":\"Range1d\"},\"y_scale\":{\"id\":\"0c9a314c-99c3-431e-9432-db1aa2c80834\",\"type\":\"LinearScale\"}},\"id\":\"fa656ae7-a59e-45fb-890f-dc0188750b33\",\"subtype\":\"Figure\",\"type\":\"Plot\"},{\"attributes\":{\"callback\":null,\"end\":83.0,\"start\":65},\"id\":\"4fcb4956-d2b8-4801-8b1f-67d826fe78b1\",\"type\":\"Range1d\"},{\"attributes\":{\"callback\":null,\"data\":{\"highlight\":[\"#B49823\",\"#3F3F3F\",\"#3F3F3F\",\"#3F3F3F\"],\"index\":[1,9,17,25],\"movie\":[\"blackkklansman\",\"blackkklansman\",\"blackkklansman\",\"blackkklansman\"],\"value\":[81.0,77.0,74.0,74.0],\"variable\":[\"imdb_18\",\"imdb_18_29\",\"imdb_30_44\",\"imdb_45\"]},\"selected\":{\"id\":\"c6c967c9-4806-4c03-ae4a-4273dd46564d\",\"type\":\"Selection\"},\"selection_policy\":{\"id\":\"d4f1b512-7fea-4b9e-845b-835d567e18bd\",\"type\":\"UnionRenderers\"}},\"id\":\"e4329f03-da08-4c85-b8d2-b787551ac896\",\"type\":\"ColumnDataSource\"},{\"attributes\":{\"formatter\":{\"id\":\"61ed522f-01b7-4ecd-bb48-1e5cfa5979b3\",\"type\":\"CategoricalTickFormatter\"},\"plot\":{\"id\":\"fa656ae7-a59e-45fb-890f-dc0188750b33\",\"subtype\":\"Figure\",\"type\":\"Plot\"},\"ticker\":{\"id\":\"021b4171-4b85-42ce-bf56-2d549d2c3623\",\"type\":\"CategoricalTicker\"}},\"id\":\"a7547a66-3fa5-4c0a-afc2-af1108f311b4\",\"type\":\"CategoricalAxis\"}],\"root_ids\":[\"fa656ae7-a59e-45fb-890f-dc0188750b33\"]},\"title\":\"Bokeh Application\",\"version\":\"0.13.0\"}};\n",
       "  var render_items = [{\"docid\":\"f5c5df5a-848c-4698-837c-256d6f3898ab\",\"roots\":{\"fa656ae7-a59e-45fb-890f-dc0188750b33\":\"ccb87b04-039b-4494-ad60-8393aa787265\"}}];\n",
       "  root.Bokeh.embed.embed_items_notebook(docs_json, render_items);\n",
       "\n",
       "  }\n",
       "  if (root.Bokeh !== undefined) {\n",
       "    embed_document(root);\n",
       "  } else {\n",
       "    var attempts = 0;\n",
       "    var timer = setInterval(function(root) {\n",
       "      if (root.Bokeh !== undefined) {\n",
       "        embed_document(root);\n",
       "        clearInterval(timer);\n",
       "      }\n",
       "      attempts++;\n",
       "      if (attempts > 100) {\n",
       "        console.log(\"Bokeh: ERROR: Unable to run BokehJS code because BokehJS library is missing\")\n",
       "        clearInterval(timer);\n",
       "      }\n",
       "    }, 10, root)\n",
       "  }\n",
       "})(window);"
      ],
      "application/vnd.bokehjs_exec.v0+json": ""
     },
     "metadata": {
      "application/vnd.bokehjs_exec.v0+json": {
       "id": "fa656ae7-a59e-45fb-890f-dc0188750b33"
      }
     },
     "output_type": "display_data"
    },
    {
     "data": {
      "text/html": [
       "\n",
       "\n",
       "\n",
       "\n",
       "\n",
       "\n",
       "  <div class=\"bk-root\" id=\"35e0a6bc-d606-4b64-aa98-2765e3e8fa4e\"></div>\n"
      ]
     },
     "metadata": {},
     "output_type": "display_data"
    },
    {
     "data": {
      "application/javascript": [
       "(function(root) {\n",
       "  function embed_document(root) {\n",
       "    \n",
       "  var docs_json = {\"d4dce3bf-7d06-4486-8840-914a9bf17b30\":{\"roots\":{\"references\":[{\"attributes\":{\"callback\":null,\"factors\":[\"imdb_18\",\"imdb_18_29\",\"imdb_30_44\",\"imdb_45\"]},\"id\":\"df07114f-c306-47bd-b280-7ac41d51b5e7\",\"type\":\"FactorRange\"},{\"attributes\":{\"below\":[{\"id\":\"9f313bf1-5268-44d7-b3b3-809a5a160763\",\"type\":\"CategoricalAxis\"}],\"left\":[{\"id\":\"bcc85f24-4e76-4338-b065-8634364433ae\",\"type\":\"LinearAxis\"}],\"renderers\":[{\"id\":\"9f313bf1-5268-44d7-b3b3-809a5a160763\",\"type\":\"CategoricalAxis\"},{\"id\":\"777d03a0-9230-4d61-8257-1dd02a4aa287\",\"type\":\"Grid\"},{\"id\":\"bcc85f24-4e76-4338-b065-8634364433ae\",\"type\":\"LinearAxis\"},{\"id\":\"1133c624-585d-4028-a70f-f7d77797468f\",\"type\":\"Grid\"},{\"id\":\"ff6e440b-4e62-4ac1-81eb-bc88003b1a89\",\"type\":\"GlyphRenderer\"}],\"title\":{\"id\":\"71c7b560-81ba-4a02-848e-81affc38dbe0\",\"type\":\"Title\"},\"toolbar\":{\"id\":\"7a7f3387-38f2-4449-986b-ae0a38458aab\",\"type\":\"Toolbar\"},\"toolbar_location\":null,\"x_range\":{\"id\":\"df07114f-c306-47bd-b280-7ac41d51b5e7\",\"type\":\"FactorRange\"},\"x_scale\":{\"id\":\"cc536d49-4f1b-411f-b272-ca8dbc20db02\",\"type\":\"CategoricalScale\"},\"y_range\":{\"id\":\"6c3f7710-622b-467f-89b6-00fe963834f3\",\"type\":\"Range1d\"},\"y_scale\":{\"id\":\"7bf6844a-d178-4092-9a26-cfb754949a70\",\"type\":\"LinearScale\"}},\"id\":\"d5abbcde-b66f-4e5b-aa1c-99761b95ecda\",\"subtype\":\"Figure\",\"type\":\"Plot\"},{\"attributes\":{},\"id\":\"f1bba970-019a-4fc6-8f6c-55a8c91cf0ab\",\"type\":\"BasicTickFormatter\"},{\"attributes\":{\"source\":{\"id\":\"eed60342-f4d2-44e8-9a68-e0a97644f85e\",\"type\":\"ColumnDataSource\"}},\"id\":\"a5389ca4-7577-4ce6-bd5e-42928ba46151\",\"type\":\"CDSView\"},{\"attributes\":{\"formatter\":{\"id\":\"60a66b24-fc57-412b-abaf-904ba928ea04\",\"type\":\"CategoricalTickFormatter\"},\"plot\":{\"id\":\"d5abbcde-b66f-4e5b-aa1c-99761b95ecda\",\"subtype\":\"Figure\",\"type\":\"Plot\"},\"ticker\":{\"id\":\"ddfcfad2-7c64-4acb-bcf8-38c53c296a96\",\"type\":\"CategoricalTicker\"}},\"id\":\"9f313bf1-5268-44d7-b3b3-809a5a160763\",\"type\":\"CategoricalAxis\"},{\"attributes\":{\"data_source\":{\"id\":\"eed60342-f4d2-44e8-9a68-e0a97644f85e\",\"type\":\"ColumnDataSource\"},\"glyph\":{\"id\":\"3da4bb39-52d0-4c25-8597-b3808712a46a\",\"type\":\"VBar\"},\"hover_glyph\":null,\"muted_glyph\":null,\"nonselection_glyph\":{\"id\":\"805e3566-7be2-42b2-b006-05a8f2072967\",\"type\":\"VBar\"},\"selection_glyph\":null,\"view\":{\"id\":\"a5389ca4-7577-4ce6-bd5e-42928ba46151\",\"type\":\"CDSView\"}},\"id\":\"ff6e440b-4e62-4ac1-81eb-bc88003b1a89\",\"type\":\"GlyphRenderer\"},{\"attributes\":{\"fill_alpha\":{\"value\":0.1},\"fill_color\":{\"value\":\"#1f77b4\"},\"line_alpha\":{\"value\":0.1},\"line_color\":{\"value\":\"#1f77b4\"},\"top\":{\"field\":\"value\"},\"width\":{\"value\":0.9},\"x\":{\"field\":\"variable\"}},\"id\":\"805e3566-7be2-42b2-b006-05a8f2072967\",\"type\":\"VBar\"},{\"attributes\":{},\"id\":\"cc536d49-4f1b-411f-b272-ca8dbc20db02\",\"type\":\"CategoricalScale\"},{\"attributes\":{\"formatter\":{\"id\":\"f1bba970-019a-4fc6-8f6c-55a8c91cf0ab\",\"type\":\"BasicTickFormatter\"},\"plot\":{\"id\":\"d5abbcde-b66f-4e5b-aa1c-99761b95ecda\",\"subtype\":\"Figure\",\"type\":\"Plot\"},\"ticker\":{\"id\":\"5393662c-e44c-4e3b-aeb4-218cfe551f5f\",\"type\":\"BasicTicker\"}},\"id\":\"bcc85f24-4e76-4338-b065-8634364433ae\",\"type\":\"LinearAxis\"},{\"attributes\":{\"active_drag\":\"auto\",\"active_inspect\":\"auto\",\"active_multi\":null,\"active_scroll\":\"auto\",\"active_tap\":\"auto\"},\"id\":\"7a7f3387-38f2-4449-986b-ae0a38458aab\",\"type\":\"Toolbar\"},{\"attributes\":{},\"id\":\"ddfcfad2-7c64-4acb-bcf8-38c53c296a96\",\"type\":\"CategoricalTicker\"},{\"attributes\":{},\"id\":\"60a66b24-fc57-412b-abaf-904ba928ea04\",\"type\":\"CategoricalTickFormatter\"},{\"attributes\":{\"plot\":null,\"text\":\"bohemian rhapsody\"},\"id\":\"71c7b560-81ba-4a02-848e-81affc38dbe0\",\"type\":\"Title\"},{\"attributes\":{},\"id\":\"d8d0b242-ad0a-4686-94d1-0915237ad05e\",\"type\":\"Selection\"},{\"attributes\":{\"callback\":null,\"end\":86.0,\"start\":65},\"id\":\"6c3f7710-622b-467f-89b6-00fe963834f3\",\"type\":\"Range1d\"},{\"attributes\":{\"fill_color\":{\"field\":\"highlight\"},\"line_color\":{\"value\":\"#A8A8A8\"},\"top\":{\"field\":\"value\"},\"width\":{\"value\":0.9},\"x\":{\"field\":\"variable\"}},\"id\":\"3da4bb39-52d0-4c25-8597-b3808712a46a\",\"type\":\"VBar\"},{\"attributes\":{},\"id\":\"b0571c46-c857-4325-b571-9ce4f83879ab\",\"type\":\"UnionRenderers\"},{\"attributes\":{},\"id\":\"5393662c-e44c-4e3b-aeb4-218cfe551f5f\",\"type\":\"BasicTicker\"},{\"attributes\":{},\"id\":\"7bf6844a-d178-4092-9a26-cfb754949a70\",\"type\":\"LinearScale\"},{\"attributes\":{\"dimension\":1,\"plot\":{\"id\":\"d5abbcde-b66f-4e5b-aa1c-99761b95ecda\",\"subtype\":\"Figure\",\"type\":\"Plot\"},\"ticker\":{\"id\":\"5393662c-e44c-4e3b-aeb4-218cfe551f5f\",\"type\":\"BasicTicker\"}},\"id\":\"1133c624-585d-4028-a70f-f7d77797468f\",\"type\":\"Grid\"},{\"attributes\":{\"callback\":null,\"data\":{\"highlight\":[\"#B49823\",\"#3F3F3F\",\"#3F3F3F\",\"#3F3F3F\"],\"index\":[2,10,18,26],\"movie\":[\"bohemian rhapsody\",\"bohemian rhapsody\",\"bohemian rhapsody\",\"bohemian rhapsody\"],\"value\":[84.0,82.0,82.0,83.0],\"variable\":[\"imdb_18\",\"imdb_18_29\",\"imdb_30_44\",\"imdb_45\"]},\"selected\":{\"id\":\"d8d0b242-ad0a-4686-94d1-0915237ad05e\",\"type\":\"Selection\"},\"selection_policy\":{\"id\":\"b0571c46-c857-4325-b571-9ce4f83879ab\",\"type\":\"UnionRenderers\"}},\"id\":\"eed60342-f4d2-44e8-9a68-e0a97644f85e\",\"type\":\"ColumnDataSource\"},{\"attributes\":{\"plot\":{\"id\":\"d5abbcde-b66f-4e5b-aa1c-99761b95ecda\",\"subtype\":\"Figure\",\"type\":\"Plot\"},\"ticker\":{\"id\":\"ddfcfad2-7c64-4acb-bcf8-38c53c296a96\",\"type\":\"CategoricalTicker\"}},\"id\":\"777d03a0-9230-4d61-8257-1dd02a4aa287\",\"type\":\"Grid\"}],\"root_ids\":[\"d5abbcde-b66f-4e5b-aa1c-99761b95ecda\"]},\"title\":\"Bokeh Application\",\"version\":\"0.13.0\"}};\n",
       "  var render_items = [{\"docid\":\"d4dce3bf-7d06-4486-8840-914a9bf17b30\",\"roots\":{\"d5abbcde-b66f-4e5b-aa1c-99761b95ecda\":\"35e0a6bc-d606-4b64-aa98-2765e3e8fa4e\"}}];\n",
       "  root.Bokeh.embed.embed_items_notebook(docs_json, render_items);\n",
       "\n",
       "  }\n",
       "  if (root.Bokeh !== undefined) {\n",
       "    embed_document(root);\n",
       "  } else {\n",
       "    var attempts = 0;\n",
       "    var timer = setInterval(function(root) {\n",
       "      if (root.Bokeh !== undefined) {\n",
       "        embed_document(root);\n",
       "        clearInterval(timer);\n",
       "      }\n",
       "      attempts++;\n",
       "      if (attempts > 100) {\n",
       "        console.log(\"Bokeh: ERROR: Unable to run BokehJS code because BokehJS library is missing\")\n",
       "        clearInterval(timer);\n",
       "      }\n",
       "    }, 10, root)\n",
       "  }\n",
       "})(window);"
      ],
      "application/vnd.bokehjs_exec.v0+json": ""
     },
     "metadata": {
      "application/vnd.bokehjs_exec.v0+json": {
       "id": "d5abbcde-b66f-4e5b-aa1c-99761b95ecda"
      }
     },
     "output_type": "display_data"
    },
    {
     "data": {
      "text/html": [
       "\n",
       "\n",
       "\n",
       "\n",
       "\n",
       "\n",
       "  <div class=\"bk-root\" id=\"6bed93e3-90ed-4f38-8db2-1a363bb3a673\"></div>\n"
      ]
     },
     "metadata": {},
     "output_type": "display_data"
    },
    {
     "data": {
      "application/javascript": [
       "(function(root) {\n",
       "  function embed_document(root) {\n",
       "    \n",
       "  var docs_json = {\"a31a7034-7c68-42e3-b170-d6edf1d351d9\":{\"roots\":{\"references\":[{\"attributes\":{\"fill_alpha\":{\"value\":0.1},\"fill_color\":{\"value\":\"#1f77b4\"},\"line_alpha\":{\"value\":0.1},\"line_color\":{\"value\":\"#1f77b4\"},\"top\":{\"field\":\"value\"},\"width\":{\"value\":0.9},\"x\":{\"field\":\"variable\"}},\"id\":\"8837e408-6bd4-410e-bae0-20077effaf3e\",\"type\":\"VBar\"},{\"attributes\":{},\"id\":\"65956d80-39f6-4dff-bcdc-68c18e4ffe6d\",\"type\":\"UnionRenderers\"},{\"attributes\":{\"below\":[{\"id\":\"e19ab4b0-6bc9-490b-bf1f-f36d50aaad3c\",\"type\":\"CategoricalAxis\"}],\"left\":[{\"id\":\"b93bd142-4e13-451b-81ed-2f4226405386\",\"type\":\"LinearAxis\"}],\"renderers\":[{\"id\":\"e19ab4b0-6bc9-490b-bf1f-f36d50aaad3c\",\"type\":\"CategoricalAxis\"},{\"id\":\"5e9b23c4-2605-4d93-a9fc-d59b79f8ddc8\",\"type\":\"Grid\"},{\"id\":\"b93bd142-4e13-451b-81ed-2f4226405386\",\"type\":\"LinearAxis\"},{\"id\":\"4c830e08-f367-4b1d-a7db-14f1b6416194\",\"type\":\"Grid\"},{\"id\":\"c9e024fa-99c4-4293-8351-15494b007302\",\"type\":\"GlyphRenderer\"}],\"title\":{\"id\":\"4ccc4ce9-8792-4044-9e4d-40b8033ab5b4\",\"type\":\"Title\"},\"toolbar\":{\"id\":\"d081cf7b-1461-489b-924d-9c57c0ea192e\",\"type\":\"Toolbar\"},\"toolbar_location\":null,\"x_range\":{\"id\":\"64a7121b-6338-47d6-a2ff-3ce2998c80f2\",\"type\":\"FactorRange\"},\"x_scale\":{\"id\":\"86ae6c64-ecb4-4407-af05-acf37982c789\",\"type\":\"CategoricalScale\"},\"y_range\":{\"id\":\"e50eb1fb-500b-47a3-b39e-7e8b16863123\",\"type\":\"Range1d\"},\"y_scale\":{\"id\":\"cd333104-b1b8-44ff-9ec7-acabcfcbdafb\",\"type\":\"LinearScale\"}},\"id\":\"0ee9323b-ad6a-4a65-98a5-b3f997814adf\",\"subtype\":\"Figure\",\"type\":\"Plot\"},{\"attributes\":{},\"id\":\"cd333104-b1b8-44ff-9ec7-acabcfcbdafb\",\"type\":\"LinearScale\"},{\"attributes\":{},\"id\":\"6270871d-0db1-4dbd-9277-4ef2f7156842\",\"type\":\"Selection\"},{\"attributes\":{\"callback\":null,\"factors\":[\"imdb_18\",\"imdb_18_29\",\"imdb_30_44\",\"imdb_45\"]},\"id\":\"64a7121b-6338-47d6-a2ff-3ce2998c80f2\",\"type\":\"FactorRange\"},{\"attributes\":{},\"id\":\"b1786d2e-d146-4e55-aa8a-5794d29ec2c7\",\"type\":\"CategoricalTickFormatter\"},{\"attributes\":{\"source\":{\"id\":\"731ca93a-e39a-4d3c-ba47-99f7f8c00a9f\",\"type\":\"ColumnDataSource\"}},\"id\":\"fd9a2a6b-41cd-44db-bf94-fa5866da7f3e\",\"type\":\"CDSView\"},{\"attributes\":{},\"id\":\"86ae6c64-ecb4-4407-af05-acf37982c789\",\"type\":\"CategoricalScale\"},{\"attributes\":{\"plot\":{\"id\":\"0ee9323b-ad6a-4a65-98a5-b3f997814adf\",\"subtype\":\"Figure\",\"type\":\"Plot\"},\"ticker\":{\"id\":\"eaadd5fe-d5fe-480f-b8a6-12754aeeb43d\",\"type\":\"CategoricalTicker\"}},\"id\":\"5e9b23c4-2605-4d93-a9fc-d59b79f8ddc8\",\"type\":\"Grid\"},{\"attributes\":{\"data_source\":{\"id\":\"731ca93a-e39a-4d3c-ba47-99f7f8c00a9f\",\"type\":\"ColumnDataSource\"},\"glyph\":{\"id\":\"5c270503-1e6e-4c2b-b7fe-f23647a6af6e\",\"type\":\"VBar\"},\"hover_glyph\":null,\"muted_glyph\":null,\"nonselection_glyph\":{\"id\":\"8837e408-6bd4-410e-bae0-20077effaf3e\",\"type\":\"VBar\"},\"selection_glyph\":null,\"view\":{\"id\":\"fd9a2a6b-41cd-44db-bf94-fa5866da7f3e\",\"type\":\"CDSView\"}},\"id\":\"c9e024fa-99c4-4293-8351-15494b007302\",\"type\":\"GlyphRenderer\"},{\"attributes\":{},\"id\":\"eaadd5fe-d5fe-480f-b8a6-12754aeeb43d\",\"type\":\"CategoricalTicker\"},{\"attributes\":{\"callback\":null,\"end\":84.0,\"start\":65},\"id\":\"e50eb1fb-500b-47a3-b39e-7e8b16863123\",\"type\":\"Range1d\"},{\"attributes\":{\"dimension\":1,\"plot\":{\"id\":\"0ee9323b-ad6a-4a65-98a5-b3f997814adf\",\"subtype\":\"Figure\",\"type\":\"Plot\"},\"ticker\":{\"id\":\"5d3f8978-33bb-4130-a693-7d76bf93f17a\",\"type\":\"BasicTicker\"}},\"id\":\"4c830e08-f367-4b1d-a7db-14f1b6416194\",\"type\":\"Grid\"},{\"attributes\":{\"formatter\":{\"id\":\"c49f3728-b8ca-4efa-ba1c-a1de678221e0\",\"type\":\"BasicTickFormatter\"},\"plot\":{\"id\":\"0ee9323b-ad6a-4a65-98a5-b3f997814adf\",\"subtype\":\"Figure\",\"type\":\"Plot\"},\"ticker\":{\"id\":\"5d3f8978-33bb-4130-a693-7d76bf93f17a\",\"type\":\"BasicTicker\"}},\"id\":\"b93bd142-4e13-451b-81ed-2f4226405386\",\"type\":\"LinearAxis\"},{\"attributes\":{\"callback\":null,\"data\":{\"highlight\":[\"#B49823\",\"#3F3F3F\",\"#3F3F3F\",\"#3F3F3F\"],\"index\":[3,11,19,27],\"movie\":[\"the favourite\",\"the favourite\",\"the favourite\",\"the favourite\"],\"value\":[82.0,80.0,78.0,75.0],\"variable\":[\"imdb_18\",\"imdb_18_29\",\"imdb_30_44\",\"imdb_45\"]},\"selected\":{\"id\":\"6270871d-0db1-4dbd-9277-4ef2f7156842\",\"type\":\"Selection\"},\"selection_policy\":{\"id\":\"65956d80-39f6-4dff-bcdc-68c18e4ffe6d\",\"type\":\"UnionRenderers\"}},\"id\":\"731ca93a-e39a-4d3c-ba47-99f7f8c00a9f\",\"type\":\"ColumnDataSource\"},{\"attributes\":{\"plot\":null,\"text\":\"the favourite\"},\"id\":\"4ccc4ce9-8792-4044-9e4d-40b8033ab5b4\",\"type\":\"Title\"},{\"attributes\":{},\"id\":\"c49f3728-b8ca-4efa-ba1c-a1de678221e0\",\"type\":\"BasicTickFormatter\"},{\"attributes\":{},\"id\":\"5d3f8978-33bb-4130-a693-7d76bf93f17a\",\"type\":\"BasicTicker\"},{\"attributes\":{\"formatter\":{\"id\":\"b1786d2e-d146-4e55-aa8a-5794d29ec2c7\",\"type\":\"CategoricalTickFormatter\"},\"plot\":{\"id\":\"0ee9323b-ad6a-4a65-98a5-b3f997814adf\",\"subtype\":\"Figure\",\"type\":\"Plot\"},\"ticker\":{\"id\":\"eaadd5fe-d5fe-480f-b8a6-12754aeeb43d\",\"type\":\"CategoricalTicker\"}},\"id\":\"e19ab4b0-6bc9-490b-bf1f-f36d50aaad3c\",\"type\":\"CategoricalAxis\"},{\"attributes\":{\"active_drag\":\"auto\",\"active_inspect\":\"auto\",\"active_multi\":null,\"active_scroll\":\"auto\",\"active_tap\":\"auto\"},\"id\":\"d081cf7b-1461-489b-924d-9c57c0ea192e\",\"type\":\"Toolbar\"},{\"attributes\":{\"fill_color\":{\"field\":\"highlight\"},\"line_color\":{\"value\":\"#A8A8A8\"},\"top\":{\"field\":\"value\"},\"width\":{\"value\":0.9},\"x\":{\"field\":\"variable\"}},\"id\":\"5c270503-1e6e-4c2b-b7fe-f23647a6af6e\",\"type\":\"VBar\"}],\"root_ids\":[\"0ee9323b-ad6a-4a65-98a5-b3f997814adf\"]},\"title\":\"Bokeh Application\",\"version\":\"0.13.0\"}};\n",
       "  var render_items = [{\"docid\":\"a31a7034-7c68-42e3-b170-d6edf1d351d9\",\"roots\":{\"0ee9323b-ad6a-4a65-98a5-b3f997814adf\":\"6bed93e3-90ed-4f38-8db2-1a363bb3a673\"}}];\n",
       "  root.Bokeh.embed.embed_items_notebook(docs_json, render_items);\n",
       "\n",
       "  }\n",
       "  if (root.Bokeh !== undefined) {\n",
       "    embed_document(root);\n",
       "  } else {\n",
       "    var attempts = 0;\n",
       "    var timer = setInterval(function(root) {\n",
       "      if (root.Bokeh !== undefined) {\n",
       "        embed_document(root);\n",
       "        clearInterval(timer);\n",
       "      }\n",
       "      attempts++;\n",
       "      if (attempts > 100) {\n",
       "        console.log(\"Bokeh: ERROR: Unable to run BokehJS code because BokehJS library is missing\")\n",
       "        clearInterval(timer);\n",
       "      }\n",
       "    }, 10, root)\n",
       "  }\n",
       "})(window);"
      ],
      "application/vnd.bokehjs_exec.v0+json": ""
     },
     "metadata": {
      "application/vnd.bokehjs_exec.v0+json": {
       "id": "0ee9323b-ad6a-4a65-98a5-b3f997814adf"
      }
     },
     "output_type": "display_data"
    },
    {
     "data": {
      "text/html": [
       "\n",
       "\n",
       "\n",
       "\n",
       "\n",
       "\n",
       "  <div class=\"bk-root\" id=\"aead0124-e4cf-4f29-bb93-33955d368227\"></div>\n"
      ]
     },
     "metadata": {},
     "output_type": "display_data"
    },
    {
     "data": {
      "application/javascript": [
       "(function(root) {\n",
       "  function embed_document(root) {\n",
       "    \n",
       "  var docs_json = {\"da01c113-6f4a-4235-893f-c2ed55e1e535\":{\"roots\":{\"references\":[{\"attributes\":{\"dimension\":1,\"plot\":{\"id\":\"019143a7-90af-4e1c-a589-19a7d319390c\",\"subtype\":\"Figure\",\"type\":\"Plot\"},\"ticker\":{\"id\":\"bf96f06c-33c5-46ae-ac26-2b6f579665f1\",\"type\":\"BasicTicker\"}},\"id\":\"8e64ec5d-9a12-4000-b7e4-6c46b343a84d\",\"type\":\"Grid\"},{\"attributes\":{},\"id\":\"4f4abfbc-2615-4e47-92f5-880bab846386\",\"type\":\"Selection\"},{\"attributes\":{\"plot\":{\"id\":\"019143a7-90af-4e1c-a589-19a7d319390c\",\"subtype\":\"Figure\",\"type\":\"Plot\"},\"ticker\":{\"id\":\"8248534a-cb45-49dd-8d95-7cb21a35c9f2\",\"type\":\"CategoricalTicker\"}},\"id\":\"0974b862-7064-4adb-aa73-125f5515e208\",\"type\":\"Grid\"},{\"attributes\":{\"formatter\":{\"id\":\"720a2c11-cfbd-4699-ad58-572678680ab0\",\"type\":\"BasicTickFormatter\"},\"plot\":{\"id\":\"019143a7-90af-4e1c-a589-19a7d319390c\",\"subtype\":\"Figure\",\"type\":\"Plot\"},\"ticker\":{\"id\":\"bf96f06c-33c5-46ae-ac26-2b6f579665f1\",\"type\":\"BasicTicker\"}},\"id\":\"134900e8-d65b-4315-a5d5-ca9eed2a2701\",\"type\":\"LinearAxis\"},{\"attributes\":{},\"id\":\"bf96f06c-33c5-46ae-ac26-2b6f579665f1\",\"type\":\"BasicTicker\"},{\"attributes\":{\"callback\":null,\"data\":{\"highlight\":[\"#3F3F3F\",\"#3F3F3F\",\"#3F3F3F\",\"#B49823\"],\"index\":[4,12,20,28],\"movie\":[\"green book\",\"green book\",\"green book\",\"green book\"],\"value\":[82.0,83.0,82.0,84.0],\"variable\":[\"imdb_18\",\"imdb_18_29\",\"imdb_30_44\",\"imdb_45\"]},\"selected\":{\"id\":\"4f4abfbc-2615-4e47-92f5-880bab846386\",\"type\":\"Selection\"},\"selection_policy\":{\"id\":\"bee662b5-8a37-4af8-bac5-6da22237ccb7\",\"type\":\"UnionRenderers\"}},\"id\":\"d63816cd-7d94-4dc6-8693-d73cc3a3d535\",\"type\":\"ColumnDataSource\"},{\"attributes\":{\"source\":{\"id\":\"d63816cd-7d94-4dc6-8693-d73cc3a3d535\",\"type\":\"ColumnDataSource\"}},\"id\":\"504c368c-58ce-4454-afcc-86130b7aed32\",\"type\":\"CDSView\"},{\"attributes\":{\"formatter\":{\"id\":\"8d952e7e-1276-41a5-9870-1c29f1c1daff\",\"type\":\"CategoricalTickFormatter\"},\"plot\":{\"id\":\"019143a7-90af-4e1c-a589-19a7d319390c\",\"subtype\":\"Figure\",\"type\":\"Plot\"},\"ticker\":{\"id\":\"8248534a-cb45-49dd-8d95-7cb21a35c9f2\",\"type\":\"CategoricalTicker\"}},\"id\":\"a0d351a9-60bb-4775-85a7-d3c49afc893c\",\"type\":\"CategoricalAxis\"},{\"attributes\":{\"fill_color\":{\"field\":\"highlight\"},\"line_color\":{\"value\":\"#A8A8A8\"},\"top\":{\"field\":\"value\"},\"width\":{\"value\":0.9},\"x\":{\"field\":\"variable\"}},\"id\":\"ee8f4c99-4849-4d45-b333-c222cc7aad48\",\"type\":\"VBar\"},{\"attributes\":{},\"id\":\"720a2c11-cfbd-4699-ad58-572678680ab0\",\"type\":\"BasicTickFormatter\"},{\"attributes\":{\"callback\":null,\"end\":86.0,\"start\":65},\"id\":\"23dbcce8-8ca4-432c-a449-2c7f16aeb218\",\"type\":\"Range1d\"},{\"attributes\":{\"data_source\":{\"id\":\"d63816cd-7d94-4dc6-8693-d73cc3a3d535\",\"type\":\"ColumnDataSource\"},\"glyph\":{\"id\":\"ee8f4c99-4849-4d45-b333-c222cc7aad48\",\"type\":\"VBar\"},\"hover_glyph\":null,\"muted_glyph\":null,\"nonselection_glyph\":{\"id\":\"c75075bd-fb53-4510-92ad-0bc5d13727dc\",\"type\":\"VBar\"},\"selection_glyph\":null,\"view\":{\"id\":\"504c368c-58ce-4454-afcc-86130b7aed32\",\"type\":\"CDSView\"}},\"id\":\"3f6db854-366d-4218-9f68-eb789d96cdb5\",\"type\":\"GlyphRenderer\"},{\"attributes\":{\"below\":[{\"id\":\"a0d351a9-60bb-4775-85a7-d3c49afc893c\",\"type\":\"CategoricalAxis\"}],\"left\":[{\"id\":\"134900e8-d65b-4315-a5d5-ca9eed2a2701\",\"type\":\"LinearAxis\"}],\"renderers\":[{\"id\":\"a0d351a9-60bb-4775-85a7-d3c49afc893c\",\"type\":\"CategoricalAxis\"},{\"id\":\"0974b862-7064-4adb-aa73-125f5515e208\",\"type\":\"Grid\"},{\"id\":\"134900e8-d65b-4315-a5d5-ca9eed2a2701\",\"type\":\"LinearAxis\"},{\"id\":\"8e64ec5d-9a12-4000-b7e4-6c46b343a84d\",\"type\":\"Grid\"},{\"id\":\"3f6db854-366d-4218-9f68-eb789d96cdb5\",\"type\":\"GlyphRenderer\"}],\"title\":{\"id\":\"9dd04f7e-8ab8-472b-be8a-6b347ef704dc\",\"type\":\"Title\"},\"toolbar\":{\"id\":\"dd83e20b-2fa4-434c-a964-b92ef27fb771\",\"type\":\"Toolbar\"},\"toolbar_location\":null,\"x_range\":{\"id\":\"bca248bc-7ea8-4121-8020-14fb963e14f7\",\"type\":\"FactorRange\"},\"x_scale\":{\"id\":\"40db55a7-73df-42ac-bd6c-486c58bb7b62\",\"type\":\"CategoricalScale\"},\"y_range\":{\"id\":\"23dbcce8-8ca4-432c-a449-2c7f16aeb218\",\"type\":\"Range1d\"},\"y_scale\":{\"id\":\"74005da7-5f0d-4540-8bf4-762ac1c7e4a0\",\"type\":\"LinearScale\"}},\"id\":\"019143a7-90af-4e1c-a589-19a7d319390c\",\"subtype\":\"Figure\",\"type\":\"Plot\"},{\"attributes\":{},\"id\":\"74005da7-5f0d-4540-8bf4-762ac1c7e4a0\",\"type\":\"LinearScale\"},{\"attributes\":{\"active_drag\":\"auto\",\"active_inspect\":\"auto\",\"active_multi\":null,\"active_scroll\":\"auto\",\"active_tap\":\"auto\"},\"id\":\"dd83e20b-2fa4-434c-a964-b92ef27fb771\",\"type\":\"Toolbar\"},{\"attributes\":{\"fill_alpha\":{\"value\":0.1},\"fill_color\":{\"value\":\"#1f77b4\"},\"line_alpha\":{\"value\":0.1},\"line_color\":{\"value\":\"#1f77b4\"},\"top\":{\"field\":\"value\"},\"width\":{\"value\":0.9},\"x\":{\"field\":\"variable\"}},\"id\":\"c75075bd-fb53-4510-92ad-0bc5d13727dc\",\"type\":\"VBar\"},{\"attributes\":{},\"id\":\"40db55a7-73df-42ac-bd6c-486c58bb7b62\",\"type\":\"CategoricalScale\"},{\"attributes\":{},\"id\":\"bee662b5-8a37-4af8-bac5-6da22237ccb7\",\"type\":\"UnionRenderers\"},{\"attributes\":{\"plot\":null,\"text\":\"green book\"},\"id\":\"9dd04f7e-8ab8-472b-be8a-6b347ef704dc\",\"type\":\"Title\"},{\"attributes\":{},\"id\":\"8d952e7e-1276-41a5-9870-1c29f1c1daff\",\"type\":\"CategoricalTickFormatter\"},{\"attributes\":{\"callback\":null,\"factors\":[\"imdb_18\",\"imdb_18_29\",\"imdb_30_44\",\"imdb_45\"]},\"id\":\"bca248bc-7ea8-4121-8020-14fb963e14f7\",\"type\":\"FactorRange\"},{\"attributes\":{},\"id\":\"8248534a-cb45-49dd-8d95-7cb21a35c9f2\",\"type\":\"CategoricalTicker\"}],\"root_ids\":[\"019143a7-90af-4e1c-a589-19a7d319390c\"]},\"title\":\"Bokeh Application\",\"version\":\"0.13.0\"}};\n",
       "  var render_items = [{\"docid\":\"da01c113-6f4a-4235-893f-c2ed55e1e535\",\"roots\":{\"019143a7-90af-4e1c-a589-19a7d319390c\":\"aead0124-e4cf-4f29-bb93-33955d368227\"}}];\n",
       "  root.Bokeh.embed.embed_items_notebook(docs_json, render_items);\n",
       "\n",
       "  }\n",
       "  if (root.Bokeh !== undefined) {\n",
       "    embed_document(root);\n",
       "  } else {\n",
       "    var attempts = 0;\n",
       "    var timer = setInterval(function(root) {\n",
       "      if (root.Bokeh !== undefined) {\n",
       "        embed_document(root);\n",
       "        clearInterval(timer);\n",
       "      }\n",
       "      attempts++;\n",
       "      if (attempts > 100) {\n",
       "        console.log(\"Bokeh: ERROR: Unable to run BokehJS code because BokehJS library is missing\")\n",
       "        clearInterval(timer);\n",
       "      }\n",
       "    }, 10, root)\n",
       "  }\n",
       "})(window);"
      ],
      "application/vnd.bokehjs_exec.v0+json": ""
     },
     "metadata": {
      "application/vnd.bokehjs_exec.v0+json": {
       "id": "019143a7-90af-4e1c-a589-19a7d319390c"
      }
     },
     "output_type": "display_data"
    },
    {
     "data": {
      "text/html": [
       "\n",
       "\n",
       "\n",
       "\n",
       "\n",
       "\n",
       "  <div class=\"bk-root\" id=\"0324661f-6eaa-48ac-a355-1a1427d51abc\"></div>\n"
      ]
     },
     "metadata": {},
     "output_type": "display_data"
    },
    {
     "data": {
      "application/javascript": [
       "(function(root) {\n",
       "  function embed_document(root) {\n",
       "    \n",
       "  var docs_json = {\"297e1107-b1db-4153-964d-8327f4205765\":{\"roots\":{\"references\":[{\"attributes\":{\"active_drag\":\"auto\",\"active_inspect\":\"auto\",\"active_multi\":null,\"active_scroll\":\"auto\",\"active_tap\":\"auto\"},\"id\":\"a5e20f12-88eb-4841-bb5a-1bea8da6b350\",\"type\":\"Toolbar\"},{\"attributes\":{},\"id\":\"286e0d7a-318e-4b82-9ddd-96b8874102e4\",\"type\":\"BasicTickFormatter\"},{\"attributes\":{\"formatter\":{\"id\":\"286e0d7a-318e-4b82-9ddd-96b8874102e4\",\"type\":\"BasicTickFormatter\"},\"plot\":{\"id\":\"8cee8098-9c51-4d98-8f56-45013948a933\",\"subtype\":\"Figure\",\"type\":\"Plot\"},\"ticker\":{\"id\":\"13b5d2a9-120e-4bc5-b855-9d9f3e639a14\",\"type\":\"BasicTicker\"}},\"id\":\"581e0e7c-ab0e-4174-aaae-0a7cf8d6cbb8\",\"type\":\"LinearAxis\"},{\"attributes\":{\"plot\":{\"id\":\"8cee8098-9c51-4d98-8f56-45013948a933\",\"subtype\":\"Figure\",\"type\":\"Plot\"},\"ticker\":{\"id\":\"28e66194-dc99-4420-8b8c-174bc55662c7\",\"type\":\"CategoricalTicker\"}},\"id\":\"31c15535-52df-46a6-b21b-2e3e407c8b0f\",\"type\":\"Grid\"},{\"attributes\":{},\"id\":\"28e66194-dc99-4420-8b8c-174bc55662c7\",\"type\":\"CategoricalTicker\"},{\"attributes\":{},\"id\":\"e078d57f-92e0-46c2-a4c8-8d503ad85f6b\",\"type\":\"CategoricalTickFormatter\"},{\"attributes\":{\"below\":[{\"id\":\"749994df-b1cd-401e-8118-a306d3f7f1fa\",\"type\":\"CategoricalAxis\"}],\"left\":[{\"id\":\"581e0e7c-ab0e-4174-aaae-0a7cf8d6cbb8\",\"type\":\"LinearAxis\"}],\"renderers\":[{\"id\":\"749994df-b1cd-401e-8118-a306d3f7f1fa\",\"type\":\"CategoricalAxis\"},{\"id\":\"31c15535-52df-46a6-b21b-2e3e407c8b0f\",\"type\":\"Grid\"},{\"id\":\"581e0e7c-ab0e-4174-aaae-0a7cf8d6cbb8\",\"type\":\"LinearAxis\"},{\"id\":\"230a6f94-eeb3-407b-abfc-14ada8218cac\",\"type\":\"Grid\"},{\"id\":\"a67d2e27-760d-49b6-9017-105c428a7136\",\"type\":\"GlyphRenderer\"}],\"title\":{\"id\":\"906c2d52-1151-4671-8cb3-fbc9b83e7bdf\",\"type\":\"Title\"},\"toolbar\":{\"id\":\"a5e20f12-88eb-4841-bb5a-1bea8da6b350\",\"type\":\"Toolbar\"},\"toolbar_location\":null,\"x_range\":{\"id\":\"923a7905-957f-400d-86d5-fe5c765de4ce\",\"type\":\"FactorRange\"},\"x_scale\":{\"id\":\"e2515b5b-dd32-46f6-9206-57b8bf9f1714\",\"type\":\"CategoricalScale\"},\"y_range\":{\"id\":\"5ccdb15d-befa-4e02-8a84-e5ecf755a837\",\"type\":\"Range1d\"},\"y_scale\":{\"id\":\"1f32f63c-90e4-431c-aa6a-7e16268f1be6\",\"type\":\"LinearScale\"}},\"id\":\"8cee8098-9c51-4d98-8f56-45013948a933\",\"subtype\":\"Figure\",\"type\":\"Plot\"},{\"attributes\":{},\"id\":\"e76e1089-be27-4710-a5d2-64f2a5893c67\",\"type\":\"Selection\"},{\"attributes\":{\"fill_alpha\":{\"value\":0.1},\"fill_color\":{\"value\":\"#1f77b4\"},\"line_alpha\":{\"value\":0.1},\"line_color\":{\"value\":\"#1f77b4\"},\"top\":{\"field\":\"value\"},\"width\":{\"value\":0.9},\"x\":{\"field\":\"variable\"}},\"id\":\"c9619627-1b50-433d-acf5-4aa185b41bc3\",\"type\":\"VBar\"},{\"attributes\":{\"source\":{\"id\":\"ecd623f9-984e-4afa-99c3-361b01ebbf9d\",\"type\":\"ColumnDataSource\"}},\"id\":\"a3c6e079-e9bb-4b2d-bc67-efd6b5d0a322\",\"type\":\"CDSView\"},{\"attributes\":{\"formatter\":{\"id\":\"e078d57f-92e0-46c2-a4c8-8d503ad85f6b\",\"type\":\"CategoricalTickFormatter\"},\"plot\":{\"id\":\"8cee8098-9c51-4d98-8f56-45013948a933\",\"subtype\":\"Figure\",\"type\":\"Plot\"},\"ticker\":{\"id\":\"28e66194-dc99-4420-8b8c-174bc55662c7\",\"type\":\"CategoricalTicker\"}},\"id\":\"749994df-b1cd-401e-8118-a306d3f7f1fa\",\"type\":\"CategoricalAxis\"},{\"attributes\":{\"callback\":null,\"data\":{\"highlight\":[\"#B49823\",\"#3F3F3F\",\"#3F3F3F\",\"#3F3F3F\"],\"index\":[5,13,21,29],\"movie\":[\"roma\",\"roma\",\"roma\",\"roma\"],\"value\":[85.0,82.0,78.0,78.0],\"variable\":[\"imdb_18\",\"imdb_18_29\",\"imdb_30_44\",\"imdb_45\"]},\"selected\":{\"id\":\"e76e1089-be27-4710-a5d2-64f2a5893c67\",\"type\":\"Selection\"},\"selection_policy\":{\"id\":\"433860fd-cc5b-4c5f-a101-46515aff7277\",\"type\":\"UnionRenderers\"}},\"id\":\"ecd623f9-984e-4afa-99c3-361b01ebbf9d\",\"type\":\"ColumnDataSource\"},{\"attributes\":{},\"id\":\"433860fd-cc5b-4c5f-a101-46515aff7277\",\"type\":\"UnionRenderers\"},{\"attributes\":{\"callback\":null,\"end\":87.0,\"start\":65},\"id\":\"5ccdb15d-befa-4e02-8a84-e5ecf755a837\",\"type\":\"Range1d\"},{\"attributes\":{\"plot\":null,\"text\":\"roma\"},\"id\":\"906c2d52-1151-4671-8cb3-fbc9b83e7bdf\",\"type\":\"Title\"},{\"attributes\":{\"fill_color\":{\"field\":\"highlight\"},\"line_color\":{\"value\":\"#A8A8A8\"},\"top\":{\"field\":\"value\"},\"width\":{\"value\":0.9},\"x\":{\"field\":\"variable\"}},\"id\":\"739b0146-513c-483d-a371-bf1712376a5d\",\"type\":\"VBar\"},{\"attributes\":{\"callback\":null,\"factors\":[\"imdb_18\",\"imdb_18_29\",\"imdb_30_44\",\"imdb_45\"]},\"id\":\"923a7905-957f-400d-86d5-fe5c765de4ce\",\"type\":\"FactorRange\"},{\"attributes\":{},\"id\":\"e2515b5b-dd32-46f6-9206-57b8bf9f1714\",\"type\":\"CategoricalScale\"},{\"attributes\":{},\"id\":\"13b5d2a9-120e-4bc5-b855-9d9f3e639a14\",\"type\":\"BasicTicker\"},{\"attributes\":{\"data_source\":{\"id\":\"ecd623f9-984e-4afa-99c3-361b01ebbf9d\",\"type\":\"ColumnDataSource\"},\"glyph\":{\"id\":\"739b0146-513c-483d-a371-bf1712376a5d\",\"type\":\"VBar\"},\"hover_glyph\":null,\"muted_glyph\":null,\"nonselection_glyph\":{\"id\":\"c9619627-1b50-433d-acf5-4aa185b41bc3\",\"type\":\"VBar\"},\"selection_glyph\":null,\"view\":{\"id\":\"a3c6e079-e9bb-4b2d-bc67-efd6b5d0a322\",\"type\":\"CDSView\"}},\"id\":\"a67d2e27-760d-49b6-9017-105c428a7136\",\"type\":\"GlyphRenderer\"},{\"attributes\":{\"dimension\":1,\"plot\":{\"id\":\"8cee8098-9c51-4d98-8f56-45013948a933\",\"subtype\":\"Figure\",\"type\":\"Plot\"},\"ticker\":{\"id\":\"13b5d2a9-120e-4bc5-b855-9d9f3e639a14\",\"type\":\"BasicTicker\"}},\"id\":\"230a6f94-eeb3-407b-abfc-14ada8218cac\",\"type\":\"Grid\"},{\"attributes\":{},\"id\":\"1f32f63c-90e4-431c-aa6a-7e16268f1be6\",\"type\":\"LinearScale\"}],\"root_ids\":[\"8cee8098-9c51-4d98-8f56-45013948a933\"]},\"title\":\"Bokeh Application\",\"version\":\"0.13.0\"}};\n",
       "  var render_items = [{\"docid\":\"297e1107-b1db-4153-964d-8327f4205765\",\"roots\":{\"8cee8098-9c51-4d98-8f56-45013948a933\":\"0324661f-6eaa-48ac-a355-1a1427d51abc\"}}];\n",
       "  root.Bokeh.embed.embed_items_notebook(docs_json, render_items);\n",
       "\n",
       "  }\n",
       "  if (root.Bokeh !== undefined) {\n",
       "    embed_document(root);\n",
       "  } else {\n",
       "    var attempts = 0;\n",
       "    var timer = setInterval(function(root) {\n",
       "      if (root.Bokeh !== undefined) {\n",
       "        embed_document(root);\n",
       "        clearInterval(timer);\n",
       "      }\n",
       "      attempts++;\n",
       "      if (attempts > 100) {\n",
       "        console.log(\"Bokeh: ERROR: Unable to run BokehJS code because BokehJS library is missing\")\n",
       "        clearInterval(timer);\n",
       "      }\n",
       "    }, 10, root)\n",
       "  }\n",
       "})(window);"
      ],
      "application/vnd.bokehjs_exec.v0+json": ""
     },
     "metadata": {
      "application/vnd.bokehjs_exec.v0+json": {
       "id": "8cee8098-9c51-4d98-8f56-45013948a933"
      }
     },
     "output_type": "display_data"
    },
    {
     "data": {
      "text/html": [
       "\n",
       "\n",
       "\n",
       "\n",
       "\n",
       "\n",
       "  <div class=\"bk-root\" id=\"aa20641c-835f-4a2e-887a-2422b0970ecd\"></div>\n"
      ]
     },
     "metadata": {},
     "output_type": "display_data"
    },
    {
     "data": {
      "application/javascript": [
       "(function(root) {\n",
       "  function embed_document(root) {\n",
       "    \n",
       "  var docs_json = {\"6d370e2f-e960-451a-836f-d5fdf8559899\":{\"roots\":{\"references\":[{\"attributes\":{\"callback\":null,\"factors\":[\"imdb_18\",\"imdb_18_29\",\"imdb_30_44\",\"imdb_45\"]},\"id\":\"070dcbbf-8454-4389-bc1a-de72b18cfdd6\",\"type\":\"FactorRange\"},{\"attributes\":{\"plot\":{\"id\":\"2cfefc08-43d4-4c2f-8a2d-9a88167f946c\",\"subtype\":\"Figure\",\"type\":\"Plot\"},\"ticker\":{\"id\":\"e41f9aa0-9c9e-4487-b8ec-6f0b0289dbce\",\"type\":\"CategoricalTicker\"}},\"id\":\"650e0b59-9ca9-47f5-abb8-33d59c332d66\",\"type\":\"Grid\"},{\"attributes\":{\"formatter\":{\"id\":\"1f14c08f-972d-4637-a53a-c0a705b59a28\",\"type\":\"CategoricalTickFormatter\"},\"plot\":{\"id\":\"2cfefc08-43d4-4c2f-8a2d-9a88167f946c\",\"subtype\":\"Figure\",\"type\":\"Plot\"},\"ticker\":{\"id\":\"e41f9aa0-9c9e-4487-b8ec-6f0b0289dbce\",\"type\":\"CategoricalTicker\"}},\"id\":\"2345c284-d96f-46da-b546-8fe3fa654c33\",\"type\":\"CategoricalAxis\"},{\"attributes\":{\"below\":[{\"id\":\"2345c284-d96f-46da-b546-8fe3fa654c33\",\"type\":\"CategoricalAxis\"}],\"left\":[{\"id\":\"bf716531-ab03-47c2-a00c-fa9a4eb505ce\",\"type\":\"LinearAxis\"}],\"renderers\":[{\"id\":\"2345c284-d96f-46da-b546-8fe3fa654c33\",\"type\":\"CategoricalAxis\"},{\"id\":\"650e0b59-9ca9-47f5-abb8-33d59c332d66\",\"type\":\"Grid\"},{\"id\":\"bf716531-ab03-47c2-a00c-fa9a4eb505ce\",\"type\":\"LinearAxis\"},{\"id\":\"d938d957-b998-423b-8c74-e7a5b7b75ac7\",\"type\":\"Grid\"},{\"id\":\"31859491-e1f8-4978-9153-50ef51ecd490\",\"type\":\"GlyphRenderer\"}],\"title\":{\"id\":\"59d1ca29-971d-401a-9662-28191fbfd7f4\",\"type\":\"Title\"},\"toolbar\":{\"id\":\"a9b0df24-9535-4b85-90f2-912ef57ad672\",\"type\":\"Toolbar\"},\"toolbar_location\":null,\"x_range\":{\"id\":\"070dcbbf-8454-4389-bc1a-de72b18cfdd6\",\"type\":\"FactorRange\"},\"x_scale\":{\"id\":\"302cceb8-9e03-4a30-b0f6-277c82b01046\",\"type\":\"CategoricalScale\"},\"y_range\":{\"id\":\"9a3dd8ab-cf8e-4fad-b6c8-733a6855dfb1\",\"type\":\"Range1d\"},\"y_scale\":{\"id\":\"b5aa4f80-6ac6-400a-ae72-b2ea11956e1c\",\"type\":\"LinearScale\"}},\"id\":\"2cfefc08-43d4-4c2f-8a2d-9a88167f946c\",\"subtype\":\"Figure\",\"type\":\"Plot\"},{\"attributes\":{},\"id\":\"3ee42910-98b6-4898-970c-8c313257c5cc\",\"type\":\"UnionRenderers\"},{\"attributes\":{\"plot\":null,\"text\":\"a star is born\"},\"id\":\"59d1ca29-971d-401a-9662-28191fbfd7f4\",\"type\":\"Title\"},{\"attributes\":{\"fill_color\":{\"field\":\"highlight\"},\"line_color\":{\"value\":\"#A8A8A8\"},\"top\":{\"field\":\"value\"},\"width\":{\"value\":0.9},\"x\":{\"field\":\"variable\"}},\"id\":\"b902c8a6-bc63-4fd9-8262-2e0deee3a128\",\"type\":\"VBar\"},{\"attributes\":{\"formatter\":{\"id\":\"d19abc54-b07e-4a38-88ec-b5c2dbe09050\",\"type\":\"BasicTickFormatter\"},\"plot\":{\"id\":\"2cfefc08-43d4-4c2f-8a2d-9a88167f946c\",\"subtype\":\"Figure\",\"type\":\"Plot\"},\"ticker\":{\"id\":\"3e325478-f156-43b5-b66e-a7a725d767f2\",\"type\":\"BasicTicker\"}},\"id\":\"bf716531-ab03-47c2-a00c-fa9a4eb505ce\",\"type\":\"LinearAxis\"},{\"attributes\":{\"source\":{\"id\":\"2b1453d0-929d-483b-8ae7-192bd58b336c\",\"type\":\"ColumnDataSource\"}},\"id\":\"60ead597-19c0-4bf2-b4eb-3ef15b120b14\",\"type\":\"CDSView\"},{\"attributes\":{},\"id\":\"e41f9aa0-9c9e-4487-b8ec-6f0b0289dbce\",\"type\":\"CategoricalTicker\"},{\"attributes\":{\"dimension\":1,\"plot\":{\"id\":\"2cfefc08-43d4-4c2f-8a2d-9a88167f946c\",\"subtype\":\"Figure\",\"type\":\"Plot\"},\"ticker\":{\"id\":\"3e325478-f156-43b5-b66e-a7a725d767f2\",\"type\":\"BasicTicker\"}},\"id\":\"d938d957-b998-423b-8c74-e7a5b7b75ac7\",\"type\":\"Grid\"},{\"attributes\":{},\"id\":\"1f14c08f-972d-4637-a53a-c0a705b59a28\",\"type\":\"CategoricalTickFormatter\"},{\"attributes\":{},\"id\":\"3e325478-f156-43b5-b66e-a7a725d767f2\",\"type\":\"BasicTicker\"},{\"attributes\":{},\"id\":\"302cceb8-9e03-4a30-b0f6-277c82b01046\",\"type\":\"CategoricalScale\"},{\"attributes\":{\"fill_alpha\":{\"value\":0.1},\"fill_color\":{\"value\":\"#1f77b4\"},\"line_alpha\":{\"value\":0.1},\"line_color\":{\"value\":\"#1f77b4\"},\"top\":{\"field\":\"value\"},\"width\":{\"value\":0.9},\"x\":{\"field\":\"variable\"}},\"id\":\"278258ce-97a6-442c-a4e5-5e7090462622\",\"type\":\"VBar\"},{\"attributes\":{},\"id\":\"c51f31fd-6adc-43f9-a05e-2a00596532cf\",\"type\":\"Selection\"},{\"attributes\":{\"data_source\":{\"id\":\"2b1453d0-929d-483b-8ae7-192bd58b336c\",\"type\":\"ColumnDataSource\"},\"glyph\":{\"id\":\"b902c8a6-bc63-4fd9-8262-2e0deee3a128\",\"type\":\"VBar\"},\"hover_glyph\":null,\"muted_glyph\":null,\"nonselection_glyph\":{\"id\":\"278258ce-97a6-442c-a4e5-5e7090462622\",\"type\":\"VBar\"},\"selection_glyph\":null,\"view\":{\"id\":\"60ead597-19c0-4bf2-b4eb-3ef15b120b14\",\"type\":\"CDSView\"}},\"id\":\"31859491-e1f8-4978-9153-50ef51ecd490\",\"type\":\"GlyphRenderer\"},{\"attributes\":{\"callback\":null,\"data\":{\"highlight\":[\"#B49823\",\"#3F3F3F\",\"#3F3F3F\",\"#3F3F3F\"],\"index\":[6,14,22,30],\"movie\":[\"a star is born\",\"a star is born\",\"a star is born\",\"a star is born\"],\"value\":[85.0,81.0,78.0,78.0],\"variable\":[\"imdb_18\",\"imdb_18_29\",\"imdb_30_44\",\"imdb_45\"]},\"selected\":{\"id\":\"c51f31fd-6adc-43f9-a05e-2a00596532cf\",\"type\":\"Selection\"},\"selection_policy\":{\"id\":\"3ee42910-98b6-4898-970c-8c313257c5cc\",\"type\":\"UnionRenderers\"}},\"id\":\"2b1453d0-929d-483b-8ae7-192bd58b336c\",\"type\":\"ColumnDataSource\"},{\"attributes\":{},\"id\":\"d19abc54-b07e-4a38-88ec-b5c2dbe09050\",\"type\":\"BasicTickFormatter\"},{\"attributes\":{},\"id\":\"b5aa4f80-6ac6-400a-ae72-b2ea11956e1c\",\"type\":\"LinearScale\"},{\"attributes\":{\"callback\":null,\"end\":87.0,\"start\":65},\"id\":\"9a3dd8ab-cf8e-4fad-b6c8-733a6855dfb1\",\"type\":\"Range1d\"},{\"attributes\":{\"active_drag\":\"auto\",\"active_inspect\":\"auto\",\"active_multi\":null,\"active_scroll\":\"auto\",\"active_tap\":\"auto\"},\"id\":\"a9b0df24-9535-4b85-90f2-912ef57ad672\",\"type\":\"Toolbar\"}],\"root_ids\":[\"2cfefc08-43d4-4c2f-8a2d-9a88167f946c\"]},\"title\":\"Bokeh Application\",\"version\":\"0.13.0\"}};\n",
       "  var render_items = [{\"docid\":\"6d370e2f-e960-451a-836f-d5fdf8559899\",\"roots\":{\"2cfefc08-43d4-4c2f-8a2d-9a88167f946c\":\"aa20641c-835f-4a2e-887a-2422b0970ecd\"}}];\n",
       "  root.Bokeh.embed.embed_items_notebook(docs_json, render_items);\n",
       "\n",
       "  }\n",
       "  if (root.Bokeh !== undefined) {\n",
       "    embed_document(root);\n",
       "  } else {\n",
       "    var attempts = 0;\n",
       "    var timer = setInterval(function(root) {\n",
       "      if (root.Bokeh !== undefined) {\n",
       "        embed_document(root);\n",
       "        clearInterval(timer);\n",
       "      }\n",
       "      attempts++;\n",
       "      if (attempts > 100) {\n",
       "        console.log(\"Bokeh: ERROR: Unable to run BokehJS code because BokehJS library is missing\")\n",
       "        clearInterval(timer);\n",
       "      }\n",
       "    }, 10, root)\n",
       "  }\n",
       "})(window);"
      ],
      "application/vnd.bokehjs_exec.v0+json": ""
     },
     "metadata": {
      "application/vnd.bokehjs_exec.v0+json": {
       "id": "2cfefc08-43d4-4c2f-8a2d-9a88167f946c"
      }
     },
     "output_type": "display_data"
    },
    {
     "data": {
      "text/html": [
       "\n",
       "\n",
       "\n",
       "\n",
       "\n",
       "\n",
       "  <div class=\"bk-root\" id=\"e4351f5d-f5e3-4413-b2cd-7d61fcd8c61d\"></div>\n"
      ]
     },
     "metadata": {},
     "output_type": "display_data"
    },
    {
     "data": {
      "application/javascript": [
       "(function(root) {\n",
       "  function embed_document(root) {\n",
       "    \n",
       "  var docs_json = {\"3cc80fe3-5ca9-43db-9b65-7d8bc6eb0f0b\":{\"roots\":{\"references\":[{\"attributes\":{\"plot\":{\"id\":\"caa28ef5-7ccd-4a70-a7cb-baa9f2aa5d90\",\"subtype\":\"Figure\",\"type\":\"Plot\"},\"ticker\":{\"id\":\"c809f732-70cc-4435-92fc-a905c733787d\",\"type\":\"CategoricalTicker\"}},\"id\":\"d9ac4ef3-c5ab-4c6f-8083-c98e65aa4e59\",\"type\":\"Grid\"},{\"attributes\":{},\"id\":\"7c37b591-7b10-4a23-a57e-41a91846aafe\",\"type\":\"LinearScale\"},{\"attributes\":{},\"id\":\"fc338a41-ee60-42f6-b1c0-6eafb7112d4c\",\"type\":\"CategoricalTickFormatter\"},{\"attributes\":{},\"id\":\"536c100b-1761-427e-bba2-dc297fffa39c\",\"type\":\"BasicTicker\"},{\"attributes\":{},\"id\":\"c57f32bf-04c2-4263-9f9c-8682773373af\",\"type\":\"Selection\"},{\"attributes\":{\"data_source\":{\"id\":\"d4d79e02-53ff-498e-85a3-c03a364ebb2b\",\"type\":\"ColumnDataSource\"},\"glyph\":{\"id\":\"dbdd7504-0cc8-4d5c-8747-e3e247e32add\",\"type\":\"VBar\"},\"hover_glyph\":null,\"muted_glyph\":null,\"nonselection_glyph\":{\"id\":\"3b4c2c95-31ea-45ec-963d-f9c0481adf9f\",\"type\":\"VBar\"},\"selection_glyph\":null,\"view\":{\"id\":\"aa4429b5-17ab-463f-9adb-7d33d02cfbeb\",\"type\":\"CDSView\"}},\"id\":\"40f826bd-2526-4b80-8b63-f87d663dc01f\",\"type\":\"GlyphRenderer\"},{\"attributes\":{},\"id\":\"c17a97b8-70b9-4eb2-bc91-5f48b1e6104b\",\"type\":\"UnionRenderers\"},{\"attributes\":{\"fill_color\":{\"field\":\"highlight\"},\"line_color\":{\"value\":\"#A8A8A8\"},\"top\":{\"field\":\"value\"},\"width\":{\"value\":0.9},\"x\":{\"field\":\"variable\"}},\"id\":\"dbdd7504-0cc8-4d5c-8747-e3e247e32add\",\"type\":\"VBar\"},{\"attributes\":{\"dimension\":1,\"plot\":{\"id\":\"caa28ef5-7ccd-4a70-a7cb-baa9f2aa5d90\",\"subtype\":\"Figure\",\"type\":\"Plot\"},\"ticker\":{\"id\":\"536c100b-1761-427e-bba2-dc297fffa39c\",\"type\":\"BasicTicker\"}},\"id\":\"93778773-1e56-4043-b035-4d2ff60cea16\",\"type\":\"Grid\"},{\"attributes\":{\"callback\":null,\"factors\":[\"imdb_18\",\"imdb_18_29\",\"imdb_30_44\",\"imdb_45\"]},\"id\":\"141228f8-b361-4272-b986-bfe705c873ec\",\"type\":\"FactorRange\"},{\"attributes\":{\"formatter\":{\"id\":\"c52eb6d2-34cd-4831-8071-482303470e62\",\"type\":\"BasicTickFormatter\"},\"plot\":{\"id\":\"caa28ef5-7ccd-4a70-a7cb-baa9f2aa5d90\",\"subtype\":\"Figure\",\"type\":\"Plot\"},\"ticker\":{\"id\":\"536c100b-1761-427e-bba2-dc297fffa39c\",\"type\":\"BasicTicker\"}},\"id\":\"834ee281-e6ae-41ac-9468-4d3805050520\",\"type\":\"LinearAxis\"},{\"attributes\":{\"formatter\":{\"id\":\"fc338a41-ee60-42f6-b1c0-6eafb7112d4c\",\"type\":\"CategoricalTickFormatter\"},\"plot\":{\"id\":\"caa28ef5-7ccd-4a70-a7cb-baa9f2aa5d90\",\"subtype\":\"Figure\",\"type\":\"Plot\"},\"ticker\":{\"id\":\"c809f732-70cc-4435-92fc-a905c733787d\",\"type\":\"CategoricalTicker\"}},\"id\":\"3e9ad172-9ab0-48e9-92cf-9c6237165cf7\",\"type\":\"CategoricalAxis\"},{\"attributes\":{\"plot\":null,\"text\":\"vice\"},\"id\":\"804831e2-57b3-4f5a-bf33-efc47ec50dcd\",\"type\":\"Title\"},{\"attributes\":{\"callback\":null,\"end\":80.0,\"start\":65},\"id\":\"75a3f186-fca6-44d1-a45b-61b4c33b3296\",\"type\":\"Range1d\"},{\"attributes\":{},\"id\":\"cdeb0c30-6369-4b32-9b54-68a1a84d3824\",\"type\":\"CategoricalScale\"},{\"attributes\":{\"active_drag\":\"auto\",\"active_inspect\":\"auto\",\"active_multi\":null,\"active_scroll\":\"auto\",\"active_tap\":\"auto\"},\"id\":\"200fc096-d9b9-40cc-8d58-3330bb991584\",\"type\":\"Toolbar\"},{\"attributes\":{},\"id\":\"c809f732-70cc-4435-92fc-a905c733787d\",\"type\":\"CategoricalTicker\"},{\"attributes\":{\"below\":[{\"id\":\"3e9ad172-9ab0-48e9-92cf-9c6237165cf7\",\"type\":\"CategoricalAxis\"}],\"left\":[{\"id\":\"834ee281-e6ae-41ac-9468-4d3805050520\",\"type\":\"LinearAxis\"}],\"renderers\":[{\"id\":\"3e9ad172-9ab0-48e9-92cf-9c6237165cf7\",\"type\":\"CategoricalAxis\"},{\"id\":\"d9ac4ef3-c5ab-4c6f-8083-c98e65aa4e59\",\"type\":\"Grid\"},{\"id\":\"834ee281-e6ae-41ac-9468-4d3805050520\",\"type\":\"LinearAxis\"},{\"id\":\"93778773-1e56-4043-b035-4d2ff60cea16\",\"type\":\"Grid\"},{\"id\":\"40f826bd-2526-4b80-8b63-f87d663dc01f\",\"type\":\"GlyphRenderer\"}],\"title\":{\"id\":\"804831e2-57b3-4f5a-bf33-efc47ec50dcd\",\"type\":\"Title\"},\"toolbar\":{\"id\":\"200fc096-d9b9-40cc-8d58-3330bb991584\",\"type\":\"Toolbar\"},\"toolbar_location\":null,\"x_range\":{\"id\":\"141228f8-b361-4272-b986-bfe705c873ec\",\"type\":\"FactorRange\"},\"x_scale\":{\"id\":\"cdeb0c30-6369-4b32-9b54-68a1a84d3824\",\"type\":\"CategoricalScale\"},\"y_range\":{\"id\":\"75a3f186-fca6-44d1-a45b-61b4c33b3296\",\"type\":\"Range1d\"},\"y_scale\":{\"id\":\"7c37b591-7b10-4a23-a57e-41a91846aafe\",\"type\":\"LinearScale\"}},\"id\":\"caa28ef5-7ccd-4a70-a7cb-baa9f2aa5d90\",\"subtype\":\"Figure\",\"type\":\"Plot\"},{\"attributes\":{},\"id\":\"c52eb6d2-34cd-4831-8071-482303470e62\",\"type\":\"BasicTickFormatter\"},{\"attributes\":{\"source\":{\"id\":\"d4d79e02-53ff-498e-85a3-c03a364ebb2b\",\"type\":\"ColumnDataSource\"}},\"id\":\"aa4429b5-17ab-463f-9adb-7d33d02cfbeb\",\"type\":\"CDSView\"},{\"attributes\":{\"fill_alpha\":{\"value\":0.1},\"fill_color\":{\"value\":\"#1f77b4\"},\"line_alpha\":{\"value\":0.1},\"line_color\":{\"value\":\"#1f77b4\"},\"top\":{\"field\":\"value\"},\"width\":{\"value\":0.9},\"x\":{\"field\":\"variable\"}},\"id\":\"3b4c2c95-31ea-45ec-963d-f9c0481adf9f\",\"type\":\"VBar\"},{\"attributes\":{\"callback\":null,\"data\":{\"highlight\":[\"#B49823\",\"#3F3F3F\",\"#3F3F3F\",\"#3F3F3F\"],\"index\":[7,15,23,31],\"movie\":[\"vice\",\"vice\",\"vice\",\"vice\"],\"value\":[78.0,71.0,71.0,70.0],\"variable\":[\"imdb_18\",\"imdb_18_29\",\"imdb_30_44\",\"imdb_45\"]},\"selected\":{\"id\":\"c57f32bf-04c2-4263-9f9c-8682773373af\",\"type\":\"Selection\"},\"selection_policy\":{\"id\":\"c17a97b8-70b9-4eb2-bc91-5f48b1e6104b\",\"type\":\"UnionRenderers\"}},\"id\":\"d4d79e02-53ff-498e-85a3-c03a364ebb2b\",\"type\":\"ColumnDataSource\"}],\"root_ids\":[\"caa28ef5-7ccd-4a70-a7cb-baa9f2aa5d90\"]},\"title\":\"Bokeh Application\",\"version\":\"0.13.0\"}};\n",
       "  var render_items = [{\"docid\":\"3cc80fe3-5ca9-43db-9b65-7d8bc6eb0f0b\",\"roots\":{\"caa28ef5-7ccd-4a70-a7cb-baa9f2aa5d90\":\"e4351f5d-f5e3-4413-b2cd-7d61fcd8c61d\"}}];\n",
       "  root.Bokeh.embed.embed_items_notebook(docs_json, render_items);\n",
       "\n",
       "  }\n",
       "  if (root.Bokeh !== undefined) {\n",
       "    embed_document(root);\n",
       "  } else {\n",
       "    var attempts = 0;\n",
       "    var timer = setInterval(function(root) {\n",
       "      if (root.Bokeh !== undefined) {\n",
       "        embed_document(root);\n",
       "        clearInterval(timer);\n",
       "      }\n",
       "      attempts++;\n",
       "      if (attempts > 100) {\n",
       "        console.log(\"Bokeh: ERROR: Unable to run BokehJS code because BokehJS library is missing\")\n",
       "        clearInterval(timer);\n",
       "      }\n",
       "    }, 10, root)\n",
       "  }\n",
       "})(window);"
      ],
      "application/vnd.bokehjs_exec.v0+json": ""
     },
     "metadata": {
      "application/vnd.bokehjs_exec.v0+json": {
       "id": "caa28ef5-7ccd-4a70-a7cb-baa9f2aa5d90"
      }
     },
     "output_type": "display_data"
    }
   ],
   "source": [
    "movies = df_reviews['movie'].unique()\n",
    "\n",
    "for movie in movies:\n",
    "    df_temp = df_reviews.loc[(df_reviews['movie'] == movie) & (df_reviews['variable'].str[:4] == 'imdb'), :]\n",
    "    df_temp['highlight'] = colors[1]\n",
    "    df_temp.loc[df_temp['value'] == df_temp['value'].max(), 'highlight'] = colors[0]\n",
    "    \n",
    "    p = figure(x_range = df_temp['variable'],\n",
    "               y_range = Range1d(65, df_temp['value'].max() + 2),\n",
    "               title = movie, \n",
    "               toolbar_location = None, \n",
    "               tools = '')\n",
    "\n",
    "    p.vbar(source = df_temp,\n",
    "           x = 'variable',\n",
    "           top = 'value', \n",
    "           color = 'highlight',\n",
    "           line_color = colors[2],\n",
    "           width = 0.9)\n",
    "    \n",
    "    show(p)"
   ]
  },
  {
   "cell_type": "markdown",
   "metadata": {},
   "source": [
    "Graphs for rotten tomato scores"
   ]
  },
  {
   "cell_type": "code",
   "execution_count": 6,
   "metadata": {
    "scrolled": false
   },
   "outputs": [
    {
     "name": "stderr",
     "output_type": "stream",
     "text": [
      "/Users/mattyancey/anaconda3/lib/python3.6/site-packages/pandas/core/indexing.py:362: SettingWithCopyWarning: \n",
      "A value is trying to be set on a copy of a slice from a DataFrame.\n",
      "Try using .loc[row_indexer,col_indexer] = value instead\n",
      "\n",
      "See the caveats in the documentation: http://pandas.pydata.org/pandas-docs/stable/indexing.html#indexing-view-versus-copy\n",
      "  self.obj[key] = _infer_fill_value(value)\n",
      "/Users/mattyancey/anaconda3/lib/python3.6/site-packages/pandas/core/indexing.py:543: SettingWithCopyWarning: \n",
      "A value is trying to be set on a copy of a slice from a DataFrame.\n",
      "Try using .loc[row_indexer,col_indexer] = value instead\n",
      "\n",
      "See the caveats in the documentation: http://pandas.pydata.org/pandas-docs/stable/indexing.html#indexing-view-versus-copy\n",
      "  self.obj[item] = s\n",
      "/Users/mattyancey/anaconda3/lib/python3.6/site-packages/ipykernel_launcher.py:4: SettingWithCopyWarning: \n",
      "A value is trying to be set on a copy of a slice from a DataFrame\n",
      "\n",
      "See the caveats in the documentation: http://pandas.pydata.org/pandas-docs/stable/indexing.html#indexing-view-versus-copy\n",
      "  after removing the cwd from sys.path.\n"
     ]
    },
    {
     "data": {
      "text/html": [
       "\n",
       "\n",
       "\n",
       "\n",
       "\n",
       "\n",
       "  <div class=\"bk-root\" id=\"f58923f4-7079-40ee-be1a-c0c5c083ef6d\"></div>\n"
      ]
     },
     "metadata": {},
     "output_type": "display_data"
    },
    {
     "data": {
      "application/javascript": [
       "(function(root) {\n",
       "  function embed_document(root) {\n",
       "    \n",
       "  var docs_json = {\"b927575a-765e-45fc-a45a-d1f447d3c8ac\":{\"roots\":{\"references\":[{\"attributes\":{\"callback\":null},\"id\":\"c13fef8d-a5d8-43b1-b1df-d146b780a9cf\",\"type\":\"DataRange1d\"},{\"attributes\":{},\"id\":\"abafa1b9-475b-40cb-9ddd-ff8842e88a03\",\"type\":\"LinearScale\"},{\"attributes\":{\"fill_color\":{\"field\":\"highlight\"},\"line_color\":{\"value\":\"#A8A8A8\"},\"top\":{\"field\":\"value\"},\"width\":{\"value\":0.9},\"x\":{\"field\":\"variable\"}},\"id\":\"6d69c95b-c9f2-4eb9-97ee-5ac7c4740bb8\",\"type\":\"VBar\"},{\"attributes\":{},\"id\":\"6e25e79f-f7ac-4041-b177-6de92bf23ef5\",\"type\":\"BasicTickFormatter\"},{\"attributes\":{\"active_drag\":\"auto\",\"active_inspect\":\"auto\",\"active_multi\":null,\"active_scroll\":\"auto\",\"active_tap\":\"auto\"},\"id\":\"66695536-b208-45f3-9653-04e4b813aa8a\",\"type\":\"Toolbar\"},{\"attributes\":{\"formatter\":{\"id\":\"6e25e79f-f7ac-4041-b177-6de92bf23ef5\",\"type\":\"BasicTickFormatter\"},\"plot\":{\"id\":\"3d20a197-8571-4c7f-8221-505fd844080d\",\"subtype\":\"Figure\",\"type\":\"Plot\"},\"ticker\":{\"id\":\"d3c68270-a949-4cc7-8608-df6bde8f63c1\",\"type\":\"BasicTicker\"}},\"id\":\"d46a14df-31b1-43c7-9a5b-b39cc96d0fab\",\"type\":\"LinearAxis\"},{\"attributes\":{\"dimension\":1,\"plot\":{\"id\":\"3d20a197-8571-4c7f-8221-505fd844080d\",\"subtype\":\"Figure\",\"type\":\"Plot\"},\"ticker\":{\"id\":\"d3c68270-a949-4cc7-8608-df6bde8f63c1\",\"type\":\"BasicTicker\"}},\"id\":\"5badcfa6-8935-41c1-b0c0-7371df695ef8\",\"type\":\"Grid\"},{\"attributes\":{\"callback\":null,\"data\":{\"highlight\":[\"#3F3F3F\",\"#B49823\",\"#3F3F3F\"],\"index\":[32,40,48],\"movie\":[\"black panther\",\"black panther\",\"black panther\"],\"value\":[97,100,79],\"variable\":[\"rt_all_critics\",\"rt_top_critics\",\"rt_audience_score\"]},\"selected\":{\"id\":\"38e0dabd-c13d-4593-8e4b-214ecb1b2de9\",\"type\":\"Selection\"},\"selection_policy\":{\"id\":\"ff1b8be4-d024-42d4-8910-b6290821e2f0\",\"type\":\"UnionRenderers\"}},\"id\":\"23b7f536-bd7a-4684-9f88-797e83ac3610\",\"type\":\"ColumnDataSource\"},{\"attributes\":{\"source\":{\"id\":\"23b7f536-bd7a-4684-9f88-797e83ac3610\",\"type\":\"ColumnDataSource\"}},\"id\":\"07d27c13-a428-4466-974c-5fcffd6615d1\",\"type\":\"CDSView\"},{\"attributes\":{},\"id\":\"ff1b8be4-d024-42d4-8910-b6290821e2f0\",\"type\":\"UnionRenderers\"},{\"attributes\":{},\"id\":\"d3c68270-a949-4cc7-8608-df6bde8f63c1\",\"type\":\"BasicTicker\"},{\"attributes\":{},\"id\":\"38e0dabd-c13d-4593-8e4b-214ecb1b2de9\",\"type\":\"Selection\"},{\"attributes\":{\"formatter\":{\"id\":\"9e1769f1-9f9e-4268-872b-977191820377\",\"type\":\"CategoricalTickFormatter\"},\"plot\":{\"id\":\"3d20a197-8571-4c7f-8221-505fd844080d\",\"subtype\":\"Figure\",\"type\":\"Plot\"},\"ticker\":{\"id\":\"d382975e-4e46-47c7-b039-05037c856cb6\",\"type\":\"CategoricalTicker\"}},\"id\":\"2bc23af8-d47f-4e49-8d12-62a50b79c6f7\",\"type\":\"CategoricalAxis\"},{\"attributes\":{\"fill_alpha\":{\"value\":0.1},\"fill_color\":{\"value\":\"#1f77b4\"},\"line_alpha\":{\"value\":0.1},\"line_color\":{\"value\":\"#1f77b4\"},\"top\":{\"field\":\"value\"},\"width\":{\"value\":0.9},\"x\":{\"field\":\"variable\"}},\"id\":\"2122e26d-16c4-4598-97d3-906c7d60e21c\",\"type\":\"VBar\"},{\"attributes\":{\"plot\":{\"id\":\"3d20a197-8571-4c7f-8221-505fd844080d\",\"subtype\":\"Figure\",\"type\":\"Plot\"},\"ticker\":{\"id\":\"d382975e-4e46-47c7-b039-05037c856cb6\",\"type\":\"CategoricalTicker\"}},\"id\":\"2a0013bb-debf-4b71-a6fc-617c57f80800\",\"type\":\"Grid\"},{\"attributes\":{\"callback\":null,\"factors\":[\"rt_all_critics\",\"rt_top_critics\",\"rt_audience_score\"]},\"id\":\"a9ab6e4d-f5df-4839-81fe-1e26cda13610\",\"type\":\"FactorRange\"},{\"attributes\":{\"data_source\":{\"id\":\"23b7f536-bd7a-4684-9f88-797e83ac3610\",\"type\":\"ColumnDataSource\"},\"glyph\":{\"id\":\"6d69c95b-c9f2-4eb9-97ee-5ac7c4740bb8\",\"type\":\"VBar\"},\"hover_glyph\":null,\"muted_glyph\":null,\"nonselection_glyph\":{\"id\":\"2122e26d-16c4-4598-97d3-906c7d60e21c\",\"type\":\"VBar\"},\"selection_glyph\":null,\"view\":{\"id\":\"07d27c13-a428-4466-974c-5fcffd6615d1\",\"type\":\"CDSView\"}},\"id\":\"1e441926-ecb3-46b3-b71e-daae879cd0c7\",\"type\":\"GlyphRenderer\"},{\"attributes\":{},\"id\":\"33c8ff15-18c0-4050-9e05-40fb3e3fb021\",\"type\":\"CategoricalScale\"},{\"attributes\":{\"below\":[{\"id\":\"2bc23af8-d47f-4e49-8d12-62a50b79c6f7\",\"type\":\"CategoricalAxis\"}],\"left\":[{\"id\":\"d46a14df-31b1-43c7-9a5b-b39cc96d0fab\",\"type\":\"LinearAxis\"}],\"renderers\":[{\"id\":\"2bc23af8-d47f-4e49-8d12-62a50b79c6f7\",\"type\":\"CategoricalAxis\"},{\"id\":\"2a0013bb-debf-4b71-a6fc-617c57f80800\",\"type\":\"Grid\"},{\"id\":\"d46a14df-31b1-43c7-9a5b-b39cc96d0fab\",\"type\":\"LinearAxis\"},{\"id\":\"5badcfa6-8935-41c1-b0c0-7371df695ef8\",\"type\":\"Grid\"},{\"id\":\"1e441926-ecb3-46b3-b71e-daae879cd0c7\",\"type\":\"GlyphRenderer\"}],\"title\":{\"id\":\"70fb758d-33c1-4ce8-8a24-48cff872cd57\",\"type\":\"Title\"},\"toolbar\":{\"id\":\"66695536-b208-45f3-9653-04e4b813aa8a\",\"type\":\"Toolbar\"},\"toolbar_location\":null,\"x_range\":{\"id\":\"a9ab6e4d-f5df-4839-81fe-1e26cda13610\",\"type\":\"FactorRange\"},\"x_scale\":{\"id\":\"33c8ff15-18c0-4050-9e05-40fb3e3fb021\",\"type\":\"CategoricalScale\"},\"y_range\":{\"id\":\"c13fef8d-a5d8-43b1-b1df-d146b780a9cf\",\"type\":\"DataRange1d\"},\"y_scale\":{\"id\":\"abafa1b9-475b-40cb-9ddd-ff8842e88a03\",\"type\":\"LinearScale\"}},\"id\":\"3d20a197-8571-4c7f-8221-505fd844080d\",\"subtype\":\"Figure\",\"type\":\"Plot\"},{\"attributes\":{},\"id\":\"9e1769f1-9f9e-4268-872b-977191820377\",\"type\":\"CategoricalTickFormatter\"},{\"attributes\":{},\"id\":\"d382975e-4e46-47c7-b039-05037c856cb6\",\"type\":\"CategoricalTicker\"},{\"attributes\":{\"plot\":null,\"text\":\"black panther\"},\"id\":\"70fb758d-33c1-4ce8-8a24-48cff872cd57\",\"type\":\"Title\"}],\"root_ids\":[\"3d20a197-8571-4c7f-8221-505fd844080d\"]},\"title\":\"Bokeh Application\",\"version\":\"0.13.0\"}};\n",
       "  var render_items = [{\"docid\":\"b927575a-765e-45fc-a45a-d1f447d3c8ac\",\"roots\":{\"3d20a197-8571-4c7f-8221-505fd844080d\":\"f58923f4-7079-40ee-be1a-c0c5c083ef6d\"}}];\n",
       "  root.Bokeh.embed.embed_items_notebook(docs_json, render_items);\n",
       "\n",
       "  }\n",
       "  if (root.Bokeh !== undefined) {\n",
       "    embed_document(root);\n",
       "  } else {\n",
       "    var attempts = 0;\n",
       "    var timer = setInterval(function(root) {\n",
       "      if (root.Bokeh !== undefined) {\n",
       "        embed_document(root);\n",
       "        clearInterval(timer);\n",
       "      }\n",
       "      attempts++;\n",
       "      if (attempts > 100) {\n",
       "        console.log(\"Bokeh: ERROR: Unable to run BokehJS code because BokehJS library is missing\")\n",
       "        clearInterval(timer);\n",
       "      }\n",
       "    }, 10, root)\n",
       "  }\n",
       "})(window);"
      ],
      "application/vnd.bokehjs_exec.v0+json": ""
     },
     "metadata": {
      "application/vnd.bokehjs_exec.v0+json": {
       "id": "3d20a197-8571-4c7f-8221-505fd844080d"
      }
     },
     "output_type": "display_data"
    },
    {
     "data": {
      "text/html": [
       "\n",
       "\n",
       "\n",
       "\n",
       "\n",
       "\n",
       "  <div class=\"bk-root\" id=\"f8566963-e2f7-4273-ad27-88de1be5dbb7\"></div>\n"
      ]
     },
     "metadata": {},
     "output_type": "display_data"
    },
    {
     "data": {
      "application/javascript": [
       "(function(root) {\n",
       "  function embed_document(root) {\n",
       "    \n",
       "  var docs_json = {\"998592e9-ba67-42d8-bbf1-e4cfde9e2a3f\":{\"roots\":{\"references\":[{\"attributes\":{\"callback\":null,\"factors\":[\"rt_all_critics\",\"rt_top_critics\",\"rt_audience_score\"]},\"id\":\"4c3e128c-fe10-432d-a7cc-16d30565bb04\",\"type\":\"FactorRange\"},{\"attributes\":{},\"id\":\"0177ab15-4f5f-43fa-9b44-950a8eda5307\",\"type\":\"BasicTickFormatter\"},{\"attributes\":{\"formatter\":{\"id\":\"b1c2441e-1bf4-4810-819b-5bc9230f2bed\",\"type\":\"CategoricalTickFormatter\"},\"plot\":{\"id\":\"534ce901-086d-4eca-9879-708d3c7de5fe\",\"subtype\":\"Figure\",\"type\":\"Plot\"},\"ticker\":{\"id\":\"3444ad54-d33f-43fa-9a95-2fb551278af1\",\"type\":\"CategoricalTicker\"}},\"id\":\"0c3634c6-45e5-4256-902e-1cec42259154\",\"type\":\"CategoricalAxis\"},{\"attributes\":{\"active_drag\":\"auto\",\"active_inspect\":\"auto\",\"active_multi\":null,\"active_scroll\":\"auto\",\"active_tap\":\"auto\"},\"id\":\"a9c553e3-bd9d-4d59-8f1e-7169e6c66e4c\",\"type\":\"Toolbar\"},{\"attributes\":{\"data_source\":{\"id\":\"71c4352c-1086-44bb-9125-66c97c7bf872\",\"type\":\"ColumnDataSource\"},\"glyph\":{\"id\":\"bf07eb69-17a0-416e-948c-19b145de7151\",\"type\":\"VBar\"},\"hover_glyph\":null,\"muted_glyph\":null,\"nonselection_glyph\":{\"id\":\"b91df74e-044c-453e-9634-226155e30aa4\",\"type\":\"VBar\"},\"selection_glyph\":null,\"view\":{\"id\":\"c223e80d-006f-4936-864f-34a6c89d7564\",\"type\":\"CDSView\"}},\"id\":\"f3ff4b89-68bf-40ec-9acd-802ba9ba3584\",\"type\":\"GlyphRenderer\"},{\"attributes\":{\"below\":[{\"id\":\"0c3634c6-45e5-4256-902e-1cec42259154\",\"type\":\"CategoricalAxis\"}],\"left\":[{\"id\":\"0096164c-9cd0-42fd-a51c-c65f6429b5cd\",\"type\":\"LinearAxis\"}],\"renderers\":[{\"id\":\"0c3634c6-45e5-4256-902e-1cec42259154\",\"type\":\"CategoricalAxis\"},{\"id\":\"35500ec3-39cc-4b23-baa4-7f3374df5564\",\"type\":\"Grid\"},{\"id\":\"0096164c-9cd0-42fd-a51c-c65f6429b5cd\",\"type\":\"LinearAxis\"},{\"id\":\"de62e764-a526-4311-a838-02aeccdd5914\",\"type\":\"Grid\"},{\"id\":\"f3ff4b89-68bf-40ec-9acd-802ba9ba3584\",\"type\":\"GlyphRenderer\"}],\"title\":{\"id\":\"9fd11cf0-273f-4f26-b4a1-725995d21e02\",\"type\":\"Title\"},\"toolbar\":{\"id\":\"a9c553e3-bd9d-4d59-8f1e-7169e6c66e4c\",\"type\":\"Toolbar\"},\"toolbar_location\":null,\"x_range\":{\"id\":\"4c3e128c-fe10-432d-a7cc-16d30565bb04\",\"type\":\"FactorRange\"},\"x_scale\":{\"id\":\"07b2fa22-10ef-413c-b73e-ace438de9559\",\"type\":\"CategoricalScale\"},\"y_range\":{\"id\":\"6f9de96e-ea05-48b6-abfc-54d11ec2d71b\",\"type\":\"DataRange1d\"},\"y_scale\":{\"id\":\"0f69e091-9922-4fd1-b9bf-24acde973283\",\"type\":\"LinearScale\"}},\"id\":\"534ce901-086d-4eca-9879-708d3c7de5fe\",\"subtype\":\"Figure\",\"type\":\"Plot\"},{\"attributes\":{\"plot\":{\"id\":\"534ce901-086d-4eca-9879-708d3c7de5fe\",\"subtype\":\"Figure\",\"type\":\"Plot\"},\"ticker\":{\"id\":\"3444ad54-d33f-43fa-9a95-2fb551278af1\",\"type\":\"CategoricalTicker\"}},\"id\":\"35500ec3-39cc-4b23-baa4-7f3374df5564\",\"type\":\"Grid\"},{\"attributes\":{\"source\":{\"id\":\"71c4352c-1086-44bb-9125-66c97c7bf872\",\"type\":\"ColumnDataSource\"}},\"id\":\"c223e80d-006f-4936-864f-34a6c89d7564\",\"type\":\"CDSView\"},{\"attributes\":{\"callback\":null},\"id\":\"6f9de96e-ea05-48b6-abfc-54d11ec2d71b\",\"type\":\"DataRange1d\"},{\"attributes\":{},\"id\":\"88dd1857-b4ba-4091-9ece-2355839dd446\",\"type\":\"BasicTicker\"},{\"attributes\":{},\"id\":\"b1c2441e-1bf4-4810-819b-5bc9230f2bed\",\"type\":\"CategoricalTickFormatter\"},{\"attributes\":{},\"id\":\"06ad9005-70da-4cc5-a366-e6fa741482c9\",\"type\":\"Selection\"},{\"attributes\":{\"formatter\":{\"id\":\"0177ab15-4f5f-43fa-9b44-950a8eda5307\",\"type\":\"BasicTickFormatter\"},\"plot\":{\"id\":\"534ce901-086d-4eca-9879-708d3c7de5fe\",\"subtype\":\"Figure\",\"type\":\"Plot\"},\"ticker\":{\"id\":\"88dd1857-b4ba-4091-9ece-2355839dd446\",\"type\":\"BasicTicker\"}},\"id\":\"0096164c-9cd0-42fd-a51c-c65f6429b5cd\",\"type\":\"LinearAxis\"},{\"attributes\":{},\"id\":\"3444ad54-d33f-43fa-9a95-2fb551278af1\",\"type\":\"CategoricalTicker\"},{\"attributes\":{\"callback\":null,\"data\":{\"highlight\":[\"#3F3F3F\",\"#B49823\",\"#3F3F3F\"],\"index\":[33,41,49],\"movie\":[\"blackkklansman\",\"blackkklansman\",\"blackkklansman\"],\"value\":[95,100,82],\"variable\":[\"rt_all_critics\",\"rt_top_critics\",\"rt_audience_score\"]},\"selected\":{\"id\":\"06ad9005-70da-4cc5-a366-e6fa741482c9\",\"type\":\"Selection\"},\"selection_policy\":{\"id\":\"784b03f5-6650-453e-b96b-22dba0630fa0\",\"type\":\"UnionRenderers\"}},\"id\":\"71c4352c-1086-44bb-9125-66c97c7bf872\",\"type\":\"ColumnDataSource\"},{\"attributes\":{},\"id\":\"784b03f5-6650-453e-b96b-22dba0630fa0\",\"type\":\"UnionRenderers\"},{\"attributes\":{\"fill_color\":{\"field\":\"highlight\"},\"line_color\":{\"value\":\"#A8A8A8\"},\"top\":{\"field\":\"value\"},\"width\":{\"value\":0.9},\"x\":{\"field\":\"variable\"}},\"id\":\"bf07eb69-17a0-416e-948c-19b145de7151\",\"type\":\"VBar\"},{\"attributes\":{\"plot\":null,\"text\":\"blackkklansman\"},\"id\":\"9fd11cf0-273f-4f26-b4a1-725995d21e02\",\"type\":\"Title\"},{\"attributes\":{\"fill_alpha\":{\"value\":0.1},\"fill_color\":{\"value\":\"#1f77b4\"},\"line_alpha\":{\"value\":0.1},\"line_color\":{\"value\":\"#1f77b4\"},\"top\":{\"field\":\"value\"},\"width\":{\"value\":0.9},\"x\":{\"field\":\"variable\"}},\"id\":\"b91df74e-044c-453e-9634-226155e30aa4\",\"type\":\"VBar\"},{\"attributes\":{},\"id\":\"0f69e091-9922-4fd1-b9bf-24acde973283\",\"type\":\"LinearScale\"},{\"attributes\":{\"dimension\":1,\"plot\":{\"id\":\"534ce901-086d-4eca-9879-708d3c7de5fe\",\"subtype\":\"Figure\",\"type\":\"Plot\"},\"ticker\":{\"id\":\"88dd1857-b4ba-4091-9ece-2355839dd446\",\"type\":\"BasicTicker\"}},\"id\":\"de62e764-a526-4311-a838-02aeccdd5914\",\"type\":\"Grid\"},{\"attributes\":{},\"id\":\"07b2fa22-10ef-413c-b73e-ace438de9559\",\"type\":\"CategoricalScale\"}],\"root_ids\":[\"534ce901-086d-4eca-9879-708d3c7de5fe\"]},\"title\":\"Bokeh Application\",\"version\":\"0.13.0\"}};\n",
       "  var render_items = [{\"docid\":\"998592e9-ba67-42d8-bbf1-e4cfde9e2a3f\",\"roots\":{\"534ce901-086d-4eca-9879-708d3c7de5fe\":\"f8566963-e2f7-4273-ad27-88de1be5dbb7\"}}];\n",
       "  root.Bokeh.embed.embed_items_notebook(docs_json, render_items);\n",
       "\n",
       "  }\n",
       "  if (root.Bokeh !== undefined) {\n",
       "    embed_document(root);\n",
       "  } else {\n",
       "    var attempts = 0;\n",
       "    var timer = setInterval(function(root) {\n",
       "      if (root.Bokeh !== undefined) {\n",
       "        embed_document(root);\n",
       "        clearInterval(timer);\n",
       "      }\n",
       "      attempts++;\n",
       "      if (attempts > 100) {\n",
       "        console.log(\"Bokeh: ERROR: Unable to run BokehJS code because BokehJS library is missing\")\n",
       "        clearInterval(timer);\n",
       "      }\n",
       "    }, 10, root)\n",
       "  }\n",
       "})(window);"
      ],
      "application/vnd.bokehjs_exec.v0+json": ""
     },
     "metadata": {
      "application/vnd.bokehjs_exec.v0+json": {
       "id": "534ce901-086d-4eca-9879-708d3c7de5fe"
      }
     },
     "output_type": "display_data"
    },
    {
     "data": {
      "text/html": [
       "\n",
       "\n",
       "\n",
       "\n",
       "\n",
       "\n",
       "  <div class=\"bk-root\" id=\"4e6fff49-10a1-4cd1-aec6-40bf05a614f7\"></div>\n"
      ]
     },
     "metadata": {},
     "output_type": "display_data"
    },
    {
     "data": {
      "application/javascript": [
       "(function(root) {\n",
       "  function embed_document(root) {\n",
       "    \n",
       "  var docs_json = {\"eecafab6-c8c3-4430-8ae4-5d154e03ea39\":{\"roots\":{\"references\":[{\"attributes\":{\"formatter\":{\"id\":\"bcf52bbd-ad4b-427b-851c-25db149105a4\",\"type\":\"BasicTickFormatter\"},\"plot\":{\"id\":\"9b2c30cd-aa3e-461e-b321-dd77439e6411\",\"subtype\":\"Figure\",\"type\":\"Plot\"},\"ticker\":{\"id\":\"bb6539a8-354a-4c12-b0b3-023b5465b891\",\"type\":\"BasicTicker\"}},\"id\":\"1f5ff1d5-6994-42fb-9943-19bade70bca0\",\"type\":\"LinearAxis\"},{\"attributes\":{},\"id\":\"bd9ad418-d5ae-4236-a7ac-d7be59004d13\",\"type\":\"CategoricalTicker\"},{\"attributes\":{\"callback\":null},\"id\":\"b0a8426a-efef-4cd4-ad90-d9093a823f2e\",\"type\":\"DataRange1d\"},{\"attributes\":{\"below\":[{\"id\":\"ac97b084-2655-4e18-9d66-a3c943a462c9\",\"type\":\"CategoricalAxis\"}],\"left\":[{\"id\":\"1f5ff1d5-6994-42fb-9943-19bade70bca0\",\"type\":\"LinearAxis\"}],\"renderers\":[{\"id\":\"ac97b084-2655-4e18-9d66-a3c943a462c9\",\"type\":\"CategoricalAxis\"},{\"id\":\"0178be2a-78a2-4786-b7ce-12cf9da99962\",\"type\":\"Grid\"},{\"id\":\"1f5ff1d5-6994-42fb-9943-19bade70bca0\",\"type\":\"LinearAxis\"},{\"id\":\"3f10921c-9b0f-4426-82de-2ea3b180a876\",\"type\":\"Grid\"},{\"id\":\"e4d84a25-c811-4749-b860-b5195550d5ab\",\"type\":\"GlyphRenderer\"}],\"title\":{\"id\":\"ae4edece-c374-4b5a-8c70-e18b9ff8ade0\",\"type\":\"Title\"},\"toolbar\":{\"id\":\"53c2a82e-9ccc-4181-9d4b-aa3303868b67\",\"type\":\"Toolbar\"},\"toolbar_location\":null,\"x_range\":{\"id\":\"71cb2fc5-0637-4b5d-9ce4-fd7a8bb37e90\",\"type\":\"FactorRange\"},\"x_scale\":{\"id\":\"0738d944-d046-4a73-9cd2-fbe6f9083377\",\"type\":\"CategoricalScale\"},\"y_range\":{\"id\":\"b0a8426a-efef-4cd4-ad90-d9093a823f2e\",\"type\":\"DataRange1d\"},\"y_scale\":{\"id\":\"a2b436d7-f5a3-416e-8ca7-5bca26a60dca\",\"type\":\"LinearScale\"}},\"id\":\"9b2c30cd-aa3e-461e-b321-dd77439e6411\",\"subtype\":\"Figure\",\"type\":\"Plot\"},{\"attributes\":{},\"id\":\"e7fecbfc-19cc-4d7d-93e7-d0e381bcac39\",\"type\":\"Selection\"},{\"attributes\":{\"fill_alpha\":{\"value\":0.1},\"fill_color\":{\"value\":\"#1f77b4\"},\"line_alpha\":{\"value\":0.1},\"line_color\":{\"value\":\"#1f77b4\"},\"top\":{\"field\":\"value\"},\"width\":{\"value\":0.9},\"x\":{\"field\":\"variable\"}},\"id\":\"f719f0b2-ae15-47ba-a5ba-03189a131750\",\"type\":\"VBar\"},{\"attributes\":{\"fill_color\":{\"field\":\"highlight\"},\"line_color\":{\"value\":\"#A8A8A8\"},\"top\":{\"field\":\"value\"},\"width\":{\"value\":0.9},\"x\":{\"field\":\"variable\"}},\"id\":\"c61b0a90-be6e-4e18-b5e4-46856a059ab5\",\"type\":\"VBar\"},{\"attributes\":{\"callback\":null,\"data\":{\"highlight\":[\"#3F3F3F\",\"#3F3F3F\",\"#B49823\"],\"index\":[34,42,50],\"movie\":[\"bohemian rhapsody\",\"bohemian rhapsody\",\"bohemian rhapsody\"],\"value\":[62,48,89],\"variable\":[\"rt_all_critics\",\"rt_top_critics\",\"rt_audience_score\"]},\"selected\":{\"id\":\"e7fecbfc-19cc-4d7d-93e7-d0e381bcac39\",\"type\":\"Selection\"},\"selection_policy\":{\"id\":\"6edbffd0-cf00-4e42-b003-9a95d8f54679\",\"type\":\"UnionRenderers\"}},\"id\":\"aea8e73c-5646-4750-a44b-d3191ea17062\",\"type\":\"ColumnDataSource\"},{\"attributes\":{},\"id\":\"0738d944-d046-4a73-9cd2-fbe6f9083377\",\"type\":\"CategoricalScale\"},{\"attributes\":{},\"id\":\"a2b436d7-f5a3-416e-8ca7-5bca26a60dca\",\"type\":\"LinearScale\"},{\"attributes\":{\"active_drag\":\"auto\",\"active_inspect\":\"auto\",\"active_multi\":null,\"active_scroll\":\"auto\",\"active_tap\":\"auto\"},\"id\":\"53c2a82e-9ccc-4181-9d4b-aa3303868b67\",\"type\":\"Toolbar\"},{\"attributes\":{},\"id\":\"1adde6f1-7990-4e2f-90cf-cff82863a6d2\",\"type\":\"CategoricalTickFormatter\"},{\"attributes\":{\"dimension\":1,\"plot\":{\"id\":\"9b2c30cd-aa3e-461e-b321-dd77439e6411\",\"subtype\":\"Figure\",\"type\":\"Plot\"},\"ticker\":{\"id\":\"bb6539a8-354a-4c12-b0b3-023b5465b891\",\"type\":\"BasicTicker\"}},\"id\":\"3f10921c-9b0f-4426-82de-2ea3b180a876\",\"type\":\"Grid\"},{\"attributes\":{\"source\":{\"id\":\"aea8e73c-5646-4750-a44b-d3191ea17062\",\"type\":\"ColumnDataSource\"}},\"id\":\"b936a4c2-1fd9-414f-848f-5725ca2da894\",\"type\":\"CDSView\"},{\"attributes\":{\"plot\":{\"id\":\"9b2c30cd-aa3e-461e-b321-dd77439e6411\",\"subtype\":\"Figure\",\"type\":\"Plot\"},\"ticker\":{\"id\":\"bd9ad418-d5ae-4236-a7ac-d7be59004d13\",\"type\":\"CategoricalTicker\"}},\"id\":\"0178be2a-78a2-4786-b7ce-12cf9da99962\",\"type\":\"Grid\"},{\"attributes\":{\"callback\":null,\"factors\":[\"rt_all_critics\",\"rt_top_critics\",\"rt_audience_score\"]},\"id\":\"71cb2fc5-0637-4b5d-9ce4-fd7a8bb37e90\",\"type\":\"FactorRange\"},{\"attributes\":{\"formatter\":{\"id\":\"1adde6f1-7990-4e2f-90cf-cff82863a6d2\",\"type\":\"CategoricalTickFormatter\"},\"plot\":{\"id\":\"9b2c30cd-aa3e-461e-b321-dd77439e6411\",\"subtype\":\"Figure\",\"type\":\"Plot\"},\"ticker\":{\"id\":\"bd9ad418-d5ae-4236-a7ac-d7be59004d13\",\"type\":\"CategoricalTicker\"}},\"id\":\"ac97b084-2655-4e18-9d66-a3c943a462c9\",\"type\":\"CategoricalAxis\"},{\"attributes\":{},\"id\":\"bb6539a8-354a-4c12-b0b3-023b5465b891\",\"type\":\"BasicTicker\"},{\"attributes\":{\"plot\":null,\"text\":\"bohemian rhapsody\"},\"id\":\"ae4edece-c374-4b5a-8c70-e18b9ff8ade0\",\"type\":\"Title\"},{\"attributes\":{\"data_source\":{\"id\":\"aea8e73c-5646-4750-a44b-d3191ea17062\",\"type\":\"ColumnDataSource\"},\"glyph\":{\"id\":\"c61b0a90-be6e-4e18-b5e4-46856a059ab5\",\"type\":\"VBar\"},\"hover_glyph\":null,\"muted_glyph\":null,\"nonselection_glyph\":{\"id\":\"f719f0b2-ae15-47ba-a5ba-03189a131750\",\"type\":\"VBar\"},\"selection_glyph\":null,\"view\":{\"id\":\"b936a4c2-1fd9-414f-848f-5725ca2da894\",\"type\":\"CDSView\"}},\"id\":\"e4d84a25-c811-4749-b860-b5195550d5ab\",\"type\":\"GlyphRenderer\"},{\"attributes\":{},\"id\":\"bcf52bbd-ad4b-427b-851c-25db149105a4\",\"type\":\"BasicTickFormatter\"},{\"attributes\":{},\"id\":\"6edbffd0-cf00-4e42-b003-9a95d8f54679\",\"type\":\"UnionRenderers\"}],\"root_ids\":[\"9b2c30cd-aa3e-461e-b321-dd77439e6411\"]},\"title\":\"Bokeh Application\",\"version\":\"0.13.0\"}};\n",
       "  var render_items = [{\"docid\":\"eecafab6-c8c3-4430-8ae4-5d154e03ea39\",\"roots\":{\"9b2c30cd-aa3e-461e-b321-dd77439e6411\":\"4e6fff49-10a1-4cd1-aec6-40bf05a614f7\"}}];\n",
       "  root.Bokeh.embed.embed_items_notebook(docs_json, render_items);\n",
       "\n",
       "  }\n",
       "  if (root.Bokeh !== undefined) {\n",
       "    embed_document(root);\n",
       "  } else {\n",
       "    var attempts = 0;\n",
       "    var timer = setInterval(function(root) {\n",
       "      if (root.Bokeh !== undefined) {\n",
       "        embed_document(root);\n",
       "        clearInterval(timer);\n",
       "      }\n",
       "      attempts++;\n",
       "      if (attempts > 100) {\n",
       "        console.log(\"Bokeh: ERROR: Unable to run BokehJS code because BokehJS library is missing\")\n",
       "        clearInterval(timer);\n",
       "      }\n",
       "    }, 10, root)\n",
       "  }\n",
       "})(window);"
      ],
      "application/vnd.bokehjs_exec.v0+json": ""
     },
     "metadata": {
      "application/vnd.bokehjs_exec.v0+json": {
       "id": "9b2c30cd-aa3e-461e-b321-dd77439e6411"
      }
     },
     "output_type": "display_data"
    },
    {
     "data": {
      "text/html": [
       "\n",
       "\n",
       "\n",
       "\n",
       "\n",
       "\n",
       "  <div class=\"bk-root\" id=\"28d4ecc5-0463-4e3f-a170-03608c87e5c2\"></div>\n"
      ]
     },
     "metadata": {},
     "output_type": "display_data"
    },
    {
     "data": {
      "application/javascript": [
       "(function(root) {\n",
       "  function embed_document(root) {\n",
       "    \n",
       "  var docs_json = {\"48b81d7f-ea6f-47e6-8b87-c993c072958c\":{\"roots\":{\"references\":[{\"attributes\":{\"below\":[{\"id\":\"1221c4dd-4d09-4dce-95df-c0e4abeb4418\",\"type\":\"CategoricalAxis\"}],\"left\":[{\"id\":\"0b42ec8e-65b4-4b08-bad5-e2eb86f6809a\",\"type\":\"LinearAxis\"}],\"renderers\":[{\"id\":\"1221c4dd-4d09-4dce-95df-c0e4abeb4418\",\"type\":\"CategoricalAxis\"},{\"id\":\"4d35f081-dec7-4581-96e6-fc7fdea0a5aa\",\"type\":\"Grid\"},{\"id\":\"0b42ec8e-65b4-4b08-bad5-e2eb86f6809a\",\"type\":\"LinearAxis\"},{\"id\":\"9d2759da-260d-45ca-9aea-602094ed4489\",\"type\":\"Grid\"},{\"id\":\"c8b0dd4f-e915-4018-85ea-82c0373fc5c7\",\"type\":\"GlyphRenderer\"}],\"title\":{\"id\":\"4962406b-abf3-4770-a8ea-56283d8213f1\",\"type\":\"Title\"},\"toolbar\":{\"id\":\"3a350c90-e618-438c-a14d-4fedb1e6a13c\",\"type\":\"Toolbar\"},\"toolbar_location\":null,\"x_range\":{\"id\":\"3e3dbae3-3cfd-4788-8257-e0fbe618ce7a\",\"type\":\"FactorRange\"},\"x_scale\":{\"id\":\"8cab73a8-da15-45da-8bb9-8e4a9441db25\",\"type\":\"CategoricalScale\"},\"y_range\":{\"id\":\"81d86a04-4f96-475a-b2d3-c99f30877d2e\",\"type\":\"DataRange1d\"},\"y_scale\":{\"id\":\"3e258a6f-2926-42bd-b3e0-f309dce16b00\",\"type\":\"LinearScale\"}},\"id\":\"7520cfc7-161f-4fc9-b4bc-3e23f6d6a141\",\"subtype\":\"Figure\",\"type\":\"Plot\"},{\"attributes\":{\"callback\":null,\"factors\":[\"rt_all_critics\",\"rt_top_critics\",\"rt_audience_score\"]},\"id\":\"3e3dbae3-3cfd-4788-8257-e0fbe618ce7a\",\"type\":\"FactorRange\"},{\"attributes\":{},\"id\":\"8cab73a8-da15-45da-8bb9-8e4a9441db25\",\"type\":\"CategoricalScale\"},{\"attributes\":{},\"id\":\"96aac547-88d7-47e3-b35d-973ad31db6da\",\"type\":\"BasicTicker\"},{\"attributes\":{\"fill_color\":{\"field\":\"highlight\"},\"line_color\":{\"value\":\"#A8A8A8\"},\"top\":{\"field\":\"value\"},\"width\":{\"value\":0.9},\"x\":{\"field\":\"variable\"}},\"id\":\"fc08e3ce-6024-4652-a8f1-c23cbcf0486e\",\"type\":\"VBar\"},{\"attributes\":{\"formatter\":{\"id\":\"e2c99738-0b7e-4da4-acaa-057a1ad9a4d3\",\"type\":\"BasicTickFormatter\"},\"plot\":{\"id\":\"7520cfc7-161f-4fc9-b4bc-3e23f6d6a141\",\"subtype\":\"Figure\",\"type\":\"Plot\"},\"ticker\":{\"id\":\"96aac547-88d7-47e3-b35d-973ad31db6da\",\"type\":\"BasicTicker\"}},\"id\":\"0b42ec8e-65b4-4b08-bad5-e2eb86f6809a\",\"type\":\"LinearAxis\"},{\"attributes\":{\"data_source\":{\"id\":\"381a446d-6902-48e8-8498-f711bcd3f86a\",\"type\":\"ColumnDataSource\"},\"glyph\":{\"id\":\"fc08e3ce-6024-4652-a8f1-c23cbcf0486e\",\"type\":\"VBar\"},\"hover_glyph\":null,\"muted_glyph\":null,\"nonselection_glyph\":{\"id\":\"edee47b5-2087-407c-8f91-c74f71093313\",\"type\":\"VBar\"},\"selection_glyph\":null,\"view\":{\"id\":\"72b33be9-19a6-4029-9806-587a1b253120\",\"type\":\"CDSView\"}},\"id\":\"c8b0dd4f-e915-4018-85ea-82c0373fc5c7\",\"type\":\"GlyphRenderer\"},{\"attributes\":{},\"id\":\"8d8d57e6-b782-4963-8969-f2b95c4e2bcd\",\"type\":\"UnionRenderers\"},{\"attributes\":{\"plot\":{\"id\":\"7520cfc7-161f-4fc9-b4bc-3e23f6d6a141\",\"subtype\":\"Figure\",\"type\":\"Plot\"},\"ticker\":{\"id\":\"14eb92b1-7584-4092-be6d-8e60d07fb05c\",\"type\":\"CategoricalTicker\"}},\"id\":\"4d35f081-dec7-4581-96e6-fc7fdea0a5aa\",\"type\":\"Grid\"},{\"attributes\":{},\"id\":\"3e258a6f-2926-42bd-b3e0-f309dce16b00\",\"type\":\"LinearScale\"},{\"attributes\":{},\"id\":\"e2c99738-0b7e-4da4-acaa-057a1ad9a4d3\",\"type\":\"BasicTickFormatter\"},{\"attributes\":{\"plot\":null,\"text\":\"the favourite\"},\"id\":\"4962406b-abf3-4770-a8ea-56283d8213f1\",\"type\":\"Title\"},{\"attributes\":{\"dimension\":1,\"plot\":{\"id\":\"7520cfc7-161f-4fc9-b4bc-3e23f6d6a141\",\"subtype\":\"Figure\",\"type\":\"Plot\"},\"ticker\":{\"id\":\"96aac547-88d7-47e3-b35d-973ad31db6da\",\"type\":\"BasicTicker\"}},\"id\":\"9d2759da-260d-45ca-9aea-602094ed4489\",\"type\":\"Grid\"},{\"attributes\":{},\"id\":\"023892f7-42f4-4c70-bc23-7ff209d7a4b5\",\"type\":\"CategoricalTickFormatter\"},{\"attributes\":{},\"id\":\"9378c423-78f3-4533-b3dd-a3ffed7e4366\",\"type\":\"Selection\"},{\"attributes\":{},\"id\":\"14eb92b1-7584-4092-be6d-8e60d07fb05c\",\"type\":\"CategoricalTicker\"},{\"attributes\":{\"callback\":null,\"data\":{\"highlight\":[\"#3F3F3F\",\"#B49823\",\"#3F3F3F\"],\"index\":[35,43,51],\"movie\":[\"the favourite\",\"the favourite\",\"the favourite\"],\"value\":[93,98,62],\"variable\":[\"rt_all_critics\",\"rt_top_critics\",\"rt_audience_score\"]},\"selected\":{\"id\":\"9378c423-78f3-4533-b3dd-a3ffed7e4366\",\"type\":\"Selection\"},\"selection_policy\":{\"id\":\"8d8d57e6-b782-4963-8969-f2b95c4e2bcd\",\"type\":\"UnionRenderers\"}},\"id\":\"381a446d-6902-48e8-8498-f711bcd3f86a\",\"type\":\"ColumnDataSource\"},{\"attributes\":{\"formatter\":{\"id\":\"023892f7-42f4-4c70-bc23-7ff209d7a4b5\",\"type\":\"CategoricalTickFormatter\"},\"plot\":{\"id\":\"7520cfc7-161f-4fc9-b4bc-3e23f6d6a141\",\"subtype\":\"Figure\",\"type\":\"Plot\"},\"ticker\":{\"id\":\"14eb92b1-7584-4092-be6d-8e60d07fb05c\",\"type\":\"CategoricalTicker\"}},\"id\":\"1221c4dd-4d09-4dce-95df-c0e4abeb4418\",\"type\":\"CategoricalAxis\"},{\"attributes\":{\"source\":{\"id\":\"381a446d-6902-48e8-8498-f711bcd3f86a\",\"type\":\"ColumnDataSource\"}},\"id\":\"72b33be9-19a6-4029-9806-587a1b253120\",\"type\":\"CDSView\"},{\"attributes\":{\"callback\":null},\"id\":\"81d86a04-4f96-475a-b2d3-c99f30877d2e\",\"type\":\"DataRange1d\"},{\"attributes\":{\"active_drag\":\"auto\",\"active_inspect\":\"auto\",\"active_multi\":null,\"active_scroll\":\"auto\",\"active_tap\":\"auto\"},\"id\":\"3a350c90-e618-438c-a14d-4fedb1e6a13c\",\"type\":\"Toolbar\"},{\"attributes\":{\"fill_alpha\":{\"value\":0.1},\"fill_color\":{\"value\":\"#1f77b4\"},\"line_alpha\":{\"value\":0.1},\"line_color\":{\"value\":\"#1f77b4\"},\"top\":{\"field\":\"value\"},\"width\":{\"value\":0.9},\"x\":{\"field\":\"variable\"}},\"id\":\"edee47b5-2087-407c-8f91-c74f71093313\",\"type\":\"VBar\"}],\"root_ids\":[\"7520cfc7-161f-4fc9-b4bc-3e23f6d6a141\"]},\"title\":\"Bokeh Application\",\"version\":\"0.13.0\"}};\n",
       "  var render_items = [{\"docid\":\"48b81d7f-ea6f-47e6-8b87-c993c072958c\",\"roots\":{\"7520cfc7-161f-4fc9-b4bc-3e23f6d6a141\":\"28d4ecc5-0463-4e3f-a170-03608c87e5c2\"}}];\n",
       "  root.Bokeh.embed.embed_items_notebook(docs_json, render_items);\n",
       "\n",
       "  }\n",
       "  if (root.Bokeh !== undefined) {\n",
       "    embed_document(root);\n",
       "  } else {\n",
       "    var attempts = 0;\n",
       "    var timer = setInterval(function(root) {\n",
       "      if (root.Bokeh !== undefined) {\n",
       "        embed_document(root);\n",
       "        clearInterval(timer);\n",
       "      }\n",
       "      attempts++;\n",
       "      if (attempts > 100) {\n",
       "        console.log(\"Bokeh: ERROR: Unable to run BokehJS code because BokehJS library is missing\")\n",
       "        clearInterval(timer);\n",
       "      }\n",
       "    }, 10, root)\n",
       "  }\n",
       "})(window);"
      ],
      "application/vnd.bokehjs_exec.v0+json": ""
     },
     "metadata": {
      "application/vnd.bokehjs_exec.v0+json": {
       "id": "7520cfc7-161f-4fc9-b4bc-3e23f6d6a141"
      }
     },
     "output_type": "display_data"
    },
    {
     "data": {
      "text/html": [
       "\n",
       "\n",
       "\n",
       "\n",
       "\n",
       "\n",
       "  <div class=\"bk-root\" id=\"c0a8d48c-4a17-4098-a677-48a18e5e5797\"></div>\n"
      ]
     },
     "metadata": {},
     "output_type": "display_data"
    },
    {
     "data": {
      "application/javascript": [
       "(function(root) {\n",
       "  function embed_document(root) {\n",
       "    \n",
       "  var docs_json = {\"1f1ed823-e6a4-438b-93df-73aab9d5394d\":{\"roots\":{\"references\":[{\"attributes\":{\"formatter\":{\"id\":\"5b2d5dc1-ad8b-498a-b9a2-d1b82c449e00\",\"type\":\"BasicTickFormatter\"},\"plot\":{\"id\":\"c19b78cd-558d-44ae-bf79-984582fd8f0f\",\"subtype\":\"Figure\",\"type\":\"Plot\"},\"ticker\":{\"id\":\"e4ab5b4a-7841-4a46-8222-6c33597ef85a\",\"type\":\"BasicTicker\"}},\"id\":\"7d6244ab-0d88-424c-9f3a-49180355896d\",\"type\":\"LinearAxis\"},{\"attributes\":{},\"id\":\"529d6d12-94c8-4334-b615-1dc0313c096d\",\"type\":\"CategoricalScale\"},{\"attributes\":{},\"id\":\"92faa5a4-9a0e-4c7c-9f77-cd530b59e524\",\"type\":\"Selection\"},{\"attributes\":{\"callback\":null},\"id\":\"03934c03-4d38-4d33-8005-6bd85a0fffd8\",\"type\":\"DataRange1d\"},{\"attributes\":{\"fill_alpha\":{\"value\":0.1},\"fill_color\":{\"value\":\"#1f77b4\"},\"line_alpha\":{\"value\":0.1},\"line_color\":{\"value\":\"#1f77b4\"},\"top\":{\"field\":\"value\"},\"width\":{\"value\":0.9},\"x\":{\"field\":\"variable\"}},\"id\":\"8a4f2106-b569-44d0-9260-3b52b9b036cc\",\"type\":\"VBar\"},{\"attributes\":{\"plot\":{\"id\":\"c19b78cd-558d-44ae-bf79-984582fd8f0f\",\"subtype\":\"Figure\",\"type\":\"Plot\"},\"ticker\":{\"id\":\"1c2d71b0-a7e3-4bb2-9823-429dc8f936a6\",\"type\":\"CategoricalTicker\"}},\"id\":\"243faec8-198d-4724-bb25-46e8bcedd51c\",\"type\":\"Grid\"},{\"attributes\":{},\"id\":\"2742bc90-8df9-4ef4-abbd-51792fa18928\",\"type\":\"UnionRenderers\"},{\"attributes\":{},\"id\":\"e4ab5b4a-7841-4a46-8222-6c33597ef85a\",\"type\":\"BasicTicker\"},{\"attributes\":{\"plot\":null,\"text\":\"green book\"},\"id\":\"13c6dbec-cc98-4f32-bdae-446c3888ea84\",\"type\":\"Title\"},{\"attributes\":{\"below\":[{\"id\":\"70913ac3-5bef-4891-a8b7-0b4b5cb0ad58\",\"type\":\"CategoricalAxis\"}],\"left\":[{\"id\":\"7d6244ab-0d88-424c-9f3a-49180355896d\",\"type\":\"LinearAxis\"}],\"renderers\":[{\"id\":\"70913ac3-5bef-4891-a8b7-0b4b5cb0ad58\",\"type\":\"CategoricalAxis\"},{\"id\":\"243faec8-198d-4724-bb25-46e8bcedd51c\",\"type\":\"Grid\"},{\"id\":\"7d6244ab-0d88-424c-9f3a-49180355896d\",\"type\":\"LinearAxis\"},{\"id\":\"7661e6a9-84f4-4b3e-bfcf-9056dcdef5ed\",\"type\":\"Grid\"},{\"id\":\"6a4fb530-01ee-4bf8-98c3-507695b47349\",\"type\":\"GlyphRenderer\"}],\"title\":{\"id\":\"13c6dbec-cc98-4f32-bdae-446c3888ea84\",\"type\":\"Title\"},\"toolbar\":{\"id\":\"d43c47ff-afb5-4948-afba-3d2ae921f665\",\"type\":\"Toolbar\"},\"toolbar_location\":null,\"x_range\":{\"id\":\"103f8b99-7a4e-44fa-a29e-919ae29ee836\",\"type\":\"FactorRange\"},\"x_scale\":{\"id\":\"529d6d12-94c8-4334-b615-1dc0313c096d\",\"type\":\"CategoricalScale\"},\"y_range\":{\"id\":\"03934c03-4d38-4d33-8005-6bd85a0fffd8\",\"type\":\"DataRange1d\"},\"y_scale\":{\"id\":\"d1ac310c-9e1a-46cc-8fbd-eea13f29e4f2\",\"type\":\"LinearScale\"}},\"id\":\"c19b78cd-558d-44ae-bf79-984582fd8f0f\",\"subtype\":\"Figure\",\"type\":\"Plot\"},{\"attributes\":{},\"id\":\"4b2ee657-60e2-42f7-919e-20218f8850d5\",\"type\":\"CategoricalTickFormatter\"},{\"attributes\":{},\"id\":\"1c2d71b0-a7e3-4bb2-9823-429dc8f936a6\",\"type\":\"CategoricalTicker\"},{\"attributes\":{},\"id\":\"5b2d5dc1-ad8b-498a-b9a2-d1b82c449e00\",\"type\":\"BasicTickFormatter\"},{\"attributes\":{\"formatter\":{\"id\":\"4b2ee657-60e2-42f7-919e-20218f8850d5\",\"type\":\"CategoricalTickFormatter\"},\"plot\":{\"id\":\"c19b78cd-558d-44ae-bf79-984582fd8f0f\",\"subtype\":\"Figure\",\"type\":\"Plot\"},\"ticker\":{\"id\":\"1c2d71b0-a7e3-4bb2-9823-429dc8f936a6\",\"type\":\"CategoricalTicker\"}},\"id\":\"70913ac3-5bef-4891-a8b7-0b4b5cb0ad58\",\"type\":\"CategoricalAxis\"},{\"attributes\":{},\"id\":\"d1ac310c-9e1a-46cc-8fbd-eea13f29e4f2\",\"type\":\"LinearScale\"},{\"attributes\":{\"active_drag\":\"auto\",\"active_inspect\":\"auto\",\"active_multi\":null,\"active_scroll\":\"auto\",\"active_tap\":\"auto\"},\"id\":\"d43c47ff-afb5-4948-afba-3d2ae921f665\",\"type\":\"Toolbar\"},{\"attributes\":{\"callback\":null,\"factors\":[\"rt_all_critics\",\"rt_top_critics\",\"rt_audience_score\"]},\"id\":\"103f8b99-7a4e-44fa-a29e-919ae29ee836\",\"type\":\"FactorRange\"},{\"attributes\":{\"data_source\":{\"id\":\"e4ccc46d-6924-4062-9f3e-aa649105bf3a\",\"type\":\"ColumnDataSource\"},\"glyph\":{\"id\":\"9676043c-51d0-4f38-a65a-74955e884114\",\"type\":\"VBar\"},\"hover_glyph\":null,\"muted_glyph\":null,\"nonselection_glyph\":{\"id\":\"8a4f2106-b569-44d0-9260-3b52b9b036cc\",\"type\":\"VBar\"},\"selection_glyph\":null,\"view\":{\"id\":\"4d2ccf3b-8e8b-45ed-8d49-2f09372d3add\",\"type\":\"CDSView\"}},\"id\":\"6a4fb530-01ee-4bf8-98c3-507695b47349\",\"type\":\"GlyphRenderer\"},{\"attributes\":{\"dimension\":1,\"plot\":{\"id\":\"c19b78cd-558d-44ae-bf79-984582fd8f0f\",\"subtype\":\"Figure\",\"type\":\"Plot\"},\"ticker\":{\"id\":\"e4ab5b4a-7841-4a46-8222-6c33597ef85a\",\"type\":\"BasicTicker\"}},\"id\":\"7661e6a9-84f4-4b3e-bfcf-9056dcdef5ed\",\"type\":\"Grid\"},{\"attributes\":{\"callback\":null,\"data\":{\"highlight\":[\"#3F3F3F\",\"#3F3F3F\",\"#B49823\"],\"index\":[36,44,52],\"movie\":[\"green book\",\"green book\",\"green book\"],\"value\":[82,80,95],\"variable\":[\"rt_all_critics\",\"rt_top_critics\",\"rt_audience_score\"]},\"selected\":{\"id\":\"92faa5a4-9a0e-4c7c-9f77-cd530b59e524\",\"type\":\"Selection\"},\"selection_policy\":{\"id\":\"2742bc90-8df9-4ef4-abbd-51792fa18928\",\"type\":\"UnionRenderers\"}},\"id\":\"e4ccc46d-6924-4062-9f3e-aa649105bf3a\",\"type\":\"ColumnDataSource\"},{\"attributes\":{\"source\":{\"id\":\"e4ccc46d-6924-4062-9f3e-aa649105bf3a\",\"type\":\"ColumnDataSource\"}},\"id\":\"4d2ccf3b-8e8b-45ed-8d49-2f09372d3add\",\"type\":\"CDSView\"},{\"attributes\":{\"fill_color\":{\"field\":\"highlight\"},\"line_color\":{\"value\":\"#A8A8A8\"},\"top\":{\"field\":\"value\"},\"width\":{\"value\":0.9},\"x\":{\"field\":\"variable\"}},\"id\":\"9676043c-51d0-4f38-a65a-74955e884114\",\"type\":\"VBar\"}],\"root_ids\":[\"c19b78cd-558d-44ae-bf79-984582fd8f0f\"]},\"title\":\"Bokeh Application\",\"version\":\"0.13.0\"}};\n",
       "  var render_items = [{\"docid\":\"1f1ed823-e6a4-438b-93df-73aab9d5394d\",\"roots\":{\"c19b78cd-558d-44ae-bf79-984582fd8f0f\":\"c0a8d48c-4a17-4098-a677-48a18e5e5797\"}}];\n",
       "  root.Bokeh.embed.embed_items_notebook(docs_json, render_items);\n",
       "\n",
       "  }\n",
       "  if (root.Bokeh !== undefined) {\n",
       "    embed_document(root);\n",
       "  } else {\n",
       "    var attempts = 0;\n",
       "    var timer = setInterval(function(root) {\n",
       "      if (root.Bokeh !== undefined) {\n",
       "        embed_document(root);\n",
       "        clearInterval(timer);\n",
       "      }\n",
       "      attempts++;\n",
       "      if (attempts > 100) {\n",
       "        console.log(\"Bokeh: ERROR: Unable to run BokehJS code because BokehJS library is missing\")\n",
       "        clearInterval(timer);\n",
       "      }\n",
       "    }, 10, root)\n",
       "  }\n",
       "})(window);"
      ],
      "application/vnd.bokehjs_exec.v0+json": ""
     },
     "metadata": {
      "application/vnd.bokehjs_exec.v0+json": {
       "id": "c19b78cd-558d-44ae-bf79-984582fd8f0f"
      }
     },
     "output_type": "display_data"
    },
    {
     "data": {
      "text/html": [
       "\n",
       "\n",
       "\n",
       "\n",
       "\n",
       "\n",
       "  <div class=\"bk-root\" id=\"08c08077-5f15-416d-bcc8-62e0b1155976\"></div>\n"
      ]
     },
     "metadata": {},
     "output_type": "display_data"
    },
    {
     "data": {
      "application/javascript": [
       "(function(root) {\n",
       "  function embed_document(root) {\n",
       "    \n",
       "  var docs_json = {\"d67c840b-a2b7-413b-8791-e9a06c0be706\":{\"roots\":{\"references\":[{\"attributes\":{\"callback\":null,\"factors\":[\"rt_all_critics\",\"rt_top_critics\",\"rt_audience_score\"]},\"id\":\"ee2244ab-b05e-4bce-9af9-def53ee04a41\",\"type\":\"FactorRange\"},{\"attributes\":{\"callback\":null,\"data\":{\"highlight\":[\"#3F3F3F\",\"#B49823\",\"#3F3F3F\"],\"index\":[37,45,53],\"movie\":[\"roma\",\"roma\",\"roma\"],\"value\":[96,98,83],\"variable\":[\"rt_all_critics\",\"rt_top_critics\",\"rt_audience_score\"]},\"selected\":{\"id\":\"82fc0533-5eea-41b2-b77f-bdaa7ad88170\",\"type\":\"Selection\"},\"selection_policy\":{\"id\":\"c33eaf47-dd88-4506-b8e0-8173854913ed\",\"type\":\"UnionRenderers\"}},\"id\":\"6cfa627f-9a9c-42ae-b871-24f24c9be73b\",\"type\":\"ColumnDataSource\"},{\"attributes\":{\"active_drag\":\"auto\",\"active_inspect\":\"auto\",\"active_multi\":null,\"active_scroll\":\"auto\",\"active_tap\":\"auto\"},\"id\":\"82feea90-1733-4513-93f7-619b1b74215f\",\"type\":\"Toolbar\"},{\"attributes\":{\"fill_color\":{\"field\":\"highlight\"},\"line_color\":{\"value\":\"#A8A8A8\"},\"top\":{\"field\":\"value\"},\"width\":{\"value\":0.9},\"x\":{\"field\":\"variable\"}},\"id\":\"79d03224-9eb1-445c-8f86-83d98ccc8779\",\"type\":\"VBar\"},{\"attributes\":{},\"id\":\"c33eaf47-dd88-4506-b8e0-8173854913ed\",\"type\":\"UnionRenderers\"},{\"attributes\":{\"dimension\":1,\"plot\":{\"id\":\"d0de68a0-e5a1-4fd7-92aa-2977a292b3dd\",\"subtype\":\"Figure\",\"type\":\"Plot\"},\"ticker\":{\"id\":\"f7cc676e-a700-4766-aa78-9b832f66023e\",\"type\":\"BasicTicker\"}},\"id\":\"af6d22f9-f37a-48c6-b206-808fa5fd3c94\",\"type\":\"Grid\"},{\"attributes\":{\"data_source\":{\"id\":\"6cfa627f-9a9c-42ae-b871-24f24c9be73b\",\"type\":\"ColumnDataSource\"},\"glyph\":{\"id\":\"79d03224-9eb1-445c-8f86-83d98ccc8779\",\"type\":\"VBar\"},\"hover_glyph\":null,\"muted_glyph\":null,\"nonselection_glyph\":{\"id\":\"44da979f-2db3-4542-9971-14c40d9b47e4\",\"type\":\"VBar\"},\"selection_glyph\":null,\"view\":{\"id\":\"653227a4-2db4-4486-8fae-115170c711a8\",\"type\":\"CDSView\"}},\"id\":\"ac13a0fd-0248-4117-9f76-aefbcb4fdd4b\",\"type\":\"GlyphRenderer\"},{\"attributes\":{\"plot\":{\"id\":\"d0de68a0-e5a1-4fd7-92aa-2977a292b3dd\",\"subtype\":\"Figure\",\"type\":\"Plot\"},\"ticker\":{\"id\":\"5afabf7b-beaf-4926-aea5-ea4d5c54f491\",\"type\":\"CategoricalTicker\"}},\"id\":\"7689888b-6e52-4fda-bb91-1d7e87502d2a\",\"type\":\"Grid\"},{\"attributes\":{},\"id\":\"11e515dd-0dd2-4966-8232-298cc1d4f664\",\"type\":\"CategoricalScale\"},{\"attributes\":{},\"id\":\"bb917695-84cf-4ce2-88fc-a841615e202d\",\"type\":\"LinearScale\"},{\"attributes\":{\"formatter\":{\"id\":\"ff505f79-e678-4639-a746-adba1f246a75\",\"type\":\"BasicTickFormatter\"},\"plot\":{\"id\":\"d0de68a0-e5a1-4fd7-92aa-2977a292b3dd\",\"subtype\":\"Figure\",\"type\":\"Plot\"},\"ticker\":{\"id\":\"f7cc676e-a700-4766-aa78-9b832f66023e\",\"type\":\"BasicTicker\"}},\"id\":\"19a17ea6-d6c4-42e1-88a4-9c8432ae793e\",\"type\":\"LinearAxis\"},{\"attributes\":{},\"id\":\"82fc0533-5eea-41b2-b77f-bdaa7ad88170\",\"type\":\"Selection\"},{\"attributes\":{\"formatter\":{\"id\":\"bbe0e297-1cfd-4c0b-a5fb-c0b96b2d6d9d\",\"type\":\"CategoricalTickFormatter\"},\"plot\":{\"id\":\"d0de68a0-e5a1-4fd7-92aa-2977a292b3dd\",\"subtype\":\"Figure\",\"type\":\"Plot\"},\"ticker\":{\"id\":\"5afabf7b-beaf-4926-aea5-ea4d5c54f491\",\"type\":\"CategoricalTicker\"}},\"id\":\"8ba1c509-6107-4556-aec2-7615e95800b4\",\"type\":\"CategoricalAxis\"},{\"attributes\":{\"callback\":null},\"id\":\"23aa4f6d-a484-410e-8b63-fb90a475e683\",\"type\":\"DataRange1d\"},{\"attributes\":{\"fill_alpha\":{\"value\":0.1},\"fill_color\":{\"value\":\"#1f77b4\"},\"line_alpha\":{\"value\":0.1},\"line_color\":{\"value\":\"#1f77b4\"},\"top\":{\"field\":\"value\"},\"width\":{\"value\":0.9},\"x\":{\"field\":\"variable\"}},\"id\":\"44da979f-2db3-4542-9971-14c40d9b47e4\",\"type\":\"VBar\"},{\"attributes\":{\"below\":[{\"id\":\"8ba1c509-6107-4556-aec2-7615e95800b4\",\"type\":\"CategoricalAxis\"}],\"left\":[{\"id\":\"19a17ea6-d6c4-42e1-88a4-9c8432ae793e\",\"type\":\"LinearAxis\"}],\"renderers\":[{\"id\":\"8ba1c509-6107-4556-aec2-7615e95800b4\",\"type\":\"CategoricalAxis\"},{\"id\":\"7689888b-6e52-4fda-bb91-1d7e87502d2a\",\"type\":\"Grid\"},{\"id\":\"19a17ea6-d6c4-42e1-88a4-9c8432ae793e\",\"type\":\"LinearAxis\"},{\"id\":\"af6d22f9-f37a-48c6-b206-808fa5fd3c94\",\"type\":\"Grid\"},{\"id\":\"ac13a0fd-0248-4117-9f76-aefbcb4fdd4b\",\"type\":\"GlyphRenderer\"}],\"title\":{\"id\":\"aab39748-e879-48e0-b8e5-875956b0e664\",\"type\":\"Title\"},\"toolbar\":{\"id\":\"82feea90-1733-4513-93f7-619b1b74215f\",\"type\":\"Toolbar\"},\"toolbar_location\":null,\"x_range\":{\"id\":\"ee2244ab-b05e-4bce-9af9-def53ee04a41\",\"type\":\"FactorRange\"},\"x_scale\":{\"id\":\"11e515dd-0dd2-4966-8232-298cc1d4f664\",\"type\":\"CategoricalScale\"},\"y_range\":{\"id\":\"23aa4f6d-a484-410e-8b63-fb90a475e683\",\"type\":\"DataRange1d\"},\"y_scale\":{\"id\":\"bb917695-84cf-4ce2-88fc-a841615e202d\",\"type\":\"LinearScale\"}},\"id\":\"d0de68a0-e5a1-4fd7-92aa-2977a292b3dd\",\"subtype\":\"Figure\",\"type\":\"Plot\"},{\"attributes\":{},\"id\":\"bbe0e297-1cfd-4c0b-a5fb-c0b96b2d6d9d\",\"type\":\"CategoricalTickFormatter\"},{\"attributes\":{},\"id\":\"ff505f79-e678-4639-a746-adba1f246a75\",\"type\":\"BasicTickFormatter\"},{\"attributes\":{\"source\":{\"id\":\"6cfa627f-9a9c-42ae-b871-24f24c9be73b\",\"type\":\"ColumnDataSource\"}},\"id\":\"653227a4-2db4-4486-8fae-115170c711a8\",\"type\":\"CDSView\"},{\"attributes\":{},\"id\":\"f7cc676e-a700-4766-aa78-9b832f66023e\",\"type\":\"BasicTicker\"},{\"attributes\":{\"plot\":null,\"text\":\"roma\"},\"id\":\"aab39748-e879-48e0-b8e5-875956b0e664\",\"type\":\"Title\"},{\"attributes\":{},\"id\":\"5afabf7b-beaf-4926-aea5-ea4d5c54f491\",\"type\":\"CategoricalTicker\"}],\"root_ids\":[\"d0de68a0-e5a1-4fd7-92aa-2977a292b3dd\"]},\"title\":\"Bokeh Application\",\"version\":\"0.13.0\"}};\n",
       "  var render_items = [{\"docid\":\"d67c840b-a2b7-413b-8791-e9a06c0be706\",\"roots\":{\"d0de68a0-e5a1-4fd7-92aa-2977a292b3dd\":\"08c08077-5f15-416d-bcc8-62e0b1155976\"}}];\n",
       "  root.Bokeh.embed.embed_items_notebook(docs_json, render_items);\n",
       "\n",
       "  }\n",
       "  if (root.Bokeh !== undefined) {\n",
       "    embed_document(root);\n",
       "  } else {\n",
       "    var attempts = 0;\n",
       "    var timer = setInterval(function(root) {\n",
       "      if (root.Bokeh !== undefined) {\n",
       "        embed_document(root);\n",
       "        clearInterval(timer);\n",
       "      }\n",
       "      attempts++;\n",
       "      if (attempts > 100) {\n",
       "        console.log(\"Bokeh: ERROR: Unable to run BokehJS code because BokehJS library is missing\")\n",
       "        clearInterval(timer);\n",
       "      }\n",
       "    }, 10, root)\n",
       "  }\n",
       "})(window);"
      ],
      "application/vnd.bokehjs_exec.v0+json": ""
     },
     "metadata": {
      "application/vnd.bokehjs_exec.v0+json": {
       "id": "d0de68a0-e5a1-4fd7-92aa-2977a292b3dd"
      }
     },
     "output_type": "display_data"
    },
    {
     "data": {
      "text/html": [
       "\n",
       "\n",
       "\n",
       "\n",
       "\n",
       "\n",
       "  <div class=\"bk-root\" id=\"6957ce9b-8100-4fb0-a906-a264552bd3a8\"></div>\n"
      ]
     },
     "metadata": {},
     "output_type": "display_data"
    },
    {
     "data": {
      "application/javascript": [
       "(function(root) {\n",
       "  function embed_document(root) {\n",
       "    \n",
       "  var docs_json = {\"f3dddfcb-efbb-401d-ad7b-f653c47a6e36\":{\"roots\":{\"references\":[{\"attributes\":{},\"id\":\"b40d766d-b480-4076-b7c5-cec6b8c53c4d\",\"type\":\"CategoricalTickFormatter\"},{\"attributes\":{\"fill_color\":{\"field\":\"highlight\"},\"line_color\":{\"value\":\"#A8A8A8\"},\"top\":{\"field\":\"value\"},\"width\":{\"value\":0.9},\"x\":{\"field\":\"variable\"}},\"id\":\"d22821a9-f953-491b-9d68-68c1ef62e04a\",\"type\":\"VBar\"},{\"attributes\":{},\"id\":\"96bbf7ef-9b46-4038-9a0c-6be8cab22955\",\"type\":\"BasicTickFormatter\"},{\"attributes\":{\"data_source\":{\"id\":\"8ccaee68-dde9-4b71-a987-d95c93dc1e44\",\"type\":\"ColumnDataSource\"},\"glyph\":{\"id\":\"d22821a9-f953-491b-9d68-68c1ef62e04a\",\"type\":\"VBar\"},\"hover_glyph\":null,\"muted_glyph\":null,\"nonselection_glyph\":{\"id\":\"141b0771-6106-469f-b026-847600887027\",\"type\":\"VBar\"},\"selection_glyph\":null,\"view\":{\"id\":\"d79fadee-fe9d-4b8c-ace0-017a53a3109f\",\"type\":\"CDSView\"}},\"id\":\"1c227090-d5d9-41be-9941-4000d288bd8e\",\"type\":\"GlyphRenderer\"},{\"attributes\":{\"fill_alpha\":{\"value\":0.1},\"fill_color\":{\"value\":\"#1f77b4\"},\"line_alpha\":{\"value\":0.1},\"line_color\":{\"value\":\"#1f77b4\"},\"top\":{\"field\":\"value\"},\"width\":{\"value\":0.9},\"x\":{\"field\":\"variable\"}},\"id\":\"141b0771-6106-469f-b026-847600887027\",\"type\":\"VBar\"},{\"attributes\":{\"plot\":null,\"text\":\"a star is born\"},\"id\":\"91a59ce7-a6e6-427c-b097-86b20d4a222e\",\"type\":\"Title\"},{\"attributes\":{\"callback\":null,\"data\":{\"highlight\":[\"#3F3F3F\",\"#B49823\",\"#3F3F3F\"],\"index\":[38,46,54],\"movie\":[\"a star is born\",\"a star is born\",\"a star is born\"],\"value\":[90,96,80],\"variable\":[\"rt_all_critics\",\"rt_top_critics\",\"rt_audience_score\"]},\"selected\":{\"id\":\"ee2b0f43-9019-406f-9881-68e6045e6589\",\"type\":\"Selection\"},\"selection_policy\":{\"id\":\"c5f5c60b-2cb4-4eb4-acca-00fac43b86e1\",\"type\":\"UnionRenderers\"}},\"id\":\"8ccaee68-dde9-4b71-a987-d95c93dc1e44\",\"type\":\"ColumnDataSource\"},{\"attributes\":{\"dimension\":1,\"plot\":{\"id\":\"d3ead5db-8e57-4c63-89c9-c1c8a339d786\",\"subtype\":\"Figure\",\"type\":\"Plot\"},\"ticker\":{\"id\":\"576dae72-30fe-4073-9c16-5976cb5dfa69\",\"type\":\"BasicTicker\"}},\"id\":\"53b9219c-b544-4132-9861-48ce8b88e30c\",\"type\":\"Grid\"},{\"attributes\":{},\"id\":\"576dae72-30fe-4073-9c16-5976cb5dfa69\",\"type\":\"BasicTicker\"},{\"attributes\":{\"below\":[{\"id\":\"2e0417e5-7c22-4e0e-93f6-5815169bb8fb\",\"type\":\"CategoricalAxis\"}],\"left\":[{\"id\":\"15abe8ff-a5a3-4149-bb08-afcd7777ca39\",\"type\":\"LinearAxis\"}],\"renderers\":[{\"id\":\"2e0417e5-7c22-4e0e-93f6-5815169bb8fb\",\"type\":\"CategoricalAxis\"},{\"id\":\"a7ea79d4-bbff-4e1b-b748-bd821fbcd82b\",\"type\":\"Grid\"},{\"id\":\"15abe8ff-a5a3-4149-bb08-afcd7777ca39\",\"type\":\"LinearAxis\"},{\"id\":\"53b9219c-b544-4132-9861-48ce8b88e30c\",\"type\":\"Grid\"},{\"id\":\"1c227090-d5d9-41be-9941-4000d288bd8e\",\"type\":\"GlyphRenderer\"}],\"title\":{\"id\":\"91a59ce7-a6e6-427c-b097-86b20d4a222e\",\"type\":\"Title\"},\"toolbar\":{\"id\":\"8283bbe4-23a0-41e4-abad-dc230974d771\",\"type\":\"Toolbar\"},\"toolbar_location\":null,\"x_range\":{\"id\":\"1ee25d8b-aa12-4fb6-a194-06fce5e0d7ae\",\"type\":\"FactorRange\"},\"x_scale\":{\"id\":\"6ee657de-3150-4087-8680-a8df9bd513be\",\"type\":\"CategoricalScale\"},\"y_range\":{\"id\":\"ac79bc77-83b5-45ac-a393-405fb5dba2db\",\"type\":\"DataRange1d\"},\"y_scale\":{\"id\":\"656c24d3-e6d2-4268-889c-c66f556e2b55\",\"type\":\"LinearScale\"}},\"id\":\"d3ead5db-8e57-4c63-89c9-c1c8a339d786\",\"subtype\":\"Figure\",\"type\":\"Plot\"},{\"attributes\":{},\"id\":\"c5f5c60b-2cb4-4eb4-acca-00fac43b86e1\",\"type\":\"UnionRenderers\"},{\"attributes\":{\"active_drag\":\"auto\",\"active_inspect\":\"auto\",\"active_multi\":null,\"active_scroll\":\"auto\",\"active_tap\":\"auto\"},\"id\":\"8283bbe4-23a0-41e4-abad-dc230974d771\",\"type\":\"Toolbar\"},{\"attributes\":{\"source\":{\"id\":\"8ccaee68-dde9-4b71-a987-d95c93dc1e44\",\"type\":\"ColumnDataSource\"}},\"id\":\"d79fadee-fe9d-4b8c-ace0-017a53a3109f\",\"type\":\"CDSView\"},{\"attributes\":{\"callback\":null,\"factors\":[\"rt_all_critics\",\"rt_top_critics\",\"rt_audience_score\"]},\"id\":\"1ee25d8b-aa12-4fb6-a194-06fce5e0d7ae\",\"type\":\"FactorRange\"},{\"attributes\":{\"formatter\":{\"id\":\"b40d766d-b480-4076-b7c5-cec6b8c53c4d\",\"type\":\"CategoricalTickFormatter\"},\"plot\":{\"id\":\"d3ead5db-8e57-4c63-89c9-c1c8a339d786\",\"subtype\":\"Figure\",\"type\":\"Plot\"},\"ticker\":{\"id\":\"3f50f2da-6296-437d-b782-3bcdc456d335\",\"type\":\"CategoricalTicker\"}},\"id\":\"2e0417e5-7c22-4e0e-93f6-5815169bb8fb\",\"type\":\"CategoricalAxis\"},{\"attributes\":{\"plot\":{\"id\":\"d3ead5db-8e57-4c63-89c9-c1c8a339d786\",\"subtype\":\"Figure\",\"type\":\"Plot\"},\"ticker\":{\"id\":\"3f50f2da-6296-437d-b782-3bcdc456d335\",\"type\":\"CategoricalTicker\"}},\"id\":\"a7ea79d4-bbff-4e1b-b748-bd821fbcd82b\",\"type\":\"Grid\"},{\"attributes\":{\"formatter\":{\"id\":\"96bbf7ef-9b46-4038-9a0c-6be8cab22955\",\"type\":\"BasicTickFormatter\"},\"plot\":{\"id\":\"d3ead5db-8e57-4c63-89c9-c1c8a339d786\",\"subtype\":\"Figure\",\"type\":\"Plot\"},\"ticker\":{\"id\":\"576dae72-30fe-4073-9c16-5976cb5dfa69\",\"type\":\"BasicTicker\"}},\"id\":\"15abe8ff-a5a3-4149-bb08-afcd7777ca39\",\"type\":\"LinearAxis\"},{\"attributes\":{\"callback\":null},\"id\":\"ac79bc77-83b5-45ac-a393-405fb5dba2db\",\"type\":\"DataRange1d\"},{\"attributes\":{},\"id\":\"656c24d3-e6d2-4268-889c-c66f556e2b55\",\"type\":\"LinearScale\"},{\"attributes\":{},\"id\":\"ee2b0f43-9019-406f-9881-68e6045e6589\",\"type\":\"Selection\"},{\"attributes\":{},\"id\":\"3f50f2da-6296-437d-b782-3bcdc456d335\",\"type\":\"CategoricalTicker\"},{\"attributes\":{},\"id\":\"6ee657de-3150-4087-8680-a8df9bd513be\",\"type\":\"CategoricalScale\"}],\"root_ids\":[\"d3ead5db-8e57-4c63-89c9-c1c8a339d786\"]},\"title\":\"Bokeh Application\",\"version\":\"0.13.0\"}};\n",
       "  var render_items = [{\"docid\":\"f3dddfcb-efbb-401d-ad7b-f653c47a6e36\",\"roots\":{\"d3ead5db-8e57-4c63-89c9-c1c8a339d786\":\"6957ce9b-8100-4fb0-a906-a264552bd3a8\"}}];\n",
       "  root.Bokeh.embed.embed_items_notebook(docs_json, render_items);\n",
       "\n",
       "  }\n",
       "  if (root.Bokeh !== undefined) {\n",
       "    embed_document(root);\n",
       "  } else {\n",
       "    var attempts = 0;\n",
       "    var timer = setInterval(function(root) {\n",
       "      if (root.Bokeh !== undefined) {\n",
       "        embed_document(root);\n",
       "        clearInterval(timer);\n",
       "      }\n",
       "      attempts++;\n",
       "      if (attempts > 100) {\n",
       "        console.log(\"Bokeh: ERROR: Unable to run BokehJS code because BokehJS library is missing\")\n",
       "        clearInterval(timer);\n",
       "      }\n",
       "    }, 10, root)\n",
       "  }\n",
       "})(window);"
      ],
      "application/vnd.bokehjs_exec.v0+json": ""
     },
     "metadata": {
      "application/vnd.bokehjs_exec.v0+json": {
       "id": "d3ead5db-8e57-4c63-89c9-c1c8a339d786"
      }
     },
     "output_type": "display_data"
    },
    {
     "data": {
      "text/html": [
       "\n",
       "\n",
       "\n",
       "\n",
       "\n",
       "\n",
       "  <div class=\"bk-root\" id=\"06c4c5f2-9a10-4161-9db6-10a49ad28dc4\"></div>\n"
      ]
     },
     "metadata": {},
     "output_type": "display_data"
    },
    {
     "data": {
      "application/javascript": [
       "(function(root) {\n",
       "  function embed_document(root) {\n",
       "    \n",
       "  var docs_json = {\"8bc4271c-84a7-4fd5-bc3c-f5e6f5a6bd42\":{\"roots\":{\"references\":[{\"attributes\":{},\"id\":\"d77e78de-f6d3-4a6d-af1d-e89874d0120f\",\"type\":\"CategoricalTicker\"},{\"attributes\":{},\"id\":\"c6507ed3-890e-41a5-85c9-7e7179979a94\",\"type\":\"CategoricalScale\"},{\"attributes\":{\"active_drag\":\"auto\",\"active_inspect\":\"auto\",\"active_multi\":null,\"active_scroll\":\"auto\",\"active_tap\":\"auto\"},\"id\":\"2494f5c9-fde2-4aea-a0ff-2760c3c2ace0\",\"type\":\"Toolbar\"},{\"attributes\":{\"callback\":null,\"factors\":[\"rt_all_critics\",\"rt_top_critics\",\"rt_audience_score\"]},\"id\":\"b80b22dc-9854-44bb-afa4-3a61e3471c3d\",\"type\":\"FactorRange\"},{\"attributes\":{\"data_source\":{\"id\":\"b6aaa9a1-8862-42e4-80f6-0e134def1124\",\"type\":\"ColumnDataSource\"},\"glyph\":{\"id\":\"17ae4593-c14c-43a4-9dc8-75e91e837fa0\",\"type\":\"VBar\"},\"hover_glyph\":null,\"muted_glyph\":null,\"nonselection_glyph\":{\"id\":\"d10f6e6e-8666-4213-ba6b-1acc48156e9e\",\"type\":\"VBar\"},\"selection_glyph\":null,\"view\":{\"id\":\"4426b3db-ed0b-4e4c-9ad6-369917700a74\",\"type\":\"CDSView\"}},\"id\":\"d056da47-fc6c-4cc6-b680-635ebed4922f\",\"type\":\"GlyphRenderer\"},{\"attributes\":{\"formatter\":{\"id\":\"e2521c79-9290-4789-a2a7-6dd97d916dc3\",\"type\":\"BasicTickFormatter\"},\"plot\":{\"id\":\"d3fb886d-2546-4894-a58f-76050fcc2f27\",\"subtype\":\"Figure\",\"type\":\"Plot\"},\"ticker\":{\"id\":\"ece610f1-5b8f-4ead-93e0-c4a01a536360\",\"type\":\"BasicTicker\"}},\"id\":\"cd84f85b-9268-408c-ae52-c74a8b331141\",\"type\":\"LinearAxis\"},{\"attributes\":{},\"id\":\"ece610f1-5b8f-4ead-93e0-c4a01a536360\",\"type\":\"BasicTicker\"},{\"attributes\":{},\"id\":\"46683a0b-b9d6-4686-b192-92254e064593\",\"type\":\"CategoricalTickFormatter\"},{\"attributes\":{\"source\":{\"id\":\"b6aaa9a1-8862-42e4-80f6-0e134def1124\",\"type\":\"ColumnDataSource\"}},\"id\":\"4426b3db-ed0b-4e4c-9ad6-369917700a74\",\"type\":\"CDSView\"},{\"attributes\":{\"plot\":null,\"text\":\"vice\"},\"id\":\"838a2e62-dbed-4dd2-bb60-ed4a6b308237\",\"type\":\"Title\"},{\"attributes\":{\"callback\":null,\"data\":{\"highlight\":[\"#B49823\",\"#3F3F3F\",\"#3F3F3F\"],\"index\":[39,47,55],\"movie\":[\"vice\",\"vice\",\"vice\"],\"value\":[66,59,55],\"variable\":[\"rt_all_critics\",\"rt_top_critics\",\"rt_audience_score\"]},\"selected\":{\"id\":\"ce330a00-8761-4315-a02c-26e5bf70666d\",\"type\":\"Selection\"},\"selection_policy\":{\"id\":\"44a00469-2b02-48e8-8d20-2046fbeadbda\",\"type\":\"UnionRenderers\"}},\"id\":\"b6aaa9a1-8862-42e4-80f6-0e134def1124\",\"type\":\"ColumnDataSource\"},{\"attributes\":{\"fill_alpha\":{\"value\":0.1},\"fill_color\":{\"value\":\"#1f77b4\"},\"line_alpha\":{\"value\":0.1},\"line_color\":{\"value\":\"#1f77b4\"},\"top\":{\"field\":\"value\"},\"width\":{\"value\":0.9},\"x\":{\"field\":\"variable\"}},\"id\":\"d10f6e6e-8666-4213-ba6b-1acc48156e9e\",\"type\":\"VBar\"},{\"attributes\":{\"callback\":null},\"id\":\"4d0c9495-1fd4-442a-a185-aefaf46ff8e1\",\"type\":\"DataRange1d\"},{\"attributes\":{\"fill_color\":{\"field\":\"highlight\"},\"line_color\":{\"value\":\"#A8A8A8\"},\"top\":{\"field\":\"value\"},\"width\":{\"value\":0.9},\"x\":{\"field\":\"variable\"}},\"id\":\"17ae4593-c14c-43a4-9dc8-75e91e837fa0\",\"type\":\"VBar\"},{\"attributes\":{\"below\":[{\"id\":\"ebdd89e1-d3ea-498c-8708-502acb1bf1c6\",\"type\":\"CategoricalAxis\"}],\"left\":[{\"id\":\"cd84f85b-9268-408c-ae52-c74a8b331141\",\"type\":\"LinearAxis\"}],\"renderers\":[{\"id\":\"ebdd89e1-d3ea-498c-8708-502acb1bf1c6\",\"type\":\"CategoricalAxis\"},{\"id\":\"f52bb757-8910-4066-bd7f-38e452adacee\",\"type\":\"Grid\"},{\"id\":\"cd84f85b-9268-408c-ae52-c74a8b331141\",\"type\":\"LinearAxis\"},{\"id\":\"7ff34ee5-5a04-49ea-aee3-ed5ed7438f31\",\"type\":\"Grid\"},{\"id\":\"d056da47-fc6c-4cc6-b680-635ebed4922f\",\"type\":\"GlyphRenderer\"}],\"title\":{\"id\":\"838a2e62-dbed-4dd2-bb60-ed4a6b308237\",\"type\":\"Title\"},\"toolbar\":{\"id\":\"2494f5c9-fde2-4aea-a0ff-2760c3c2ace0\",\"type\":\"Toolbar\"},\"toolbar_location\":null,\"x_range\":{\"id\":\"b80b22dc-9854-44bb-afa4-3a61e3471c3d\",\"type\":\"FactorRange\"},\"x_scale\":{\"id\":\"c6507ed3-890e-41a5-85c9-7e7179979a94\",\"type\":\"CategoricalScale\"},\"y_range\":{\"id\":\"4d0c9495-1fd4-442a-a185-aefaf46ff8e1\",\"type\":\"DataRange1d\"},\"y_scale\":{\"id\":\"8646f97f-f429-4398-936b-c9b4ef54420c\",\"type\":\"LinearScale\"}},\"id\":\"d3fb886d-2546-4894-a58f-76050fcc2f27\",\"subtype\":\"Figure\",\"type\":\"Plot\"},{\"attributes\":{},\"id\":\"8646f97f-f429-4398-936b-c9b4ef54420c\",\"type\":\"LinearScale\"},{\"attributes\":{\"dimension\":1,\"plot\":{\"id\":\"d3fb886d-2546-4894-a58f-76050fcc2f27\",\"subtype\":\"Figure\",\"type\":\"Plot\"},\"ticker\":{\"id\":\"ece610f1-5b8f-4ead-93e0-c4a01a536360\",\"type\":\"BasicTicker\"}},\"id\":\"7ff34ee5-5a04-49ea-aee3-ed5ed7438f31\",\"type\":\"Grid\"},{\"attributes\":{},\"id\":\"44a00469-2b02-48e8-8d20-2046fbeadbda\",\"type\":\"UnionRenderers\"},{\"attributes\":{\"formatter\":{\"id\":\"46683a0b-b9d6-4686-b192-92254e064593\",\"type\":\"CategoricalTickFormatter\"},\"plot\":{\"id\":\"d3fb886d-2546-4894-a58f-76050fcc2f27\",\"subtype\":\"Figure\",\"type\":\"Plot\"},\"ticker\":{\"id\":\"d77e78de-f6d3-4a6d-af1d-e89874d0120f\",\"type\":\"CategoricalTicker\"}},\"id\":\"ebdd89e1-d3ea-498c-8708-502acb1bf1c6\",\"type\":\"CategoricalAxis\"},{\"attributes\":{},\"id\":\"e2521c79-9290-4789-a2a7-6dd97d916dc3\",\"type\":\"BasicTickFormatter\"},{\"attributes\":{},\"id\":\"ce330a00-8761-4315-a02c-26e5bf70666d\",\"type\":\"Selection\"},{\"attributes\":{\"plot\":{\"id\":\"d3fb886d-2546-4894-a58f-76050fcc2f27\",\"subtype\":\"Figure\",\"type\":\"Plot\"},\"ticker\":{\"id\":\"d77e78de-f6d3-4a6d-af1d-e89874d0120f\",\"type\":\"CategoricalTicker\"}},\"id\":\"f52bb757-8910-4066-bd7f-38e452adacee\",\"type\":\"Grid\"}],\"root_ids\":[\"d3fb886d-2546-4894-a58f-76050fcc2f27\"]},\"title\":\"Bokeh Application\",\"version\":\"0.13.0\"}};\n",
       "  var render_items = [{\"docid\":\"8bc4271c-84a7-4fd5-bc3c-f5e6f5a6bd42\",\"roots\":{\"d3fb886d-2546-4894-a58f-76050fcc2f27\":\"06c4c5f2-9a10-4161-9db6-10a49ad28dc4\"}}];\n",
       "  root.Bokeh.embed.embed_items_notebook(docs_json, render_items);\n",
       "\n",
       "  }\n",
       "  if (root.Bokeh !== undefined) {\n",
       "    embed_document(root);\n",
       "  } else {\n",
       "    var attempts = 0;\n",
       "    var timer = setInterval(function(root) {\n",
       "      if (root.Bokeh !== undefined) {\n",
       "        embed_document(root);\n",
       "        clearInterval(timer);\n",
       "      }\n",
       "      attempts++;\n",
       "      if (attempts > 100) {\n",
       "        console.log(\"Bokeh: ERROR: Unable to run BokehJS code because BokehJS library is missing\")\n",
       "        clearInterval(timer);\n",
       "      }\n",
       "    }, 10, root)\n",
       "  }\n",
       "})(window);"
      ],
      "application/vnd.bokehjs_exec.v0+json": ""
     },
     "metadata": {
      "application/vnd.bokehjs_exec.v0+json": {
       "id": "d3fb886d-2546-4894-a58f-76050fcc2f27"
      }
     },
     "output_type": "display_data"
    }
   ],
   "source": [
    "for movie in movies:\n",
    "    df_temp = df_reviews.loc[(df_reviews['movie'] == movie) & (df_reviews['variable'].str[:2] == 'rt'), :]\n",
    "    df_temp.loc[:, 'highlight'] = colors[1]\n",
    "    df_temp.loc[df_temp['value'] == df_temp['value'].max(), 'highlight'] = colors[0]\n",
    "    \n",
    "    p = figure(x_range = df_temp['variable'],\n",
    "               title = movie, \n",
    "               toolbar_location = None, \n",
    "               tools = \"\")\n",
    "\n",
    "    p.vbar(source = df_temp,\n",
    "           x = 'variable',\n",
    "           top = 'value', \n",
    "           color = 'highlight',\n",
    "           line_color = colors[2],\n",
    "           width = 0.9)\n",
    "    \n",
    "    show(p)"
   ]
  },
  {
   "cell_type": "code",
   "execution_count": 7,
   "metadata": {
    "scrolled": false
   },
   "outputs": [
    {
     "name": "stderr",
     "output_type": "stream",
     "text": [
      "/Users/mattyancey/anaconda3/lib/python3.6/site-packages/ipykernel_launcher.py:4: SettingWithCopyWarning: \n",
      "A value is trying to be set on a copy of a slice from a DataFrame\n",
      "\n",
      "See the caveats in the documentation: http://pandas.pydata.org/pandas-docs/stable/indexing.html#indexing-view-versus-copy\n",
      "  after removing the cwd from sys.path.\n"
     ]
    },
    {
     "data": {
      "text/html": [
       "\n",
       "\n",
       "\n",
       "\n",
       "\n",
       "\n",
       "  <div class=\"bk-root\" id=\"8109d2bd-977c-4269-8b22-c29c38929363\"></div>\n"
      ]
     },
     "metadata": {},
     "output_type": "display_data"
    },
    {
     "data": {
      "application/javascript": [
       "(function(root) {\n",
       "  function embed_document(root) {\n",
       "    \n",
       "  var docs_json = {\"781cc4be-65e6-4aba-8417-bea8df5fbf1e\":{\"roots\":{\"references\":[{\"attributes\":{\"callback\":null,\"data\":{\"highlight\":[\"#B49823\",\"#3F3F3F\"],\"index\":[64,72],\"movie\":[\"black panther\",\"black panther\"],\"value\":[\"700059566\",\"646853595\"],\"variable\":[\"bo_domestic\",\"bo_foreign\"]},\"selected\":{\"id\":\"72627f47-1016-4175-b63e-1f7a6d70ff7d\",\"type\":\"Selection\"},\"selection_policy\":{\"id\":\"44e41d7a-9ef9-48a4-9bb6-816a6490f367\",\"type\":\"UnionRenderers\"}},\"id\":\"94921dd1-71c5-4c1d-b693-12e1669466cf\",\"type\":\"ColumnDataSource\"},{\"attributes\":{},\"id\":\"abd81445-5ee6-4168-90aa-80c557ab3242\",\"type\":\"CategoricalTicker\"},{\"attributes\":{\"plot\":{\"id\":\"0792d019-2994-4a44-9436-96f62ec3838f\",\"subtype\":\"Figure\",\"type\":\"Plot\"},\"ticker\":{\"id\":\"abd81445-5ee6-4168-90aa-80c557ab3242\",\"type\":\"CategoricalTicker\"}},\"id\":\"a2a496b7-256c-45b2-908c-9364f703c3fc\",\"type\":\"Grid\"},{\"attributes\":{},\"id\":\"72627f47-1016-4175-b63e-1f7a6d70ff7d\",\"type\":\"Selection\"},{\"attributes\":{},\"id\":\"491c9764-a9d3-460b-88e8-fd065c430ca6\",\"type\":\"LinearScale\"},{\"attributes\":{\"plot\":null,\"text\":\"black panther\"},\"id\":\"d11fc499-8f4b-41af-b6f9-d6a9bda301e2\",\"type\":\"Title\"},{\"attributes\":{\"formatter\":{\"id\":\"94294811-ff18-4975-a09e-835ef1b12664\",\"type\":\"CategoricalTickFormatter\"},\"plot\":{\"id\":\"0792d019-2994-4a44-9436-96f62ec3838f\",\"subtype\":\"Figure\",\"type\":\"Plot\"},\"ticker\":{\"id\":\"abd81445-5ee6-4168-90aa-80c557ab3242\",\"type\":\"CategoricalTicker\"}},\"id\":\"1a72efdd-1748-47ac-b899-7cb44bf7ae1a\",\"type\":\"CategoricalAxis\"},{\"attributes\":{},\"id\":\"94294811-ff18-4975-a09e-835ef1b12664\",\"type\":\"CategoricalTickFormatter\"},{\"attributes\":{},\"id\":\"44e41d7a-9ef9-48a4-9bb6-816a6490f367\",\"type\":\"UnionRenderers\"},{\"attributes\":{},\"id\":\"5669bee7-1cca-4fbe-be32-c44fe209cf2b\",\"type\":\"CategoricalScale\"},{\"attributes\":{\"callback\":null},\"id\":\"410ebbea-ce11-4fe2-a83a-6c5bbbe9081a\",\"type\":\"DataRange1d\"},{\"attributes\":{\"fill_alpha\":{\"value\":0.1},\"fill_color\":{\"value\":\"#1f77b4\"},\"line_alpha\":{\"value\":0.1},\"line_color\":{\"value\":\"#1f77b4\"},\"top\":{\"field\":\"value\"},\"width\":{\"value\":0.9},\"x\":{\"field\":\"variable\"}},\"id\":\"6fd89586-cd79-4a6f-8072-9be795e761dd\",\"type\":\"VBar\"},{\"attributes\":{},\"id\":\"78daf729-68d8-468f-ab79-beb511debbf4\",\"type\":\"BasicTickFormatter\"},{\"attributes\":{\"callback\":null,\"factors\":[\"bo_domestic\",\"bo_foreign\"]},\"id\":\"cbc38291-d8a1-4c0e-b6b3-4c6c29911075\",\"type\":\"FactorRange\"},{\"attributes\":{\"data_source\":{\"id\":\"94921dd1-71c5-4c1d-b693-12e1669466cf\",\"type\":\"ColumnDataSource\"},\"glyph\":{\"id\":\"05e32a6c-eb73-4221-b835-da7e2d746c73\",\"type\":\"VBar\"},\"hover_glyph\":null,\"muted_glyph\":null,\"nonselection_glyph\":{\"id\":\"6fd89586-cd79-4a6f-8072-9be795e761dd\",\"type\":\"VBar\"},\"selection_glyph\":null,\"view\":{\"id\":\"9321c403-896d-4931-ae1b-1ee69bff55c1\",\"type\":\"CDSView\"}},\"id\":\"08abd198-c26a-4469-bb2f-b63563bfb5e4\",\"type\":\"GlyphRenderer\"},{\"attributes\":{\"active_drag\":\"auto\",\"active_inspect\":\"auto\",\"active_multi\":null,\"active_scroll\":\"auto\",\"active_tap\":\"auto\"},\"id\":\"aee9391e-5fd9-4d5f-9c01-74afc3a00fc1\",\"type\":\"Toolbar\"},{\"attributes\":{\"source\":{\"id\":\"94921dd1-71c5-4c1d-b693-12e1669466cf\",\"type\":\"ColumnDataSource\"}},\"id\":\"9321c403-896d-4931-ae1b-1ee69bff55c1\",\"type\":\"CDSView\"},{\"attributes\":{\"below\":[{\"id\":\"1a72efdd-1748-47ac-b899-7cb44bf7ae1a\",\"type\":\"CategoricalAxis\"}],\"left\":[{\"id\":\"b29ce7f7-846f-4eb5-beb3-033374d6d674\",\"type\":\"LinearAxis\"}],\"renderers\":[{\"id\":\"1a72efdd-1748-47ac-b899-7cb44bf7ae1a\",\"type\":\"CategoricalAxis\"},{\"id\":\"a2a496b7-256c-45b2-908c-9364f703c3fc\",\"type\":\"Grid\"},{\"id\":\"b29ce7f7-846f-4eb5-beb3-033374d6d674\",\"type\":\"LinearAxis\"},{\"id\":\"0da035d1-b708-4dfa-a8e7-097d84166705\",\"type\":\"Grid\"},{\"id\":\"08abd198-c26a-4469-bb2f-b63563bfb5e4\",\"type\":\"GlyphRenderer\"}],\"title\":{\"id\":\"d11fc499-8f4b-41af-b6f9-d6a9bda301e2\",\"type\":\"Title\"},\"toolbar\":{\"id\":\"aee9391e-5fd9-4d5f-9c01-74afc3a00fc1\",\"type\":\"Toolbar\"},\"toolbar_location\":null,\"x_range\":{\"id\":\"cbc38291-d8a1-4c0e-b6b3-4c6c29911075\",\"type\":\"FactorRange\"},\"x_scale\":{\"id\":\"5669bee7-1cca-4fbe-be32-c44fe209cf2b\",\"type\":\"CategoricalScale\"},\"y_range\":{\"id\":\"410ebbea-ce11-4fe2-a83a-6c5bbbe9081a\",\"type\":\"DataRange1d\"},\"y_scale\":{\"id\":\"491c9764-a9d3-460b-88e8-fd065c430ca6\",\"type\":\"LinearScale\"}},\"id\":\"0792d019-2994-4a44-9436-96f62ec3838f\",\"subtype\":\"Figure\",\"type\":\"Plot\"},{\"attributes\":{\"fill_color\":{\"field\":\"highlight\"},\"line_color\":{\"value\":\"#A8A8A8\"},\"top\":{\"field\":\"value\"},\"width\":{\"value\":0.9},\"x\":{\"field\":\"variable\"}},\"id\":\"05e32a6c-eb73-4221-b835-da7e2d746c73\",\"type\":\"VBar\"},{\"attributes\":{\"formatter\":{\"id\":\"78daf729-68d8-468f-ab79-beb511debbf4\",\"type\":\"BasicTickFormatter\"},\"plot\":{\"id\":\"0792d019-2994-4a44-9436-96f62ec3838f\",\"subtype\":\"Figure\",\"type\":\"Plot\"},\"ticker\":{\"id\":\"cd2dcb12-e2aa-4c77-ac35-ddfd8a67d49b\",\"type\":\"BasicTicker\"}},\"id\":\"b29ce7f7-846f-4eb5-beb3-033374d6d674\",\"type\":\"LinearAxis\"},{\"attributes\":{\"dimension\":1,\"plot\":{\"id\":\"0792d019-2994-4a44-9436-96f62ec3838f\",\"subtype\":\"Figure\",\"type\":\"Plot\"},\"ticker\":{\"id\":\"cd2dcb12-e2aa-4c77-ac35-ddfd8a67d49b\",\"type\":\"BasicTicker\"}},\"id\":\"0da035d1-b708-4dfa-a8e7-097d84166705\",\"type\":\"Grid\"},{\"attributes\":{},\"id\":\"cd2dcb12-e2aa-4c77-ac35-ddfd8a67d49b\",\"type\":\"BasicTicker\"}],\"root_ids\":[\"0792d019-2994-4a44-9436-96f62ec3838f\"]},\"title\":\"Bokeh Application\",\"version\":\"0.13.0\"}};\n",
       "  var render_items = [{\"docid\":\"781cc4be-65e6-4aba-8417-bea8df5fbf1e\",\"roots\":{\"0792d019-2994-4a44-9436-96f62ec3838f\":\"8109d2bd-977c-4269-8b22-c29c38929363\"}}];\n",
       "  root.Bokeh.embed.embed_items_notebook(docs_json, render_items);\n",
       "\n",
       "  }\n",
       "  if (root.Bokeh !== undefined) {\n",
       "    embed_document(root);\n",
       "  } else {\n",
       "    var attempts = 0;\n",
       "    var timer = setInterval(function(root) {\n",
       "      if (root.Bokeh !== undefined) {\n",
       "        embed_document(root);\n",
       "        clearInterval(timer);\n",
       "      }\n",
       "      attempts++;\n",
       "      if (attempts > 100) {\n",
       "        console.log(\"Bokeh: ERROR: Unable to run BokehJS code because BokehJS library is missing\")\n",
       "        clearInterval(timer);\n",
       "      }\n",
       "    }, 10, root)\n",
       "  }\n",
       "})(window);"
      ],
      "application/vnd.bokehjs_exec.v0+json": ""
     },
     "metadata": {
      "application/vnd.bokehjs_exec.v0+json": {
       "id": "0792d019-2994-4a44-9436-96f62ec3838f"
      }
     },
     "output_type": "display_data"
    },
    {
     "data": {
      "text/html": [
       "\n",
       "\n",
       "\n",
       "\n",
       "\n",
       "\n",
       "  <div class=\"bk-root\" id=\"b796d079-a5a1-4fbb-aa7a-145d81e642df\"></div>\n"
      ]
     },
     "metadata": {},
     "output_type": "display_data"
    },
    {
     "data": {
      "application/javascript": [
       "(function(root) {\n",
       "  function embed_document(root) {\n",
       "    \n",
       "  var docs_json = {\"f5baf319-29f9-457a-ae32-4f6c0ce4f6ab\":{\"roots\":{\"references\":[{\"attributes\":{\"dimension\":1,\"plot\":{\"id\":\"b93fef5e-b486-4829-b8df-f27b537f1eea\",\"subtype\":\"Figure\",\"type\":\"Plot\"},\"ticker\":{\"id\":\"70a9325d-00c2-4cad-a7a5-aa921695d249\",\"type\":\"BasicTicker\"}},\"id\":\"915a506b-45b1-45d2-a522-d71acb4e94a8\",\"type\":\"Grid\"},{\"attributes\":{},\"id\":\"cc18b10f-0b72-4fae-9125-bb67cd822f37\",\"type\":\"CategoricalTicker\"},{\"attributes\":{\"active_drag\":\"auto\",\"active_inspect\":\"auto\",\"active_multi\":null,\"active_scroll\":\"auto\",\"active_tap\":\"auto\"},\"id\":\"e1b8ba57-9930-4140-b1a5-1302116c8d1e\",\"type\":\"Toolbar\"},{\"attributes\":{\"callback\":null,\"data\":{\"highlight\":[\"#B49823\",\"#3F3F3F\"],\"index\":[65,73],\"movie\":[\"blackkklansman\",\"blackkklansman\"],\"value\":[\"48636445\",\"40879527\"],\"variable\":[\"bo_domestic\",\"bo_foreign\"]},\"selected\":{\"id\":\"c4ef0561-2866-47db-a72f-895dc4e71250\",\"type\":\"Selection\"},\"selection_policy\":{\"id\":\"69bdb167-86ff-4e28-86a0-c3e2f24cfd1a\",\"type\":\"UnionRenderers\"}},\"id\":\"821c740a-b779-45f7-b4a3-574c55d4a0bf\",\"type\":\"ColumnDataSource\"},{\"attributes\":{},\"id\":\"802d6a67-0e17-4a27-a917-48f2d9ed8eb8\",\"type\":\"LinearScale\"},{\"attributes\":{\"callback\":null},\"id\":\"304ab66a-ba08-4861-8b18-5db6d99adcff\",\"type\":\"DataRange1d\"},{\"attributes\":{\"callback\":null,\"factors\":[\"bo_domestic\",\"bo_foreign\"]},\"id\":\"2608de40-4f74-4ab2-87fe-0f3814baaf2f\",\"type\":\"FactorRange\"},{\"attributes\":{\"fill_alpha\":{\"value\":0.1},\"fill_color\":{\"value\":\"#1f77b4\"},\"line_alpha\":{\"value\":0.1},\"line_color\":{\"value\":\"#1f77b4\"},\"top\":{\"field\":\"value\"},\"width\":{\"value\":0.9},\"x\":{\"field\":\"variable\"}},\"id\":\"948550bd-020b-4bbc-bcca-ad41b9a22a6e\",\"type\":\"VBar\"},{\"attributes\":{\"plot\":null,\"text\":\"blackkklansman\"},\"id\":\"fd878b8d-cc15-48b5-89cd-d497bc4e7df0\",\"type\":\"Title\"},{\"attributes\":{},\"id\":\"70a9325d-00c2-4cad-a7a5-aa921695d249\",\"type\":\"BasicTicker\"},{\"attributes\":{\"data_source\":{\"id\":\"821c740a-b779-45f7-b4a3-574c55d4a0bf\",\"type\":\"ColumnDataSource\"},\"glyph\":{\"id\":\"1d8e6504-7684-4637-8970-9717186d39e5\",\"type\":\"VBar\"},\"hover_glyph\":null,\"muted_glyph\":null,\"nonselection_glyph\":{\"id\":\"948550bd-020b-4bbc-bcca-ad41b9a22a6e\",\"type\":\"VBar\"},\"selection_glyph\":null,\"view\":{\"id\":\"9caa228e-99e1-47f9-8d83-1f199ab41e78\",\"type\":\"CDSView\"}},\"id\":\"e9ef11a0-e3a2-464a-ae18-8b0301b7125e\",\"type\":\"GlyphRenderer\"},{\"attributes\":{\"source\":{\"id\":\"821c740a-b779-45f7-b4a3-574c55d4a0bf\",\"type\":\"ColumnDataSource\"}},\"id\":\"9caa228e-99e1-47f9-8d83-1f199ab41e78\",\"type\":\"CDSView\"},{\"attributes\":{},\"id\":\"e60ebb29-bbdf-4c99-9037-12165d7162de\",\"type\":\"CategoricalTickFormatter\"},{\"attributes\":{},\"id\":\"9bf609d1-2ef3-4d2f-9ef9-b0a43a3fe927\",\"type\":\"BasicTickFormatter\"},{\"attributes\":{},\"id\":\"fe8b0a69-96fb-4025-8c5d-298bd0b81c8e\",\"type\":\"CategoricalScale\"},{\"attributes\":{},\"id\":\"69bdb167-86ff-4e28-86a0-c3e2f24cfd1a\",\"type\":\"UnionRenderers\"},{\"attributes\":{\"formatter\":{\"id\":\"e60ebb29-bbdf-4c99-9037-12165d7162de\",\"type\":\"CategoricalTickFormatter\"},\"plot\":{\"id\":\"b93fef5e-b486-4829-b8df-f27b537f1eea\",\"subtype\":\"Figure\",\"type\":\"Plot\"},\"ticker\":{\"id\":\"cc18b10f-0b72-4fae-9125-bb67cd822f37\",\"type\":\"CategoricalTicker\"}},\"id\":\"3c28b200-5ff2-4884-9a64-82b473a79b6c\",\"type\":\"CategoricalAxis\"},{\"attributes\":{},\"id\":\"c4ef0561-2866-47db-a72f-895dc4e71250\",\"type\":\"Selection\"},{\"attributes\":{\"formatter\":{\"id\":\"9bf609d1-2ef3-4d2f-9ef9-b0a43a3fe927\",\"type\":\"BasicTickFormatter\"},\"plot\":{\"id\":\"b93fef5e-b486-4829-b8df-f27b537f1eea\",\"subtype\":\"Figure\",\"type\":\"Plot\"},\"ticker\":{\"id\":\"70a9325d-00c2-4cad-a7a5-aa921695d249\",\"type\":\"BasicTicker\"}},\"id\":\"869fa6c8-d78a-4153-ad8d-f167acae0384\",\"type\":\"LinearAxis\"},{\"attributes\":{\"fill_color\":{\"field\":\"highlight\"},\"line_color\":{\"value\":\"#A8A8A8\"},\"top\":{\"field\":\"value\"},\"width\":{\"value\":0.9},\"x\":{\"field\":\"variable\"}},\"id\":\"1d8e6504-7684-4637-8970-9717186d39e5\",\"type\":\"VBar\"},{\"attributes\":{\"below\":[{\"id\":\"3c28b200-5ff2-4884-9a64-82b473a79b6c\",\"type\":\"CategoricalAxis\"}],\"left\":[{\"id\":\"869fa6c8-d78a-4153-ad8d-f167acae0384\",\"type\":\"LinearAxis\"}],\"renderers\":[{\"id\":\"3c28b200-5ff2-4884-9a64-82b473a79b6c\",\"type\":\"CategoricalAxis\"},{\"id\":\"77a8b352-2728-4dcf-8874-64d569279810\",\"type\":\"Grid\"},{\"id\":\"869fa6c8-d78a-4153-ad8d-f167acae0384\",\"type\":\"LinearAxis\"},{\"id\":\"915a506b-45b1-45d2-a522-d71acb4e94a8\",\"type\":\"Grid\"},{\"id\":\"e9ef11a0-e3a2-464a-ae18-8b0301b7125e\",\"type\":\"GlyphRenderer\"}],\"title\":{\"id\":\"fd878b8d-cc15-48b5-89cd-d497bc4e7df0\",\"type\":\"Title\"},\"toolbar\":{\"id\":\"e1b8ba57-9930-4140-b1a5-1302116c8d1e\",\"type\":\"Toolbar\"},\"toolbar_location\":null,\"x_range\":{\"id\":\"2608de40-4f74-4ab2-87fe-0f3814baaf2f\",\"type\":\"FactorRange\"},\"x_scale\":{\"id\":\"fe8b0a69-96fb-4025-8c5d-298bd0b81c8e\",\"type\":\"CategoricalScale\"},\"y_range\":{\"id\":\"304ab66a-ba08-4861-8b18-5db6d99adcff\",\"type\":\"DataRange1d\"},\"y_scale\":{\"id\":\"802d6a67-0e17-4a27-a917-48f2d9ed8eb8\",\"type\":\"LinearScale\"}},\"id\":\"b93fef5e-b486-4829-b8df-f27b537f1eea\",\"subtype\":\"Figure\",\"type\":\"Plot\"},{\"attributes\":{\"plot\":{\"id\":\"b93fef5e-b486-4829-b8df-f27b537f1eea\",\"subtype\":\"Figure\",\"type\":\"Plot\"},\"ticker\":{\"id\":\"cc18b10f-0b72-4fae-9125-bb67cd822f37\",\"type\":\"CategoricalTicker\"}},\"id\":\"77a8b352-2728-4dcf-8874-64d569279810\",\"type\":\"Grid\"}],\"root_ids\":[\"b93fef5e-b486-4829-b8df-f27b537f1eea\"]},\"title\":\"Bokeh Application\",\"version\":\"0.13.0\"}};\n",
       "  var render_items = [{\"docid\":\"f5baf319-29f9-457a-ae32-4f6c0ce4f6ab\",\"roots\":{\"b93fef5e-b486-4829-b8df-f27b537f1eea\":\"b796d079-a5a1-4fbb-aa7a-145d81e642df\"}}];\n",
       "  root.Bokeh.embed.embed_items_notebook(docs_json, render_items);\n",
       "\n",
       "  }\n",
       "  if (root.Bokeh !== undefined) {\n",
       "    embed_document(root);\n",
       "  } else {\n",
       "    var attempts = 0;\n",
       "    var timer = setInterval(function(root) {\n",
       "      if (root.Bokeh !== undefined) {\n",
       "        embed_document(root);\n",
       "        clearInterval(timer);\n",
       "      }\n",
       "      attempts++;\n",
       "      if (attempts > 100) {\n",
       "        console.log(\"Bokeh: ERROR: Unable to run BokehJS code because BokehJS library is missing\")\n",
       "        clearInterval(timer);\n",
       "      }\n",
       "    }, 10, root)\n",
       "  }\n",
       "})(window);"
      ],
      "application/vnd.bokehjs_exec.v0+json": ""
     },
     "metadata": {
      "application/vnd.bokehjs_exec.v0+json": {
       "id": "b93fef5e-b486-4829-b8df-f27b537f1eea"
      }
     },
     "output_type": "display_data"
    },
    {
     "data": {
      "text/html": [
       "\n",
       "\n",
       "\n",
       "\n",
       "\n",
       "\n",
       "  <div class=\"bk-root\" id=\"596b0166-8477-47a2-b4a1-8f541281431c\"></div>\n"
      ]
     },
     "metadata": {},
     "output_type": "display_data"
    },
    {
     "data": {
      "application/javascript": [
       "(function(root) {\n",
       "  function embed_document(root) {\n",
       "    \n",
       "  var docs_json = {\"e98256db-7c17-4db7-8172-4328c4e0b994\":{\"roots\":{\"references\":[{\"attributes\":{\"fill_color\":{\"field\":\"highlight\"},\"line_color\":{\"value\":\"#A8A8A8\"},\"top\":{\"field\":\"value\"},\"width\":{\"value\":0.9},\"x\":{\"field\":\"variable\"}},\"id\":\"1309eaf5-52e0-4747-83f4-9210ccd92342\",\"type\":\"VBar\"},{\"attributes\":{},\"id\":\"65961e92-94d0-472c-a9d6-96e18d0adfcd\",\"type\":\"CategoricalScale\"},{\"attributes\":{},\"id\":\"30e283e0-3069-4f44-b149-06fac5299ede\",\"type\":\"UnionRenderers\"},{\"attributes\":{\"callback\":null,\"data\":{\"highlight\":[\"#3F3F3F\",\"#B49823\"],\"index\":[66,74],\"movie\":[\"bohemian rhapsody\",\"bohemian rhapsody\"],\"value\":[\"205821056\",\"611616285\"],\"variable\":[\"bo_domestic\",\"bo_foreign\"]},\"selected\":{\"id\":\"2b0aaf18-cfd5-4f78-a187-7051f1872880\",\"type\":\"Selection\"},\"selection_policy\":{\"id\":\"30e283e0-3069-4f44-b149-06fac5299ede\",\"type\":\"UnionRenderers\"}},\"id\":\"36bbee33-75a6-44f6-abec-8cf2c6db383b\",\"type\":\"ColumnDataSource\"},{\"attributes\":{\"data_source\":{\"id\":\"36bbee33-75a6-44f6-abec-8cf2c6db383b\",\"type\":\"ColumnDataSource\"},\"glyph\":{\"id\":\"1309eaf5-52e0-4747-83f4-9210ccd92342\",\"type\":\"VBar\"},\"hover_glyph\":null,\"muted_glyph\":null,\"nonselection_glyph\":{\"id\":\"c786e2a5-21ef-4616-bfb8-220acce35d38\",\"type\":\"VBar\"},\"selection_glyph\":null,\"view\":{\"id\":\"e58c5bf0-9484-421b-9aeb-1cc904637c0e\",\"type\":\"CDSView\"}},\"id\":\"9229efa4-128f-4073-bff7-4421a270d8d8\",\"type\":\"GlyphRenderer\"},{\"attributes\":{\"active_drag\":\"auto\",\"active_inspect\":\"auto\",\"active_multi\":null,\"active_scroll\":\"auto\",\"active_tap\":\"auto\"},\"id\":\"043d3061-95c9-4826-b4a0-b55933cb21e4\",\"type\":\"Toolbar\"},{\"attributes\":{\"dimension\":1,\"plot\":{\"id\":\"8abe3424-52c5-4367-a8b1-def9cef8664e\",\"subtype\":\"Figure\",\"type\":\"Plot\"},\"ticker\":{\"id\":\"39a5c1e3-de5b-4ad5-ae64-5718df7d8d6a\",\"type\":\"BasicTicker\"}},\"id\":\"48581854-e63d-481d-9933-92318d0ae16a\",\"type\":\"Grid\"},{\"attributes\":{},\"id\":\"3e7271e1-f2bb-4d3f-ae84-0d5dd9500871\",\"type\":\"LinearScale\"},{\"attributes\":{},\"id\":\"2b0aaf18-cfd5-4f78-a187-7051f1872880\",\"type\":\"Selection\"},{\"attributes\":{\"formatter\":{\"id\":\"d456e3c9-e2ec-436a-954e-4ca4542073a6\",\"type\":\"BasicTickFormatter\"},\"plot\":{\"id\":\"8abe3424-52c5-4367-a8b1-def9cef8664e\",\"subtype\":\"Figure\",\"type\":\"Plot\"},\"ticker\":{\"id\":\"39a5c1e3-de5b-4ad5-ae64-5718df7d8d6a\",\"type\":\"BasicTicker\"}},\"id\":\"30a6be15-9c63-4ae4-9af6-12fbe716e98c\",\"type\":\"LinearAxis\"},{\"attributes\":{},\"id\":\"d456e3c9-e2ec-436a-954e-4ca4542073a6\",\"type\":\"BasicTickFormatter\"},{\"attributes\":{},\"id\":\"0c6d2e16-7616-4bc9-b083-725d4500df91\",\"type\":\"CategoricalTicker\"},{\"attributes\":{\"callback\":null},\"id\":\"c0297c84-7b04-4ed2-8cc2-4251a79e6552\",\"type\":\"DataRange1d\"},{\"attributes\":{},\"id\":\"b5b1c323-712b-40da-8838-7e5c97ee6f58\",\"type\":\"CategoricalTickFormatter\"},{\"attributes\":{\"fill_alpha\":{\"value\":0.1},\"fill_color\":{\"value\":\"#1f77b4\"},\"line_alpha\":{\"value\":0.1},\"line_color\":{\"value\":\"#1f77b4\"},\"top\":{\"field\":\"value\"},\"width\":{\"value\":0.9},\"x\":{\"field\":\"variable\"}},\"id\":\"c786e2a5-21ef-4616-bfb8-220acce35d38\",\"type\":\"VBar\"},{\"attributes\":{\"below\":[{\"id\":\"ca4a18ea-8f24-4d59-b096-50e73ca4fa88\",\"type\":\"CategoricalAxis\"}],\"left\":[{\"id\":\"30a6be15-9c63-4ae4-9af6-12fbe716e98c\",\"type\":\"LinearAxis\"}],\"renderers\":[{\"id\":\"ca4a18ea-8f24-4d59-b096-50e73ca4fa88\",\"type\":\"CategoricalAxis\"},{\"id\":\"210a2ad6-bb0a-48d2-bc23-574ba217acec\",\"type\":\"Grid\"},{\"id\":\"30a6be15-9c63-4ae4-9af6-12fbe716e98c\",\"type\":\"LinearAxis\"},{\"id\":\"48581854-e63d-481d-9933-92318d0ae16a\",\"type\":\"Grid\"},{\"id\":\"9229efa4-128f-4073-bff7-4421a270d8d8\",\"type\":\"GlyphRenderer\"}],\"title\":{\"id\":\"81ee85ec-1d2c-476f-ae90-5318f5d520fa\",\"type\":\"Title\"},\"toolbar\":{\"id\":\"043d3061-95c9-4826-b4a0-b55933cb21e4\",\"type\":\"Toolbar\"},\"toolbar_location\":null,\"x_range\":{\"id\":\"8a1cb3b9-02c8-432e-a5e8-ab5d31a08035\",\"type\":\"FactorRange\"},\"x_scale\":{\"id\":\"65961e92-94d0-472c-a9d6-96e18d0adfcd\",\"type\":\"CategoricalScale\"},\"y_range\":{\"id\":\"c0297c84-7b04-4ed2-8cc2-4251a79e6552\",\"type\":\"DataRange1d\"},\"y_scale\":{\"id\":\"3e7271e1-f2bb-4d3f-ae84-0d5dd9500871\",\"type\":\"LinearScale\"}},\"id\":\"8abe3424-52c5-4367-a8b1-def9cef8664e\",\"subtype\":\"Figure\",\"type\":\"Plot\"},{\"attributes\":{\"source\":{\"id\":\"36bbee33-75a6-44f6-abec-8cf2c6db383b\",\"type\":\"ColumnDataSource\"}},\"id\":\"e58c5bf0-9484-421b-9aeb-1cc904637c0e\",\"type\":\"CDSView\"},{\"attributes\":{\"callback\":null,\"factors\":[\"bo_domestic\",\"bo_foreign\"]},\"id\":\"8a1cb3b9-02c8-432e-a5e8-ab5d31a08035\",\"type\":\"FactorRange\"},{\"attributes\":{\"plot\":null,\"text\":\"bohemian rhapsody\"},\"id\":\"81ee85ec-1d2c-476f-ae90-5318f5d520fa\",\"type\":\"Title\"},{\"attributes\":{\"formatter\":{\"id\":\"b5b1c323-712b-40da-8838-7e5c97ee6f58\",\"type\":\"CategoricalTickFormatter\"},\"plot\":{\"id\":\"8abe3424-52c5-4367-a8b1-def9cef8664e\",\"subtype\":\"Figure\",\"type\":\"Plot\"},\"ticker\":{\"id\":\"0c6d2e16-7616-4bc9-b083-725d4500df91\",\"type\":\"CategoricalTicker\"}},\"id\":\"ca4a18ea-8f24-4d59-b096-50e73ca4fa88\",\"type\":\"CategoricalAxis\"},{\"attributes\":{},\"id\":\"39a5c1e3-de5b-4ad5-ae64-5718df7d8d6a\",\"type\":\"BasicTicker\"},{\"attributes\":{\"plot\":{\"id\":\"8abe3424-52c5-4367-a8b1-def9cef8664e\",\"subtype\":\"Figure\",\"type\":\"Plot\"},\"ticker\":{\"id\":\"0c6d2e16-7616-4bc9-b083-725d4500df91\",\"type\":\"CategoricalTicker\"}},\"id\":\"210a2ad6-bb0a-48d2-bc23-574ba217acec\",\"type\":\"Grid\"}],\"root_ids\":[\"8abe3424-52c5-4367-a8b1-def9cef8664e\"]},\"title\":\"Bokeh Application\",\"version\":\"0.13.0\"}};\n",
       "  var render_items = [{\"docid\":\"e98256db-7c17-4db7-8172-4328c4e0b994\",\"roots\":{\"8abe3424-52c5-4367-a8b1-def9cef8664e\":\"596b0166-8477-47a2-b4a1-8f541281431c\"}}];\n",
       "  root.Bokeh.embed.embed_items_notebook(docs_json, render_items);\n",
       "\n",
       "  }\n",
       "  if (root.Bokeh !== undefined) {\n",
       "    embed_document(root);\n",
       "  } else {\n",
       "    var attempts = 0;\n",
       "    var timer = setInterval(function(root) {\n",
       "      if (root.Bokeh !== undefined) {\n",
       "        embed_document(root);\n",
       "        clearInterval(timer);\n",
       "      }\n",
       "      attempts++;\n",
       "      if (attempts > 100) {\n",
       "        console.log(\"Bokeh: ERROR: Unable to run BokehJS code because BokehJS library is missing\")\n",
       "        clearInterval(timer);\n",
       "      }\n",
       "    }, 10, root)\n",
       "  }\n",
       "})(window);"
      ],
      "application/vnd.bokehjs_exec.v0+json": ""
     },
     "metadata": {
      "application/vnd.bokehjs_exec.v0+json": {
       "id": "8abe3424-52c5-4367-a8b1-def9cef8664e"
      }
     },
     "output_type": "display_data"
    },
    {
     "data": {
      "text/html": [
       "\n",
       "\n",
       "\n",
       "\n",
       "\n",
       "\n",
       "  <div class=\"bk-root\" id=\"3e8039b4-cfc4-44e1-a560-db5ce71c2e05\"></div>\n"
      ]
     },
     "metadata": {},
     "output_type": "display_data"
    },
    {
     "data": {
      "application/javascript": [
       "(function(root) {\n",
       "  function embed_document(root) {\n",
       "    \n",
       "  var docs_json = {\"237ecdb5-8b68-46df-86ee-e18edbbb208b\":{\"roots\":{\"references\":[{\"attributes\":{\"formatter\":{\"id\":\"b3c03946-5b02-4a33-ab9e-36767aef992d\",\"type\":\"CategoricalTickFormatter\"},\"plot\":{\"id\":\"70c077c3-1375-4cb6-b3b4-9dd85281f7cf\",\"subtype\":\"Figure\",\"type\":\"Plot\"},\"ticker\":{\"id\":\"489a097d-c01c-401e-93c4-cbe5f9b4b663\",\"type\":\"CategoricalTicker\"}},\"id\":\"274c5df5-ae3c-4e90-97d0-ee7fffb70ec6\",\"type\":\"CategoricalAxis\"},{\"attributes\":{},\"id\":\"d6046a75-293d-43b9-b37d-55eab9eda4aa\",\"type\":\"Selection\"},{\"attributes\":{\"callback\":null},\"id\":\"e07213e2-7ce7-4274-9217-95a9c68e98d8\",\"type\":\"DataRange1d\"},{\"attributes\":{},\"id\":\"54485748-55d9-4330-9433-ef91d638119d\",\"type\":\"BasicTicker\"},{\"attributes\":{},\"id\":\"d137ca39-14e2-40de-89d9-4d570384a6af\",\"type\":\"CategoricalScale\"},{\"attributes\":{},\"id\":\"c33b23af-10f3-4c3f-8277-6e53916f3681\",\"type\":\"BasicTickFormatter\"},{\"attributes\":{\"source\":{\"id\":\"3a8fdcbf-c991-42aa-b02b-3c202f8d2d02\",\"type\":\"ColumnDataSource\"}},\"id\":\"52dbb342-bd2b-4470-a11f-cf3934f0e043\",\"type\":\"CDSView\"},{\"attributes\":{\"formatter\":{\"id\":\"c33b23af-10f3-4c3f-8277-6e53916f3681\",\"type\":\"BasicTickFormatter\"},\"plot\":{\"id\":\"70c077c3-1375-4cb6-b3b4-9dd85281f7cf\",\"subtype\":\"Figure\",\"type\":\"Plot\"},\"ticker\":{\"id\":\"54485748-55d9-4330-9433-ef91d638119d\",\"type\":\"BasicTicker\"}},\"id\":\"3ef16e58-46f1-44fb-bb6a-b193cf21fd6f\",\"type\":\"LinearAxis\"},{\"attributes\":{\"callback\":null,\"data\":{\"highlight\":[\"#3F3F3F\",\"#B49823\"],\"index\":[67,75],\"movie\":[\"the favourite\",\"the favourite\"],\"value\":[\"26109876\",\"26708522\"],\"variable\":[\"bo_domestic\",\"bo_foreign\"]},\"selected\":{\"id\":\"d6046a75-293d-43b9-b37d-55eab9eda4aa\",\"type\":\"Selection\"},\"selection_policy\":{\"id\":\"062f364d-4565-408f-bbbd-ee71c5361aa2\",\"type\":\"UnionRenderers\"}},\"id\":\"3a8fdcbf-c991-42aa-b02b-3c202f8d2d02\",\"type\":\"ColumnDataSource\"},{\"attributes\":{\"fill_color\":{\"field\":\"highlight\"},\"line_color\":{\"value\":\"#A8A8A8\"},\"top\":{\"field\":\"value\"},\"width\":{\"value\":0.9},\"x\":{\"field\":\"variable\"}},\"id\":\"eb70b2fb-46ba-4698-8643-3120176d941f\",\"type\":\"VBar\"},{\"attributes\":{\"below\":[{\"id\":\"274c5df5-ae3c-4e90-97d0-ee7fffb70ec6\",\"type\":\"CategoricalAxis\"}],\"left\":[{\"id\":\"3ef16e58-46f1-44fb-bb6a-b193cf21fd6f\",\"type\":\"LinearAxis\"}],\"renderers\":[{\"id\":\"274c5df5-ae3c-4e90-97d0-ee7fffb70ec6\",\"type\":\"CategoricalAxis\"},{\"id\":\"c2fd15f7-fc04-4c1d-a924-c7487ab91abc\",\"type\":\"Grid\"},{\"id\":\"3ef16e58-46f1-44fb-bb6a-b193cf21fd6f\",\"type\":\"LinearAxis\"},{\"id\":\"fc649bb3-b991-454b-b6cd-f8f65129bda8\",\"type\":\"Grid\"},{\"id\":\"952125c7-57b3-4538-ace9-4a9d8042c26b\",\"type\":\"GlyphRenderer\"}],\"title\":{\"id\":\"818dcb57-7614-4ee6-94e3-764d55297977\",\"type\":\"Title\"},\"toolbar\":{\"id\":\"be1196ea-2782-477c-8302-56b8cc2476aa\",\"type\":\"Toolbar\"},\"toolbar_location\":null,\"x_range\":{\"id\":\"aa6cf988-8ac2-4b14-a9ad-fd389ff2464a\",\"type\":\"FactorRange\"},\"x_scale\":{\"id\":\"d137ca39-14e2-40de-89d9-4d570384a6af\",\"type\":\"CategoricalScale\"},\"y_range\":{\"id\":\"e07213e2-7ce7-4274-9217-95a9c68e98d8\",\"type\":\"DataRange1d\"},\"y_scale\":{\"id\":\"b78edb29-cdf3-4381-ad1a-f8fc21f25864\",\"type\":\"LinearScale\"}},\"id\":\"70c077c3-1375-4cb6-b3b4-9dd85281f7cf\",\"subtype\":\"Figure\",\"type\":\"Plot\"},{\"attributes\":{\"data_source\":{\"id\":\"3a8fdcbf-c991-42aa-b02b-3c202f8d2d02\",\"type\":\"ColumnDataSource\"},\"glyph\":{\"id\":\"eb70b2fb-46ba-4698-8643-3120176d941f\",\"type\":\"VBar\"},\"hover_glyph\":null,\"muted_glyph\":null,\"nonselection_glyph\":{\"id\":\"f2140867-9f6b-4a27-813c-51f44f42c049\",\"type\":\"VBar\"},\"selection_glyph\":null,\"view\":{\"id\":\"52dbb342-bd2b-4470-a11f-cf3934f0e043\",\"type\":\"CDSView\"}},\"id\":\"952125c7-57b3-4538-ace9-4a9d8042c26b\",\"type\":\"GlyphRenderer\"},{\"attributes\":{\"fill_alpha\":{\"value\":0.1},\"fill_color\":{\"value\":\"#1f77b4\"},\"line_alpha\":{\"value\":0.1},\"line_color\":{\"value\":\"#1f77b4\"},\"top\":{\"field\":\"value\"},\"width\":{\"value\":0.9},\"x\":{\"field\":\"variable\"}},\"id\":\"f2140867-9f6b-4a27-813c-51f44f42c049\",\"type\":\"VBar\"},{\"attributes\":{\"dimension\":1,\"plot\":{\"id\":\"70c077c3-1375-4cb6-b3b4-9dd85281f7cf\",\"subtype\":\"Figure\",\"type\":\"Plot\"},\"ticker\":{\"id\":\"54485748-55d9-4330-9433-ef91d638119d\",\"type\":\"BasicTicker\"}},\"id\":\"fc649bb3-b991-454b-b6cd-f8f65129bda8\",\"type\":\"Grid\"},{\"attributes\":{\"active_drag\":\"auto\",\"active_inspect\":\"auto\",\"active_multi\":null,\"active_scroll\":\"auto\",\"active_tap\":\"auto\"},\"id\":\"be1196ea-2782-477c-8302-56b8cc2476aa\",\"type\":\"Toolbar\"},{\"attributes\":{\"plot\":{\"id\":\"70c077c3-1375-4cb6-b3b4-9dd85281f7cf\",\"subtype\":\"Figure\",\"type\":\"Plot\"},\"ticker\":{\"id\":\"489a097d-c01c-401e-93c4-cbe5f9b4b663\",\"type\":\"CategoricalTicker\"}},\"id\":\"c2fd15f7-fc04-4c1d-a924-c7487ab91abc\",\"type\":\"Grid\"},{\"attributes\":{\"callback\":null,\"factors\":[\"bo_domestic\",\"bo_foreign\"]},\"id\":\"aa6cf988-8ac2-4b14-a9ad-fd389ff2464a\",\"type\":\"FactorRange\"},{\"attributes\":{},\"id\":\"b78edb29-cdf3-4381-ad1a-f8fc21f25864\",\"type\":\"LinearScale\"},{\"attributes\":{},\"id\":\"b3c03946-5b02-4a33-ab9e-36767aef992d\",\"type\":\"CategoricalTickFormatter\"},{\"attributes\":{},\"id\":\"062f364d-4565-408f-bbbd-ee71c5361aa2\",\"type\":\"UnionRenderers\"},{\"attributes\":{\"plot\":null,\"text\":\"the favourite\"},\"id\":\"818dcb57-7614-4ee6-94e3-764d55297977\",\"type\":\"Title\"},{\"attributes\":{},\"id\":\"489a097d-c01c-401e-93c4-cbe5f9b4b663\",\"type\":\"CategoricalTicker\"}],\"root_ids\":[\"70c077c3-1375-4cb6-b3b4-9dd85281f7cf\"]},\"title\":\"Bokeh Application\",\"version\":\"0.13.0\"}};\n",
       "  var render_items = [{\"docid\":\"237ecdb5-8b68-46df-86ee-e18edbbb208b\",\"roots\":{\"70c077c3-1375-4cb6-b3b4-9dd85281f7cf\":\"3e8039b4-cfc4-44e1-a560-db5ce71c2e05\"}}];\n",
       "  root.Bokeh.embed.embed_items_notebook(docs_json, render_items);\n",
       "\n",
       "  }\n",
       "  if (root.Bokeh !== undefined) {\n",
       "    embed_document(root);\n",
       "  } else {\n",
       "    var attempts = 0;\n",
       "    var timer = setInterval(function(root) {\n",
       "      if (root.Bokeh !== undefined) {\n",
       "        embed_document(root);\n",
       "        clearInterval(timer);\n",
       "      }\n",
       "      attempts++;\n",
       "      if (attempts > 100) {\n",
       "        console.log(\"Bokeh: ERROR: Unable to run BokehJS code because BokehJS library is missing\")\n",
       "        clearInterval(timer);\n",
       "      }\n",
       "    }, 10, root)\n",
       "  }\n",
       "})(window);"
      ],
      "application/vnd.bokehjs_exec.v0+json": ""
     },
     "metadata": {
      "application/vnd.bokehjs_exec.v0+json": {
       "id": "70c077c3-1375-4cb6-b3b4-9dd85281f7cf"
      }
     },
     "output_type": "display_data"
    },
    {
     "data": {
      "text/html": [
       "\n",
       "\n",
       "\n",
       "\n",
       "\n",
       "\n",
       "  <div class=\"bk-root\" id=\"21bd9674-617f-49c5-9f9c-460daf5736f0\"></div>\n"
      ]
     },
     "metadata": {},
     "output_type": "display_data"
    },
    {
     "data": {
      "application/javascript": [
       "(function(root) {\n",
       "  function embed_document(root) {\n",
       "    \n",
       "  var docs_json = {\"a800dfa8-aebe-4c96-8635-2c0e2548d342\":{\"roots\":{\"references\":[{\"attributes\":{\"below\":[{\"id\":\"394336ee-00db-42f5-a771-0bd27e8f26f2\",\"type\":\"CategoricalAxis\"}],\"left\":[{\"id\":\"59933101-52dc-4857-a14a-94a457ea4b0c\",\"type\":\"LinearAxis\"}],\"renderers\":[{\"id\":\"394336ee-00db-42f5-a771-0bd27e8f26f2\",\"type\":\"CategoricalAxis\"},{\"id\":\"1f9bf527-c52d-444c-a350-9b317c460fcf\",\"type\":\"Grid\"},{\"id\":\"59933101-52dc-4857-a14a-94a457ea4b0c\",\"type\":\"LinearAxis\"},{\"id\":\"7576fc87-00a1-47df-8ea0-5f6ba4d1f0ee\",\"type\":\"Grid\"},{\"id\":\"b88f8cff-8a7c-4578-9b52-81534d932baa\",\"type\":\"GlyphRenderer\"}],\"title\":{\"id\":\"bbf3c804-a14b-4558-93b6-6277af3cd0f3\",\"type\":\"Title\"},\"toolbar\":{\"id\":\"3f265eed-b7be-4839-adf0-70a894a92110\",\"type\":\"Toolbar\"},\"toolbar_location\":null,\"x_range\":{\"id\":\"0976fe6f-1f70-4352-bdb8-26419bf3205d\",\"type\":\"FactorRange\"},\"x_scale\":{\"id\":\"cb580fa1-259b-4ac5-89f0-e2faf87a9376\",\"type\":\"CategoricalScale\"},\"y_range\":{\"id\":\"ebb28da4-5b23-4def-bff0-b45a771d2cdb\",\"type\":\"DataRange1d\"},\"y_scale\":{\"id\":\"bc62f48d-7fa8-438c-a7f2-a7c40b54c141\",\"type\":\"LinearScale\"}},\"id\":\"70d0acbc-6a80-4b04-af06-001b5403e450\",\"subtype\":\"Figure\",\"type\":\"Plot\"},{\"attributes\":{},\"id\":\"051840b7-fcdc-4c59-878d-1508e18c3bf6\",\"type\":\"CategoricalTicker\"},{\"attributes\":{},\"id\":\"1b8ca04f-98e5-45bf-954c-8223f844d554\",\"type\":\"UnionRenderers\"},{\"attributes\":{\"active_drag\":\"auto\",\"active_inspect\":\"auto\",\"active_multi\":null,\"active_scroll\":\"auto\",\"active_tap\":\"auto\"},\"id\":\"3f265eed-b7be-4839-adf0-70a894a92110\",\"type\":\"Toolbar\"},{\"attributes\":{\"plot\":null,\"text\":\"green book\"},\"id\":\"bbf3c804-a14b-4558-93b6-6277af3cd0f3\",\"type\":\"Title\"},{\"attributes\":{\"callback\":null},\"id\":\"ebb28da4-5b23-4def-bff0-b45a771d2cdb\",\"type\":\"DataRange1d\"},{\"attributes\":{\"fill_color\":{\"field\":\"highlight\"},\"line_color\":{\"value\":\"#A8A8A8\"},\"top\":{\"field\":\"value\"},\"width\":{\"value\":0.9},\"x\":{\"field\":\"variable\"}},\"id\":\"6e34b737-32a2-4078-988b-3cc303a24391\",\"type\":\"VBar\"},{\"attributes\":{},\"id\":\"bc62f48d-7fa8-438c-a7f2-a7c40b54c141\",\"type\":\"LinearScale\"},{\"attributes\":{\"dimension\":1,\"plot\":{\"id\":\"70d0acbc-6a80-4b04-af06-001b5403e450\",\"subtype\":\"Figure\",\"type\":\"Plot\"},\"ticker\":{\"id\":\"eb28e348-6701-4ac4-8e35-ec8488d94c35\",\"type\":\"BasicTicker\"}},\"id\":\"7576fc87-00a1-47df-8ea0-5f6ba4d1f0ee\",\"type\":\"Grid\"},{\"attributes\":{},\"id\":\"cb580fa1-259b-4ac5-89f0-e2faf87a9376\",\"type\":\"CategoricalScale\"},{\"attributes\":{},\"id\":\"eb28e348-6701-4ac4-8e35-ec8488d94c35\",\"type\":\"BasicTicker\"},{\"attributes\":{},\"id\":\"97632063-f08c-4804-8992-30c4bec496e8\",\"type\":\"BasicTickFormatter\"},{\"attributes\":{\"plot\":{\"id\":\"70d0acbc-6a80-4b04-af06-001b5403e450\",\"subtype\":\"Figure\",\"type\":\"Plot\"},\"ticker\":{\"id\":\"051840b7-fcdc-4c59-878d-1508e18c3bf6\",\"type\":\"CategoricalTicker\"}},\"id\":\"1f9bf527-c52d-444c-a350-9b317c460fcf\",\"type\":\"Grid\"},{\"attributes\":{\"data_source\":{\"id\":\"73231572-3274-4a25-b5f9-b82401ced29b\",\"type\":\"ColumnDataSource\"},\"glyph\":{\"id\":\"6e34b737-32a2-4078-988b-3cc303a24391\",\"type\":\"VBar\"},\"hover_glyph\":null,\"muted_glyph\":null,\"nonselection_glyph\":{\"id\":\"b7b4ad49-2352-41b1-9005-afa06a367dd3\",\"type\":\"VBar\"},\"selection_glyph\":null,\"view\":{\"id\":\"a6a135ca-7a69-4372-9057-da98f4e1561c\",\"type\":\"CDSView\"}},\"id\":\"b88f8cff-8a7c-4578-9b52-81534d932baa\",\"type\":\"GlyphRenderer\"},{\"attributes\":{\"fill_alpha\":{\"value\":0.1},\"fill_color\":{\"value\":\"#1f77b4\"},\"line_alpha\":{\"value\":0.1},\"line_color\":{\"value\":\"#1f77b4\"},\"top\":{\"field\":\"value\"},\"width\":{\"value\":0.9},\"x\":{\"field\":\"variable\"}},\"id\":\"b7b4ad49-2352-41b1-9005-afa06a367dd3\",\"type\":\"VBar\"},{\"attributes\":{\"formatter\":{\"id\":\"97632063-f08c-4804-8992-30c4bec496e8\",\"type\":\"BasicTickFormatter\"},\"plot\":{\"id\":\"70d0acbc-6a80-4b04-af06-001b5403e450\",\"subtype\":\"Figure\",\"type\":\"Plot\"},\"ticker\":{\"id\":\"eb28e348-6701-4ac4-8e35-ec8488d94c35\",\"type\":\"BasicTicker\"}},\"id\":\"59933101-52dc-4857-a14a-94a457ea4b0c\",\"type\":\"LinearAxis\"},{\"attributes\":{\"callback\":null,\"factors\":[\"bo_domestic\",\"bo_foreign\"]},\"id\":\"0976fe6f-1f70-4352-bdb8-26419bf3205d\",\"type\":\"FactorRange\"},{\"attributes\":{},\"id\":\"9aa522a3-c807-4507-8983-7edd2251fd79\",\"type\":\"CategoricalTickFormatter\"},{\"attributes\":{},\"id\":\"947702a4-5ab4-429b-aa5c-94831b547af7\",\"type\":\"Selection\"},{\"attributes\":{\"source\":{\"id\":\"73231572-3274-4a25-b5f9-b82401ced29b\",\"type\":\"ColumnDataSource\"}},\"id\":\"a6a135ca-7a69-4372-9057-da98f4e1561c\",\"type\":\"CDSView\"},{\"attributes\":{\"callback\":null,\"data\":{\"highlight\":[\"#B49823\",\"#3F3F3F\"],\"index\":[68,76],\"movie\":[\"green book\",\"green book\"],\"value\":[\"49078216\",\"10300000\"],\"variable\":[\"bo_domestic\",\"bo_foreign\"]},\"selected\":{\"id\":\"947702a4-5ab4-429b-aa5c-94831b547af7\",\"type\":\"Selection\"},\"selection_policy\":{\"id\":\"1b8ca04f-98e5-45bf-954c-8223f844d554\",\"type\":\"UnionRenderers\"}},\"id\":\"73231572-3274-4a25-b5f9-b82401ced29b\",\"type\":\"ColumnDataSource\"},{\"attributes\":{\"formatter\":{\"id\":\"9aa522a3-c807-4507-8983-7edd2251fd79\",\"type\":\"CategoricalTickFormatter\"},\"plot\":{\"id\":\"70d0acbc-6a80-4b04-af06-001b5403e450\",\"subtype\":\"Figure\",\"type\":\"Plot\"},\"ticker\":{\"id\":\"051840b7-fcdc-4c59-878d-1508e18c3bf6\",\"type\":\"CategoricalTicker\"}},\"id\":\"394336ee-00db-42f5-a771-0bd27e8f26f2\",\"type\":\"CategoricalAxis\"}],\"root_ids\":[\"70d0acbc-6a80-4b04-af06-001b5403e450\"]},\"title\":\"Bokeh Application\",\"version\":\"0.13.0\"}};\n",
       "  var render_items = [{\"docid\":\"a800dfa8-aebe-4c96-8635-2c0e2548d342\",\"roots\":{\"70d0acbc-6a80-4b04-af06-001b5403e450\":\"21bd9674-617f-49c5-9f9c-460daf5736f0\"}}];\n",
       "  root.Bokeh.embed.embed_items_notebook(docs_json, render_items);\n",
       "\n",
       "  }\n",
       "  if (root.Bokeh !== undefined) {\n",
       "    embed_document(root);\n",
       "  } else {\n",
       "    var attempts = 0;\n",
       "    var timer = setInterval(function(root) {\n",
       "      if (root.Bokeh !== undefined) {\n",
       "        embed_document(root);\n",
       "        clearInterval(timer);\n",
       "      }\n",
       "      attempts++;\n",
       "      if (attempts > 100) {\n",
       "        console.log(\"Bokeh: ERROR: Unable to run BokehJS code because BokehJS library is missing\")\n",
       "        clearInterval(timer);\n",
       "      }\n",
       "    }, 10, root)\n",
       "  }\n",
       "})(window);"
      ],
      "application/vnd.bokehjs_exec.v0+json": ""
     },
     "metadata": {
      "application/vnd.bokehjs_exec.v0+json": {
       "id": "70d0acbc-6a80-4b04-af06-001b5403e450"
      }
     },
     "output_type": "display_data"
    },
    {
     "data": {
      "text/html": [
       "\n",
       "\n",
       "\n",
       "\n",
       "\n",
       "\n",
       "  <div class=\"bk-root\" id=\"3b36d594-17e1-42a4-90dc-2222846f65dd\"></div>\n"
      ]
     },
     "metadata": {},
     "output_type": "display_data"
    },
    {
     "data": {
      "application/javascript": [
       "(function(root) {\n",
       "  function embed_document(root) {\n",
       "    \n",
       "  var docs_json = {\"1586efaf-0db6-4f42-9688-591decf3c96c\":{\"roots\":{\"references\":[{\"attributes\":{\"active_drag\":\"auto\",\"active_inspect\":\"auto\",\"active_multi\":null,\"active_scroll\":\"auto\",\"active_tap\":\"auto\"},\"id\":\"94bd1126-dd42-4f5b-ad08-c35d93548af8\",\"type\":\"Toolbar\"},{\"attributes\":{},\"id\":\"ca41185c-a742-49b6-97d6-71dfffa332f1\",\"type\":\"LinearScale\"},{\"attributes\":{\"plot\":{\"id\":\"7ba496dc-f344-40a7-8329-5234c055684b\",\"subtype\":\"Figure\",\"type\":\"Plot\"},\"ticker\":{\"id\":\"f1ce1796-cd83-482d-9186-ab8aad8e667c\",\"type\":\"CategoricalTicker\"}},\"id\":\"e33d7563-67e9-4160-afb3-f6beffeaf2b1\",\"type\":\"Grid\"},{\"attributes\":{},\"id\":\"f8c002e4-bbfc-4b5f-8176-853af373f96a\",\"type\":\"BasicTicker\"},{\"attributes\":{},\"id\":\"3ab7b00d-7a4d-4ae6-893d-8ed929bf05e1\",\"type\":\"CategoricalScale\"},{\"attributes\":{\"source\":{\"id\":\"07755d4d-611f-4b0c-b7bf-9526a11738f5\",\"type\":\"ColumnDataSource\"}},\"id\":\"9f65c7a5-2632-4ce3-9b68-2a7440e8fed4\",\"type\":\"CDSView\"},{\"attributes\":{},\"id\":\"d7a19a72-f81e-40a5-8bd6-11d9cee89daf\",\"type\":\"Selection\"},{\"attributes\":{},\"id\":\"5883154f-59b7-43e8-aaf0-07b6cc3e9748\",\"type\":\"BasicTickFormatter\"},{\"attributes\":{},\"id\":\"0cdee9f9-e6c1-4563-9cdd-584109a24a96\",\"type\":\"CategoricalTickFormatter\"},{\"attributes\":{},\"id\":\"9dd5ae46-1f44-4127-bc5f-8590f3ea7145\",\"type\":\"UnionRenderers\"},{\"attributes\":{\"fill_color\":{\"field\":\"highlight\"},\"line_color\":{\"value\":\"#A8A8A8\"},\"top\":{\"field\":\"value\"},\"width\":{\"value\":0.9},\"x\":{\"field\":\"variable\"}},\"id\":\"ef907de3-bcbf-4cb2-9ca7-3e59d316bf7d\",\"type\":\"VBar\"},{\"attributes\":{\"formatter\":{\"id\":\"0cdee9f9-e6c1-4563-9cdd-584109a24a96\",\"type\":\"CategoricalTickFormatter\"},\"plot\":{\"id\":\"7ba496dc-f344-40a7-8329-5234c055684b\",\"subtype\":\"Figure\",\"type\":\"Plot\"},\"ticker\":{\"id\":\"f1ce1796-cd83-482d-9186-ab8aad8e667c\",\"type\":\"CategoricalTicker\"}},\"id\":\"098a7a54-d060-4377-8e97-cb8ab2eccb36\",\"type\":\"CategoricalAxis\"},{\"attributes\":{\"callback\":null},\"id\":\"be213e37-77c1-49f9-8e73-288266f2d4e6\",\"type\":\"DataRange1d\"},{\"attributes\":{\"data_source\":{\"id\":\"07755d4d-611f-4b0c-b7bf-9526a11738f5\",\"type\":\"ColumnDataSource\"},\"glyph\":{\"id\":\"ef907de3-bcbf-4cb2-9ca7-3e59d316bf7d\",\"type\":\"VBar\"},\"hover_glyph\":null,\"muted_glyph\":null,\"nonselection_glyph\":{\"id\":\"28221d7c-dc3c-4987-b006-b848ab143811\",\"type\":\"VBar\"},\"selection_glyph\":null,\"view\":{\"id\":\"9f65c7a5-2632-4ce3-9b68-2a7440e8fed4\",\"type\":\"CDSView\"}},\"id\":\"26af6632-3c99-4b1d-ade7-8ca3aba27a66\",\"type\":\"GlyphRenderer\"},{\"attributes\":{\"below\":[{\"id\":\"098a7a54-d060-4377-8e97-cb8ab2eccb36\",\"type\":\"CategoricalAxis\"}],\"left\":[{\"id\":\"53a10c7e-77e6-4b77-b3df-88cd8c9d59e9\",\"type\":\"LinearAxis\"}],\"renderers\":[{\"id\":\"098a7a54-d060-4377-8e97-cb8ab2eccb36\",\"type\":\"CategoricalAxis\"},{\"id\":\"e33d7563-67e9-4160-afb3-f6beffeaf2b1\",\"type\":\"Grid\"},{\"id\":\"53a10c7e-77e6-4b77-b3df-88cd8c9d59e9\",\"type\":\"LinearAxis\"},{\"id\":\"c9e8354f-b576-4203-b9c3-4410569c7bb7\",\"type\":\"Grid\"},{\"id\":\"26af6632-3c99-4b1d-ade7-8ca3aba27a66\",\"type\":\"GlyphRenderer\"}],\"title\":{\"id\":\"ae835824-9f0b-4a5a-945d-78444b7d1182\",\"type\":\"Title\"},\"toolbar\":{\"id\":\"94bd1126-dd42-4f5b-ad08-c35d93548af8\",\"type\":\"Toolbar\"},\"toolbar_location\":null,\"x_range\":{\"id\":\"df4d5d9b-ee88-404d-a292-10d4c6ede576\",\"type\":\"FactorRange\"},\"x_scale\":{\"id\":\"3ab7b00d-7a4d-4ae6-893d-8ed929bf05e1\",\"type\":\"CategoricalScale\"},\"y_range\":{\"id\":\"be213e37-77c1-49f9-8e73-288266f2d4e6\",\"type\":\"DataRange1d\"},\"y_scale\":{\"id\":\"ca41185c-a742-49b6-97d6-71dfffa332f1\",\"type\":\"LinearScale\"}},\"id\":\"7ba496dc-f344-40a7-8329-5234c055684b\",\"subtype\":\"Figure\",\"type\":\"Plot\"},{\"attributes\":{\"fill_alpha\":{\"value\":0.1},\"fill_color\":{\"value\":\"#1f77b4\"},\"line_alpha\":{\"value\":0.1},\"line_color\":{\"value\":\"#1f77b4\"},\"top\":{\"field\":\"value\"},\"width\":{\"value\":0.9},\"x\":{\"field\":\"variable\"}},\"id\":\"28221d7c-dc3c-4987-b006-b848ab143811\",\"type\":\"VBar\"},{\"attributes\":{\"callback\":null,\"factors\":[\"bo_domestic\",\"bo_foreign\"]},\"id\":\"df4d5d9b-ee88-404d-a292-10d4c6ede576\",\"type\":\"FactorRange\"},{\"attributes\":{},\"id\":\"f1ce1796-cd83-482d-9186-ab8aad8e667c\",\"type\":\"CategoricalTicker\"},{\"attributes\":{\"callback\":null,\"data\":{\"highlight\":[\"#B49823\",\"#B49823\"],\"index\":[69,77],\"movie\":[\"roma\",\"roma\"],\"value\":[\"nan\",\"nan\"],\"variable\":[\"bo_domestic\",\"bo_foreign\"]},\"selected\":{\"id\":\"d7a19a72-f81e-40a5-8bd6-11d9cee89daf\",\"type\":\"Selection\"},\"selection_policy\":{\"id\":\"9dd5ae46-1f44-4127-bc5f-8590f3ea7145\",\"type\":\"UnionRenderers\"}},\"id\":\"07755d4d-611f-4b0c-b7bf-9526a11738f5\",\"type\":\"ColumnDataSource\"},{\"attributes\":{\"formatter\":{\"id\":\"5883154f-59b7-43e8-aaf0-07b6cc3e9748\",\"type\":\"BasicTickFormatter\"},\"plot\":{\"id\":\"7ba496dc-f344-40a7-8329-5234c055684b\",\"subtype\":\"Figure\",\"type\":\"Plot\"},\"ticker\":{\"id\":\"f8c002e4-bbfc-4b5f-8176-853af373f96a\",\"type\":\"BasicTicker\"}},\"id\":\"53a10c7e-77e6-4b77-b3df-88cd8c9d59e9\",\"type\":\"LinearAxis\"},{\"attributes\":{\"plot\":null,\"text\":\"roma\"},\"id\":\"ae835824-9f0b-4a5a-945d-78444b7d1182\",\"type\":\"Title\"},{\"attributes\":{\"dimension\":1,\"plot\":{\"id\":\"7ba496dc-f344-40a7-8329-5234c055684b\",\"subtype\":\"Figure\",\"type\":\"Plot\"},\"ticker\":{\"id\":\"f8c002e4-bbfc-4b5f-8176-853af373f96a\",\"type\":\"BasicTicker\"}},\"id\":\"c9e8354f-b576-4203-b9c3-4410569c7bb7\",\"type\":\"Grid\"}],\"root_ids\":[\"7ba496dc-f344-40a7-8329-5234c055684b\"]},\"title\":\"Bokeh Application\",\"version\":\"0.13.0\"}};\n",
       "  var render_items = [{\"docid\":\"1586efaf-0db6-4f42-9688-591decf3c96c\",\"roots\":{\"7ba496dc-f344-40a7-8329-5234c055684b\":\"3b36d594-17e1-42a4-90dc-2222846f65dd\"}}];\n",
       "  root.Bokeh.embed.embed_items_notebook(docs_json, render_items);\n",
       "\n",
       "  }\n",
       "  if (root.Bokeh !== undefined) {\n",
       "    embed_document(root);\n",
       "  } else {\n",
       "    var attempts = 0;\n",
       "    var timer = setInterval(function(root) {\n",
       "      if (root.Bokeh !== undefined) {\n",
       "        embed_document(root);\n",
       "        clearInterval(timer);\n",
       "      }\n",
       "      attempts++;\n",
       "      if (attempts > 100) {\n",
       "        console.log(\"Bokeh: ERROR: Unable to run BokehJS code because BokehJS library is missing\")\n",
       "        clearInterval(timer);\n",
       "      }\n",
       "    }, 10, root)\n",
       "  }\n",
       "})(window);"
      ],
      "application/vnd.bokehjs_exec.v0+json": ""
     },
     "metadata": {
      "application/vnd.bokehjs_exec.v0+json": {
       "id": "7ba496dc-f344-40a7-8329-5234c055684b"
      }
     },
     "output_type": "display_data"
    },
    {
     "data": {
      "text/html": [
       "\n",
       "\n",
       "\n",
       "\n",
       "\n",
       "\n",
       "  <div class=\"bk-root\" id=\"4c5aff27-a564-4165-a872-a8d2383fc69a\"></div>\n"
      ]
     },
     "metadata": {},
     "output_type": "display_data"
    },
    {
     "data": {
      "application/javascript": [
       "(function(root) {\n",
       "  function embed_document(root) {\n",
       "    \n",
       "  var docs_json = {\"9340b306-5f08-4cb5-82ce-7f6874fde748\":{\"roots\":{\"references\":[{\"attributes\":{\"callback\":null,\"data\":{\"highlight\":[\"#3F3F3F\",\"#B49823\"],\"index\":[70,78],\"movie\":[\"a star is born\",\"a star is born\"],\"value\":[\"206361489\",\"207200000\"],\"variable\":[\"bo_domestic\",\"bo_foreign\"]},\"selected\":{\"id\":\"7473a88d-444b-47db-a576-004eb0fb59d5\",\"type\":\"Selection\"},\"selection_policy\":{\"id\":\"10355658-db5c-4707-b9f9-3d4703a52418\",\"type\":\"UnionRenderers\"}},\"id\":\"f8d5878e-3be4-49b6-8ea1-9bfa91e4d112\",\"type\":\"ColumnDataSource\"},{\"attributes\":{\"dimension\":1,\"plot\":{\"id\":\"3308858c-9fdc-4c46-bf73-31f171deb787\",\"subtype\":\"Figure\",\"type\":\"Plot\"},\"ticker\":{\"id\":\"44a37277-cee7-4bfb-a365-cc5944342257\",\"type\":\"BasicTicker\"}},\"id\":\"2207ec9d-e1e0-4f9d-bf16-6e7763b471a6\",\"type\":\"Grid\"},{\"attributes\":{\"plot\":null,\"text\":\"a star is born\"},\"id\":\"77d6fa7e-c74d-4757-9498-3f063c112fe0\",\"type\":\"Title\"},{\"attributes\":{},\"id\":\"9ab10fcb-3d0e-456a-8007-496e66e33eb4\",\"type\":\"CategoricalScale\"},{\"attributes\":{\"fill_color\":{\"field\":\"highlight\"},\"line_color\":{\"value\":\"#A8A8A8\"},\"top\":{\"field\":\"value\"},\"width\":{\"value\":0.9},\"x\":{\"field\":\"variable\"}},\"id\":\"dcfa495b-9bf4-4f84-9c4a-257d267ab5b7\",\"type\":\"VBar\"},{\"attributes\":{},\"id\":\"37066fc4-3d4b-4256-9473-ffea034a4f3b\",\"type\":\"CategoricalTicker\"},{\"attributes\":{\"fill_alpha\":{\"value\":0.1},\"fill_color\":{\"value\":\"#1f77b4\"},\"line_alpha\":{\"value\":0.1},\"line_color\":{\"value\":\"#1f77b4\"},\"top\":{\"field\":\"value\"},\"width\":{\"value\":0.9},\"x\":{\"field\":\"variable\"}},\"id\":\"0a7b9698-17cb-4e90-9577-ca95a95967cf\",\"type\":\"VBar\"},{\"attributes\":{\"formatter\":{\"id\":\"bc5979b2-be33-4cf1-be6b-41bf2fd1e57d\",\"type\":\"BasicTickFormatter\"},\"plot\":{\"id\":\"3308858c-9fdc-4c46-bf73-31f171deb787\",\"subtype\":\"Figure\",\"type\":\"Plot\"},\"ticker\":{\"id\":\"44a37277-cee7-4bfb-a365-cc5944342257\",\"type\":\"BasicTicker\"}},\"id\":\"36e94cd3-17a7-4a24-9425-dc61e8dec917\",\"type\":\"LinearAxis\"},{\"attributes\":{\"data_source\":{\"id\":\"f8d5878e-3be4-49b6-8ea1-9bfa91e4d112\",\"type\":\"ColumnDataSource\"},\"glyph\":{\"id\":\"dcfa495b-9bf4-4f84-9c4a-257d267ab5b7\",\"type\":\"VBar\"},\"hover_glyph\":null,\"muted_glyph\":null,\"nonselection_glyph\":{\"id\":\"0a7b9698-17cb-4e90-9577-ca95a95967cf\",\"type\":\"VBar\"},\"selection_glyph\":null,\"view\":{\"id\":\"f385c066-69f4-4f5c-9fc8-cab97eded801\",\"type\":\"CDSView\"}},\"id\":\"7ec41aa1-4908-422e-8959-7651ac028cbd\",\"type\":\"GlyphRenderer\"},{\"attributes\":{\"plot\":{\"id\":\"3308858c-9fdc-4c46-bf73-31f171deb787\",\"subtype\":\"Figure\",\"type\":\"Plot\"},\"ticker\":{\"id\":\"37066fc4-3d4b-4256-9473-ffea034a4f3b\",\"type\":\"CategoricalTicker\"}},\"id\":\"c84c52f0-c02a-4e2a-b550-8b20f1c3563a\",\"type\":\"Grid\"},{\"attributes\":{},\"id\":\"44a37277-cee7-4bfb-a365-cc5944342257\",\"type\":\"BasicTicker\"},{\"attributes\":{\"source\":{\"id\":\"f8d5878e-3be4-49b6-8ea1-9bfa91e4d112\",\"type\":\"ColumnDataSource\"}},\"id\":\"f385c066-69f4-4f5c-9fc8-cab97eded801\",\"type\":\"CDSView\"},{\"attributes\":{},\"id\":\"bc5979b2-be33-4cf1-be6b-41bf2fd1e57d\",\"type\":\"BasicTickFormatter\"},{\"attributes\":{\"active_drag\":\"auto\",\"active_inspect\":\"auto\",\"active_multi\":null,\"active_scroll\":\"auto\",\"active_tap\":\"auto\"},\"id\":\"b3518d7e-62e3-45c0-9a98-42b2e8479601\",\"type\":\"Toolbar\"},{\"attributes\":{},\"id\":\"7473a88d-444b-47db-a576-004eb0fb59d5\",\"type\":\"Selection\"},{\"attributes\":{},\"id\":\"393a5bff-adab-49cd-9cfe-169fb613d1d5\",\"type\":\"CategoricalTickFormatter\"},{\"attributes\":{\"formatter\":{\"id\":\"393a5bff-adab-49cd-9cfe-169fb613d1d5\",\"type\":\"CategoricalTickFormatter\"},\"plot\":{\"id\":\"3308858c-9fdc-4c46-bf73-31f171deb787\",\"subtype\":\"Figure\",\"type\":\"Plot\"},\"ticker\":{\"id\":\"37066fc4-3d4b-4256-9473-ffea034a4f3b\",\"type\":\"CategoricalTicker\"}},\"id\":\"03d8ab19-b4bf-4634-af14-f023e73b42ac\",\"type\":\"CategoricalAxis\"},{\"attributes\":{\"below\":[{\"id\":\"03d8ab19-b4bf-4634-af14-f023e73b42ac\",\"type\":\"CategoricalAxis\"}],\"left\":[{\"id\":\"36e94cd3-17a7-4a24-9425-dc61e8dec917\",\"type\":\"LinearAxis\"}],\"renderers\":[{\"id\":\"03d8ab19-b4bf-4634-af14-f023e73b42ac\",\"type\":\"CategoricalAxis\"},{\"id\":\"c84c52f0-c02a-4e2a-b550-8b20f1c3563a\",\"type\":\"Grid\"},{\"id\":\"36e94cd3-17a7-4a24-9425-dc61e8dec917\",\"type\":\"LinearAxis\"},{\"id\":\"2207ec9d-e1e0-4f9d-bf16-6e7763b471a6\",\"type\":\"Grid\"},{\"id\":\"7ec41aa1-4908-422e-8959-7651ac028cbd\",\"type\":\"GlyphRenderer\"}],\"title\":{\"id\":\"77d6fa7e-c74d-4757-9498-3f063c112fe0\",\"type\":\"Title\"},\"toolbar\":{\"id\":\"b3518d7e-62e3-45c0-9a98-42b2e8479601\",\"type\":\"Toolbar\"},\"toolbar_location\":null,\"x_range\":{\"id\":\"e9a8cef0-4f29-47b5-b63c-ef667e05395b\",\"type\":\"FactorRange\"},\"x_scale\":{\"id\":\"9ab10fcb-3d0e-456a-8007-496e66e33eb4\",\"type\":\"CategoricalScale\"},\"y_range\":{\"id\":\"c0f6c307-0965-48ac-be32-79d4be172bda\",\"type\":\"DataRange1d\"},\"y_scale\":{\"id\":\"bea72b49-b698-464c-894f-ab9db65725dc\",\"type\":\"LinearScale\"}},\"id\":\"3308858c-9fdc-4c46-bf73-31f171deb787\",\"subtype\":\"Figure\",\"type\":\"Plot\"},{\"attributes\":{\"callback\":null,\"factors\":[\"bo_domestic\",\"bo_foreign\"]},\"id\":\"e9a8cef0-4f29-47b5-b63c-ef667e05395b\",\"type\":\"FactorRange\"},{\"attributes\":{},\"id\":\"10355658-db5c-4707-b9f9-3d4703a52418\",\"type\":\"UnionRenderers\"},{\"attributes\":{\"callback\":null},\"id\":\"c0f6c307-0965-48ac-be32-79d4be172bda\",\"type\":\"DataRange1d\"},{\"attributes\":{},\"id\":\"bea72b49-b698-464c-894f-ab9db65725dc\",\"type\":\"LinearScale\"}],\"root_ids\":[\"3308858c-9fdc-4c46-bf73-31f171deb787\"]},\"title\":\"Bokeh Application\",\"version\":\"0.13.0\"}};\n",
       "  var render_items = [{\"docid\":\"9340b306-5f08-4cb5-82ce-7f6874fde748\",\"roots\":{\"3308858c-9fdc-4c46-bf73-31f171deb787\":\"4c5aff27-a564-4165-a872-a8d2383fc69a\"}}];\n",
       "  root.Bokeh.embed.embed_items_notebook(docs_json, render_items);\n",
       "\n",
       "  }\n",
       "  if (root.Bokeh !== undefined) {\n",
       "    embed_document(root);\n",
       "  } else {\n",
       "    var attempts = 0;\n",
       "    var timer = setInterval(function(root) {\n",
       "      if (root.Bokeh !== undefined) {\n",
       "        embed_document(root);\n",
       "        clearInterval(timer);\n",
       "      }\n",
       "      attempts++;\n",
       "      if (attempts > 100) {\n",
       "        console.log(\"Bokeh: ERROR: Unable to run BokehJS code because BokehJS library is missing\")\n",
       "        clearInterval(timer);\n",
       "      }\n",
       "    }, 10, root)\n",
       "  }\n",
       "})(window);"
      ],
      "application/vnd.bokehjs_exec.v0+json": ""
     },
     "metadata": {
      "application/vnd.bokehjs_exec.v0+json": {
       "id": "3308858c-9fdc-4c46-bf73-31f171deb787"
      }
     },
     "output_type": "display_data"
    },
    {
     "data": {
      "text/html": [
       "\n",
       "\n",
       "\n",
       "\n",
       "\n",
       "\n",
       "  <div class=\"bk-root\" id=\"b33240a0-61b6-4109-8ded-7b176370ce53\"></div>\n"
      ]
     },
     "metadata": {},
     "output_type": "display_data"
    },
    {
     "data": {
      "application/javascript": [
       "(function(root) {\n",
       "  function embed_document(root) {\n",
       "    \n",
       "  var docs_json = {\"c6f2dd86-30ef-415b-b19d-4bb45482363e\":{\"roots\":{\"references\":[{\"attributes\":{\"below\":[{\"id\":\"2125a624-c9b9-435e-b71c-e907027f2d99\",\"type\":\"CategoricalAxis\"}],\"left\":[{\"id\":\"a92dc585-20c4-4714-8274-5aafb8ea9c54\",\"type\":\"LinearAxis\"}],\"renderers\":[{\"id\":\"2125a624-c9b9-435e-b71c-e907027f2d99\",\"type\":\"CategoricalAxis\"},{\"id\":\"98cbbeab-99f2-4ff3-bfab-80d632a5da19\",\"type\":\"Grid\"},{\"id\":\"a92dc585-20c4-4714-8274-5aafb8ea9c54\",\"type\":\"LinearAxis\"},{\"id\":\"b6e37d54-c556-4785-a3e4-d11eda9c4d0a\",\"type\":\"Grid\"},{\"id\":\"97169d0b-c8a1-4792-aa9d-d357693e3068\",\"type\":\"GlyphRenderer\"}],\"title\":{\"id\":\"19311447-fa78-480b-81f0-d9ed0cbd28c1\",\"type\":\"Title\"},\"toolbar\":{\"id\":\"64303675-8da5-4ff9-b427-8e75867b62c9\",\"type\":\"Toolbar\"},\"toolbar_location\":null,\"x_range\":{\"id\":\"013ebd43-e481-46bc-9743-f358561e6c19\",\"type\":\"FactorRange\"},\"x_scale\":{\"id\":\"ceaed0d8-9d00-4d7c-ad0e-20000a2c3c21\",\"type\":\"CategoricalScale\"},\"y_range\":{\"id\":\"ded10ebf-d6d9-4d87-b3f0-ea8ad89c3a48\",\"type\":\"DataRange1d\"},\"y_scale\":{\"id\":\"168be7cf-1dc5-4574-b501-6f453c6c4df9\",\"type\":\"LinearScale\"}},\"id\":\"2e643ea9-5f21-4921-993c-0b90de34984c\",\"subtype\":\"Figure\",\"type\":\"Plot\"},{\"attributes\":{\"plot\":{\"id\":\"2e643ea9-5f21-4921-993c-0b90de34984c\",\"subtype\":\"Figure\",\"type\":\"Plot\"},\"ticker\":{\"id\":\"f24cb7f9-4543-408d-959f-66104738c0de\",\"type\":\"CategoricalTicker\"}},\"id\":\"98cbbeab-99f2-4ff3-bfab-80d632a5da19\",\"type\":\"Grid\"},{\"attributes\":{},\"id\":\"60a55ab2-e883-4341-9a2e-34498c3ae987\",\"type\":\"CategoricalTickFormatter\"},{\"attributes\":{\"callback\":null,\"factors\":[\"bo_domestic\",\"bo_foreign\"]},\"id\":\"013ebd43-e481-46bc-9743-f358561e6c19\",\"type\":\"FactorRange\"},{\"attributes\":{\"formatter\":{\"id\":\"60a55ab2-e883-4341-9a2e-34498c3ae987\",\"type\":\"CategoricalTickFormatter\"},\"plot\":{\"id\":\"2e643ea9-5f21-4921-993c-0b90de34984c\",\"subtype\":\"Figure\",\"type\":\"Plot\"},\"ticker\":{\"id\":\"f24cb7f9-4543-408d-959f-66104738c0de\",\"type\":\"CategoricalTicker\"}},\"id\":\"2125a624-c9b9-435e-b71c-e907027f2d99\",\"type\":\"CategoricalAxis\"},{\"attributes\":{\"callback\":null,\"data\":{\"highlight\":[\"#3F3F3F\",\"#B49823\"],\"index\":[71,79],\"movie\":[\"vice\",\"vice\"],\"value\":[\"42197631\",\"nan\"],\"variable\":[\"bo_domestic\",\"bo_foreign\"]},\"selected\":{\"id\":\"57c2dc3b-e85f-4e48-9702-81fe8cbaa307\",\"type\":\"Selection\"},\"selection_policy\":{\"id\":\"37b9f8ea-a361-41e7-b71f-d32e894d73fa\",\"type\":\"UnionRenderers\"}},\"id\":\"52f9ef4f-41ab-46cf-a2a9-db675dabee22\",\"type\":\"ColumnDataSource\"},{\"attributes\":{},\"id\":\"57c2dc3b-e85f-4e48-9702-81fe8cbaa307\",\"type\":\"Selection\"},{\"attributes\":{\"callback\":null},\"id\":\"ded10ebf-d6d9-4d87-b3f0-ea8ad89c3a48\",\"type\":\"DataRange1d\"},{\"attributes\":{},\"id\":\"6af24c88-5afc-40b5-a2f4-38493be6d0c4\",\"type\":\"BasicTickFormatter\"},{\"attributes\":{\"active_drag\":\"auto\",\"active_inspect\":\"auto\",\"active_multi\":null,\"active_scroll\":\"auto\",\"active_tap\":\"auto\"},\"id\":\"64303675-8da5-4ff9-b427-8e75867b62c9\",\"type\":\"Toolbar\"},{\"attributes\":{\"data_source\":{\"id\":\"52f9ef4f-41ab-46cf-a2a9-db675dabee22\",\"type\":\"ColumnDataSource\"},\"glyph\":{\"id\":\"601eac6f-e632-4e5e-ab11-e2b0e7346335\",\"type\":\"VBar\"},\"hover_glyph\":null,\"muted_glyph\":null,\"nonselection_glyph\":{\"id\":\"22f98902-ebe2-439a-b93c-86bf1c61c32b\",\"type\":\"VBar\"},\"selection_glyph\":null,\"view\":{\"id\":\"52549777-9d92-45c0-af53-955966aebab0\",\"type\":\"CDSView\"}},\"id\":\"97169d0b-c8a1-4792-aa9d-d357693e3068\",\"type\":\"GlyphRenderer\"},{\"attributes\":{\"formatter\":{\"id\":\"6af24c88-5afc-40b5-a2f4-38493be6d0c4\",\"type\":\"BasicTickFormatter\"},\"plot\":{\"id\":\"2e643ea9-5f21-4921-993c-0b90de34984c\",\"subtype\":\"Figure\",\"type\":\"Plot\"},\"ticker\":{\"id\":\"05821b50-ee12-49b1-9780-96c2dcdc7967\",\"type\":\"BasicTicker\"}},\"id\":\"a92dc585-20c4-4714-8274-5aafb8ea9c54\",\"type\":\"LinearAxis\"},{\"attributes\":{\"plot\":null,\"text\":\"vice\"},\"id\":\"19311447-fa78-480b-81f0-d9ed0cbd28c1\",\"type\":\"Title\"},{\"attributes\":{\"dimension\":1,\"plot\":{\"id\":\"2e643ea9-5f21-4921-993c-0b90de34984c\",\"subtype\":\"Figure\",\"type\":\"Plot\"},\"ticker\":{\"id\":\"05821b50-ee12-49b1-9780-96c2dcdc7967\",\"type\":\"BasicTicker\"}},\"id\":\"b6e37d54-c556-4785-a3e4-d11eda9c4d0a\",\"type\":\"Grid\"},{\"attributes\":{},\"id\":\"f24cb7f9-4543-408d-959f-66104738c0de\",\"type\":\"CategoricalTicker\"},{\"attributes\":{},\"id\":\"05821b50-ee12-49b1-9780-96c2dcdc7967\",\"type\":\"BasicTicker\"},{\"attributes\":{\"source\":{\"id\":\"52f9ef4f-41ab-46cf-a2a9-db675dabee22\",\"type\":\"ColumnDataSource\"}},\"id\":\"52549777-9d92-45c0-af53-955966aebab0\",\"type\":\"CDSView\"},{\"attributes\":{},\"id\":\"ceaed0d8-9d00-4d7c-ad0e-20000a2c3c21\",\"type\":\"CategoricalScale\"},{\"attributes\":{},\"id\":\"168be7cf-1dc5-4574-b501-6f453c6c4df9\",\"type\":\"LinearScale\"},{\"attributes\":{\"fill_color\":{\"field\":\"highlight\"},\"line_color\":{\"value\":\"#A8A8A8\"},\"top\":{\"field\":\"value\"},\"width\":{\"value\":0.9},\"x\":{\"field\":\"variable\"}},\"id\":\"601eac6f-e632-4e5e-ab11-e2b0e7346335\",\"type\":\"VBar\"},{\"attributes\":{},\"id\":\"37b9f8ea-a361-41e7-b71f-d32e894d73fa\",\"type\":\"UnionRenderers\"},{\"attributes\":{\"fill_alpha\":{\"value\":0.1},\"fill_color\":{\"value\":\"#1f77b4\"},\"line_alpha\":{\"value\":0.1},\"line_color\":{\"value\":\"#1f77b4\"},\"top\":{\"field\":\"value\"},\"width\":{\"value\":0.9},\"x\":{\"field\":\"variable\"}},\"id\":\"22f98902-ebe2-439a-b93c-86bf1c61c32b\",\"type\":\"VBar\"}],\"root_ids\":[\"2e643ea9-5f21-4921-993c-0b90de34984c\"]},\"title\":\"Bokeh Application\",\"version\":\"0.13.0\"}};\n",
       "  var render_items = [{\"docid\":\"c6f2dd86-30ef-415b-b19d-4bb45482363e\",\"roots\":{\"2e643ea9-5f21-4921-993c-0b90de34984c\":\"b33240a0-61b6-4109-8ded-7b176370ce53\"}}];\n",
       "  root.Bokeh.embed.embed_items_notebook(docs_json, render_items);\n",
       "\n",
       "  }\n",
       "  if (root.Bokeh !== undefined) {\n",
       "    embed_document(root);\n",
       "  } else {\n",
       "    var attempts = 0;\n",
       "    var timer = setInterval(function(root) {\n",
       "      if (root.Bokeh !== undefined) {\n",
       "        embed_document(root);\n",
       "        clearInterval(timer);\n",
       "      }\n",
       "      attempts++;\n",
       "      if (attempts > 100) {\n",
       "        console.log(\"Bokeh: ERROR: Unable to run BokehJS code because BokehJS library is missing\")\n",
       "        clearInterval(timer);\n",
       "      }\n",
       "    }, 10, root)\n",
       "  }\n",
       "})(window);"
      ],
      "application/vnd.bokehjs_exec.v0+json": ""
     },
     "metadata": {
      "application/vnd.bokehjs_exec.v0+json": {
       "id": "2e643ea9-5f21-4921-993c-0b90de34984c"
      }
     },
     "output_type": "display_data"
    }
   ],
   "source": [
    "for movie in movies:\n",
    "    df_temp = df_reviews.loc[(df_reviews['movie'] == movie) & (df_reviews['variable'].str[:2] == 'bo'), :]\n",
    "    df_temp.loc[:, 'highlight'] = colors[1]\n",
    "    df_temp.loc[df_temp['value'] == df_temp['value'].max(), 'highlight'] = colors[0]\n",
    "    \n",
    "    p = figure(x_range = df_temp['variable'],\n",
    "               title = movie, \n",
    "               toolbar_location = None, \n",
    "               tools = \"\")\n",
    "\n",
    "    p.vbar(source = df_temp,\n",
    "           x = 'variable',\n",
    "           top = 'value', \n",
    "           color = 'highlight',\n",
    "           line_color = colors[2],\n",
    "           width = 0.9)\n",
    "    \n",
    "    show(p)"
   ]
  },
  {
   "cell_type": "code",
   "execution_count": null,
   "metadata": {},
   "outputs": [],
   "source": []
  }
 ],
 "metadata": {
  "kernelspec": {
   "display_name": "Python 3",
   "language": "python",
   "name": "python3"
  },
  "language_info": {
   "codemirror_mode": {
    "name": "ipython",
    "version": 3
   },
   "file_extension": ".py",
   "mimetype": "text/x-python",
   "name": "python",
   "nbconvert_exporter": "python",
   "pygments_lexer": "ipython3",
   "version": "3.6.6"
  }
 },
 "nbformat": 4,
 "nbformat_minor": 2
}
